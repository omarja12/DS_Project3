{
  "cells": [
    {
      "cell_type": "markdown",
      "metadata": {
        "id": "view-in-github",
        "colab_type": "text"
      },
      "source": [
        "<a href=\"https://colab.research.google.com/github/omarja12/DS_Project3/blob/main/Project3_GroupD.ipynb\" target=\"_parent\"><img src=\"https://colab.research.google.com/assets/colab-badge.svg\" alt=\"Open In Colab\"/></a>"
      ]
    },
    {
      "cell_type": "markdown",
      "metadata": {
        "id": "BFmyR5ji3OZo"
      },
      "source": [
        "# Project 3 - Clustering\n",
        "## Insurance company customers' segmentation \n",
        "### This notebook uses the *a2z_insurance.sas7bdat* dataset\n",
        "\n",
        "(c) Vasco Jesus, Nuno António 2020-2022 - Rev. 1.0"
      ]
    },
    {
      "cell_type": "markdown",
      "metadata": {
        "id": "TaWemATh3OZ2"
      },
      "source": [
        "## Dataset description\n",
        "\n",
        "- **CustID**: numeric - customer ID\n",
        "- **FirstPolYear**: numeric - year of the customer's first policy. Maybe considered the first year as a customer\n",
        "- **BirthYear**: numeric - birth year of the customer. The current year of the database is 2016\n",
        "- **EducDeg**: categorical - academic degree\n",
        "- **MonthSal**: numerical - monthly gross salary (€)\n",
        "- **GeoLivArea**: numerical - codes about the area of living. No additional information is available for these codes\n",
        "- **Children**: numerical - indication if the customer has children (0: no, 1: yes)\n",
        "- **CustMonVal**: numerical - customer monetary value (CMV). CMV = (annual profit from the customer) x (number of years since a customer) - (acquisition cost)\n",
        "- **ClaimsRate**: numerical - claims rate. Amount paid by the insurance company (€)/Premiums(€) (in the last two years)\n",
        "- **PremMotor**: numerical - premiums in the Line of Business (LOB) Motor (€)\n",
        "- **PremHousehold**: numerical - premiums in the LOB Household (€)\n",
        "- **PremHealth**: numerical - premiums in the LOB Health (€)\n",
        "- **PremLife**: numerical - premiums in the LOB Life (€)\n",
        "- **PremWork**: numerical - premiums in the LOB Work (€)\n",
        "\n",
        "<br>NOTES about all Premiums:\n",
        "- Annual premiums (2016)\n",
        "- Negative premiums may manifest reversals occurred in the current year, paid in previous one(s)"
      ]
    },
    {
      "cell_type": "markdown",
      "metadata": {
        "id": "ejkHhXML3OZ6"
      },
      "source": [
        "## Work description\n",
        "\n",
        "### Overview\n",
        "<p>You should organize into groups of 3 to 5 students, where you will assume the role of a consultant. You are asked to develop a Customer Segmentation in such a way that it will be possible for the Marketing Department of an insurance company to understand all the different Customers’ Profiles better.</p>\n",
        "<p>Employing the CRISP-DM process model, you are expected to define, describe and explain the clusters you chose. Invest time in reasoning how you want to do your clustering, possible approaches, and advantages or disadvantages of different decisions. Simultaneous, you should express the marketing approach you recommend for each cluster.</p>\n",
        "\n",
        "### Questions or additional informations\n",
        "For any additional questions, don't hesitate to get in touch with the instructor. The instructor will also act as the insurance company business/project stakeholder."
      ]
    },
    {
      "cell_type": "markdown",
      "metadata": {
        "id": "rMg73CaB3OZ9"
      },
      "source": [
        "## Initializations and data loading"
      ]
    },
    {
      "cell_type": "code",
      "source": [
        "!pip install category_encoders"
      ],
      "metadata": {
        "colab": {
          "base_uri": "https://localhost:8080/"
        },
        "id": "D07TVErxxRiC",
        "outputId": "d952e96c-fa63-4c79-9c66-6cb9ac4782fe"
      },
      "execution_count": 149,
      "outputs": [
        {
          "output_type": "stream",
          "name": "stdout",
          "text": [
            "Collecting category_encoders\n",
            "  Downloading category_encoders-2.4.0-py2.py3-none-any.whl (86 kB)\n",
            "\u001b[?25l\r\u001b[K     |███▉                            | 10 kB 17.5 MB/s eta 0:00:01\r\u001b[K     |███████▋                        | 20 kB 12.5 MB/s eta 0:00:01\r\u001b[K     |███████████▍                    | 30 kB 10.1 MB/s eta 0:00:01\r\u001b[K     |███████████████▏                | 40 kB 8.7 MB/s eta 0:00:01\r\u001b[K     |███████████████████             | 51 kB 4.3 MB/s eta 0:00:01\r\u001b[K     |██████████████████████▊         | 61 kB 5.1 MB/s eta 0:00:01\r\u001b[K     |██████████████████████████▌     | 71 kB 5.5 MB/s eta 0:00:01\r\u001b[K     |██████████████████████████████▎ | 81 kB 5.7 MB/s eta 0:00:01\r\u001b[K     |████████████████████████████████| 86 kB 2.6 MB/s \n",
            "\u001b[?25hRequirement already satisfied: scipy>=1.0.0 in /usr/local/lib/python3.7/dist-packages (from category_encoders) (1.4.1)\n",
            "Requirement already satisfied: numpy>=1.14.0 in /usr/local/lib/python3.7/dist-packages (from category_encoders) (1.21.5)\n",
            "Requirement already satisfied: patsy>=0.5.1 in /usr/local/lib/python3.7/dist-packages (from category_encoders) (0.5.2)\n",
            "Requirement already satisfied: pandas>=0.21.1 in /usr/local/lib/python3.7/dist-packages (from category_encoders) (1.3.5)\n",
            "Requirement already satisfied: statsmodels>=0.9.0 in /usr/local/lib/python3.7/dist-packages (from category_encoders) (0.10.2)\n",
            "Requirement already satisfied: scikit-learn>=0.20.0 in /usr/local/lib/python3.7/dist-packages (from category_encoders) (1.0.2)\n",
            "Requirement already satisfied: python-dateutil>=2.7.3 in /usr/local/lib/python3.7/dist-packages (from pandas>=0.21.1->category_encoders) (2.8.2)\n",
            "Requirement already satisfied: pytz>=2017.3 in /usr/local/lib/python3.7/dist-packages (from pandas>=0.21.1->category_encoders) (2018.9)\n",
            "Requirement already satisfied: six in /usr/local/lib/python3.7/dist-packages (from patsy>=0.5.1->category_encoders) (1.15.0)\n",
            "Requirement already satisfied: joblib>=0.11 in /usr/local/lib/python3.7/dist-packages (from scikit-learn>=0.20.0->category_encoders) (1.1.0)\n",
            "Requirement already satisfied: threadpoolctl>=2.0.0 in /usr/local/lib/python3.7/dist-packages (from scikit-learn>=0.20.0->category_encoders) (3.1.0)\n",
            "Installing collected packages: category-encoders\n",
            "Successfully installed category-encoders-2.4.0\n"
          ]
        }
      ]
    },
    {
      "cell_type": "code",
      "source": [
        "!pip install joypy"
      ],
      "metadata": {
        "colab": {
          "base_uri": "https://localhost:8080/"
        },
        "id": "Ashzhatfxc6b",
        "outputId": "2af984de-c3f6-4e86-c48f-2dc90685032f"
      },
      "execution_count": 153,
      "outputs": [
        {
          "output_type": "stream",
          "name": "stdout",
          "text": [
            "Collecting joypy\n",
            "  Downloading joypy-0.2.6-py2.py3-none-any.whl (8.6 kB)\n",
            "Requirement already satisfied: pandas>=0.20.0 in /usr/local/lib/python3.7/dist-packages (from joypy) (1.3.5)\n",
            "Requirement already satisfied: numpy>=1.16.5 in /usr/local/lib/python3.7/dist-packages (from joypy) (1.21.5)\n",
            "Requirement already satisfied: matplotlib in /usr/local/lib/python3.7/dist-packages (from joypy) (3.2.2)\n",
            "Requirement already satisfied: scipy>=0.11.0 in /usr/local/lib/python3.7/dist-packages (from joypy) (1.4.1)\n",
            "Requirement already satisfied: pytz>=2017.3 in /usr/local/lib/python3.7/dist-packages (from pandas>=0.20.0->joypy) (2018.9)\n",
            "Requirement already satisfied: python-dateutil>=2.7.3 in /usr/local/lib/python3.7/dist-packages (from pandas>=0.20.0->joypy) (2.8.2)\n",
            "Requirement already satisfied: six>=1.5 in /usr/local/lib/python3.7/dist-packages (from python-dateutil>=2.7.3->pandas>=0.20.0->joypy) (1.15.0)\n",
            "Requirement already satisfied: cycler>=0.10 in /usr/local/lib/python3.7/dist-packages (from matplotlib->joypy) (0.11.0)\n",
            "Requirement already satisfied: kiwisolver>=1.0.1 in /usr/local/lib/python3.7/dist-packages (from matplotlib->joypy) (1.4.0)\n",
            "Requirement already satisfied: pyparsing!=2.0.4,!=2.1.2,!=2.1.6,>=2.0.1 in /usr/local/lib/python3.7/dist-packages (from matplotlib->joypy) (3.0.7)\n",
            "Requirement already satisfied: typing-extensions in /usr/local/lib/python3.7/dist-packages (from kiwisolver>=1.0.1->matplotlib->joypy) (3.10.0.2)\n",
            "Installing collected packages: joypy\n",
            "Successfully installed joypy-0.2.6\n"
          ]
        }
      ]
    },
    {
      "cell_type": "code",
      "execution_count": 154,
      "metadata": {
        "colab": {
          "base_uri": "https://localhost:8080/"
        },
        "id": "WZBs4N5c3OZ_",
        "outputId": "59ef5094-ab7e-437a-c47a-2d68a1debe14"
      },
      "outputs": [
        {
          "output_type": "stream",
          "name": "stderr",
          "text": [
            "/usr/local/lib/python3.7/dist-packages/statsmodels/tools/_testing.py:19: FutureWarning: pandas.util.testing is deprecated. Use the functions in the public API at pandas.testing instead.\n",
            "  import pandas.util.testing as tm\n"
          ]
        }
      ],
      "source": [
        "# Loading packages\n",
        "import pandas as pd\n",
        "import seaborn as sns\n",
        "import matplotlib.pyplot as plt\n",
        "import numpy as np\n",
        "\n",
        "\n",
        "\n",
        "\n",
        "# Packages\n",
        "import os\n",
        "import numpy as np\n",
        "import pandas as pd\n",
        "import matplotlib.pyplot as plt\n",
        "from matplotlib import ticker\n",
        "import seaborn as sns\n",
        "import joypy\n",
        "import category_encoders as ce\n",
        "import collections\n",
        "from sklearn.impute import SimpleImputer\n",
        "from sklearn import preprocessing\n",
        "from sklearn.cluster import KMeans\n",
        "from sklearn.decomposition import PCA\n",
        "from sklearn.metrics import silhouette_score\n",
        "from yellowbrick.cluster import KElbowVisualizer\n",
        "from yellowbrick.cluster import SilhouetteVisualizer\n",
        "from yellowbrick.cluster import InterclusterDistance"
      ]
    },
    {
      "cell_type": "code",
      "source": [
        "import requests as rq\n",
        "from io import BytesIO\n",
        "\n",
        "url = \"https://raw.githubusercontent.com/omarja12/DS_Project3/main/a2z_insurance.sas7bdat\"\n",
        "\n",
        "data = rq.get(url).content\n",
        "\n",
        "# Loading the dataset\n",
        "ds = pd.read_sas(BytesIO(data), format='sas7bdat')"
      ],
      "metadata": {
        "id": "yJ65mkwt3ioO"
      },
      "execution_count": 96,
      "outputs": []
    },
    {
      "cell_type": "code",
      "execution_count": 97,
      "metadata": {
        "colab": {
          "base_uri": "https://localhost:8080/",
          "height": 570
        },
        "id": "luOI2u-Z3OaE",
        "outputId": "333ac3d3-a4e8-4fff-b58f-35b7d27b810e"
      },
      "outputs": [
        {
          "output_type": "execute_result",
          "data": {
            "text/plain": [
              "                 count unique             top  freq         mean          std  \\\n",
              "CustID         10296.0    NaN             NaN   NaN       5148.5   2972.34352   \n",
              "FirstPolYear   10266.0    NaN             NaN   NaN  1991.062634   511.267913   \n",
              "BirthYear      10279.0    NaN             NaN   NaN  1968.007783    19.709476   \n",
              "EducDeg          10279      4  b'3 - BSc/MSc'  4799          NaN          NaN   \n",
              "MonthSal       10260.0    NaN             NaN   NaN  2506.667057  1157.449634   \n",
              "GeoLivArea     10295.0    NaN             NaN   NaN     2.709859     1.266291   \n",
              "Children       10275.0    NaN             NaN   NaN     0.706764     0.455268   \n",
              "CustMonVal     10296.0    NaN             NaN   NaN   177.892605  1945.811505   \n",
              "ClaimsRate     10296.0    NaN             NaN   NaN     0.742772     2.916964   \n",
              "PremMotor      10262.0    NaN             NaN   NaN   300.470252   211.914997   \n",
              "PremHousehold  10296.0    NaN             NaN   NaN   210.431192   352.595984   \n",
              "PremHealth     10253.0    NaN             NaN   NaN   171.580833   296.405976   \n",
              "PremLife       10192.0    NaN             NaN   NaN    41.855782    47.480632   \n",
              "PremWork       10210.0    NaN             NaN   NaN    41.277514    51.513572   \n",
              "\n",
              "                     min      25%     50%       75%       max  \n",
              "CustID               1.0  2574.75  5148.5   7722.25   10296.0  \n",
              "FirstPolYear      1974.0   1980.0  1986.0    1992.0   53784.0  \n",
              "BirthYear         1028.0   1953.0  1968.0    1983.0    2001.0  \n",
              "EducDeg              NaN      NaN     NaN       NaN       NaN  \n",
              "MonthSal           333.0   1706.0  2501.5   3290.25   55215.0  \n",
              "GeoLivArea           1.0      1.0     3.0       4.0       4.0  \n",
              "Children             0.0      0.0     1.0       1.0       1.0  \n",
              "CustMonVal    -165680.42    -9.44  186.87  399.7775  11875.89  \n",
              "ClaimsRate           0.0     0.39    0.72      0.98     256.2  \n",
              "PremMotor          -4.11   190.59  298.61     408.3  11604.42  \n",
              "PremHousehold      -75.0    49.45   132.8    290.05   25048.8  \n",
              "PremHealth         -2.11    111.8  162.81    219.82   28272.0  \n",
              "PremLife            -7.0     9.89   25.56     57.79     398.3  \n",
              "PremWork           -12.0    10.67   25.67     56.79    1988.7  "
            ],
            "text/html": [
              "\n",
              "  <div id=\"df-a447cfe4-e6ad-4394-ad62-f7b109088ac9\">\n",
              "    <div class=\"colab-df-container\">\n",
              "      <div>\n",
              "<style scoped>\n",
              "    .dataframe tbody tr th:only-of-type {\n",
              "        vertical-align: middle;\n",
              "    }\n",
              "\n",
              "    .dataframe tbody tr th {\n",
              "        vertical-align: top;\n",
              "    }\n",
              "\n",
              "    .dataframe thead th {\n",
              "        text-align: right;\n",
              "    }\n",
              "</style>\n",
              "<table border=\"1\" class=\"dataframe\">\n",
              "  <thead>\n",
              "    <tr style=\"text-align: right;\">\n",
              "      <th></th>\n",
              "      <th>count</th>\n",
              "      <th>unique</th>\n",
              "      <th>top</th>\n",
              "      <th>freq</th>\n",
              "      <th>mean</th>\n",
              "      <th>std</th>\n",
              "      <th>min</th>\n",
              "      <th>25%</th>\n",
              "      <th>50%</th>\n",
              "      <th>75%</th>\n",
              "      <th>max</th>\n",
              "    </tr>\n",
              "  </thead>\n",
              "  <tbody>\n",
              "    <tr>\n",
              "      <th>CustID</th>\n",
              "      <td>10296.0</td>\n",
              "      <td>NaN</td>\n",
              "      <td>NaN</td>\n",
              "      <td>NaN</td>\n",
              "      <td>5148.5</td>\n",
              "      <td>2972.34352</td>\n",
              "      <td>1.0</td>\n",
              "      <td>2574.75</td>\n",
              "      <td>5148.5</td>\n",
              "      <td>7722.25</td>\n",
              "      <td>10296.0</td>\n",
              "    </tr>\n",
              "    <tr>\n",
              "      <th>FirstPolYear</th>\n",
              "      <td>10266.0</td>\n",
              "      <td>NaN</td>\n",
              "      <td>NaN</td>\n",
              "      <td>NaN</td>\n",
              "      <td>1991.062634</td>\n",
              "      <td>511.267913</td>\n",
              "      <td>1974.0</td>\n",
              "      <td>1980.0</td>\n",
              "      <td>1986.0</td>\n",
              "      <td>1992.0</td>\n",
              "      <td>53784.0</td>\n",
              "    </tr>\n",
              "    <tr>\n",
              "      <th>BirthYear</th>\n",
              "      <td>10279.0</td>\n",
              "      <td>NaN</td>\n",
              "      <td>NaN</td>\n",
              "      <td>NaN</td>\n",
              "      <td>1968.007783</td>\n",
              "      <td>19.709476</td>\n",
              "      <td>1028.0</td>\n",
              "      <td>1953.0</td>\n",
              "      <td>1968.0</td>\n",
              "      <td>1983.0</td>\n",
              "      <td>2001.0</td>\n",
              "    </tr>\n",
              "    <tr>\n",
              "      <th>EducDeg</th>\n",
              "      <td>10279</td>\n",
              "      <td>4</td>\n",
              "      <td>b'3 - BSc/MSc'</td>\n",
              "      <td>4799</td>\n",
              "      <td>NaN</td>\n",
              "      <td>NaN</td>\n",
              "      <td>NaN</td>\n",
              "      <td>NaN</td>\n",
              "      <td>NaN</td>\n",
              "      <td>NaN</td>\n",
              "      <td>NaN</td>\n",
              "    </tr>\n",
              "    <tr>\n",
              "      <th>MonthSal</th>\n",
              "      <td>10260.0</td>\n",
              "      <td>NaN</td>\n",
              "      <td>NaN</td>\n",
              "      <td>NaN</td>\n",
              "      <td>2506.667057</td>\n",
              "      <td>1157.449634</td>\n",
              "      <td>333.0</td>\n",
              "      <td>1706.0</td>\n",
              "      <td>2501.5</td>\n",
              "      <td>3290.25</td>\n",
              "      <td>55215.0</td>\n",
              "    </tr>\n",
              "    <tr>\n",
              "      <th>GeoLivArea</th>\n",
              "      <td>10295.0</td>\n",
              "      <td>NaN</td>\n",
              "      <td>NaN</td>\n",
              "      <td>NaN</td>\n",
              "      <td>2.709859</td>\n",
              "      <td>1.266291</td>\n",
              "      <td>1.0</td>\n",
              "      <td>1.0</td>\n",
              "      <td>3.0</td>\n",
              "      <td>4.0</td>\n",
              "      <td>4.0</td>\n",
              "    </tr>\n",
              "    <tr>\n",
              "      <th>Children</th>\n",
              "      <td>10275.0</td>\n",
              "      <td>NaN</td>\n",
              "      <td>NaN</td>\n",
              "      <td>NaN</td>\n",
              "      <td>0.706764</td>\n",
              "      <td>0.455268</td>\n",
              "      <td>0.0</td>\n",
              "      <td>0.0</td>\n",
              "      <td>1.0</td>\n",
              "      <td>1.0</td>\n",
              "      <td>1.0</td>\n",
              "    </tr>\n",
              "    <tr>\n",
              "      <th>CustMonVal</th>\n",
              "      <td>10296.0</td>\n",
              "      <td>NaN</td>\n",
              "      <td>NaN</td>\n",
              "      <td>NaN</td>\n",
              "      <td>177.892605</td>\n",
              "      <td>1945.811505</td>\n",
              "      <td>-165680.42</td>\n",
              "      <td>-9.44</td>\n",
              "      <td>186.87</td>\n",
              "      <td>399.7775</td>\n",
              "      <td>11875.89</td>\n",
              "    </tr>\n",
              "    <tr>\n",
              "      <th>ClaimsRate</th>\n",
              "      <td>10296.0</td>\n",
              "      <td>NaN</td>\n",
              "      <td>NaN</td>\n",
              "      <td>NaN</td>\n",
              "      <td>0.742772</td>\n",
              "      <td>2.916964</td>\n",
              "      <td>0.0</td>\n",
              "      <td>0.39</td>\n",
              "      <td>0.72</td>\n",
              "      <td>0.98</td>\n",
              "      <td>256.2</td>\n",
              "    </tr>\n",
              "    <tr>\n",
              "      <th>PremMotor</th>\n",
              "      <td>10262.0</td>\n",
              "      <td>NaN</td>\n",
              "      <td>NaN</td>\n",
              "      <td>NaN</td>\n",
              "      <td>300.470252</td>\n",
              "      <td>211.914997</td>\n",
              "      <td>-4.11</td>\n",
              "      <td>190.59</td>\n",
              "      <td>298.61</td>\n",
              "      <td>408.3</td>\n",
              "      <td>11604.42</td>\n",
              "    </tr>\n",
              "    <tr>\n",
              "      <th>PremHousehold</th>\n",
              "      <td>10296.0</td>\n",
              "      <td>NaN</td>\n",
              "      <td>NaN</td>\n",
              "      <td>NaN</td>\n",
              "      <td>210.431192</td>\n",
              "      <td>352.595984</td>\n",
              "      <td>-75.0</td>\n",
              "      <td>49.45</td>\n",
              "      <td>132.8</td>\n",
              "      <td>290.05</td>\n",
              "      <td>25048.8</td>\n",
              "    </tr>\n",
              "    <tr>\n",
              "      <th>PremHealth</th>\n",
              "      <td>10253.0</td>\n",
              "      <td>NaN</td>\n",
              "      <td>NaN</td>\n",
              "      <td>NaN</td>\n",
              "      <td>171.580833</td>\n",
              "      <td>296.405976</td>\n",
              "      <td>-2.11</td>\n",
              "      <td>111.8</td>\n",
              "      <td>162.81</td>\n",
              "      <td>219.82</td>\n",
              "      <td>28272.0</td>\n",
              "    </tr>\n",
              "    <tr>\n",
              "      <th>PremLife</th>\n",
              "      <td>10192.0</td>\n",
              "      <td>NaN</td>\n",
              "      <td>NaN</td>\n",
              "      <td>NaN</td>\n",
              "      <td>41.855782</td>\n",
              "      <td>47.480632</td>\n",
              "      <td>-7.0</td>\n",
              "      <td>9.89</td>\n",
              "      <td>25.56</td>\n",
              "      <td>57.79</td>\n",
              "      <td>398.3</td>\n",
              "    </tr>\n",
              "    <tr>\n",
              "      <th>PremWork</th>\n",
              "      <td>10210.0</td>\n",
              "      <td>NaN</td>\n",
              "      <td>NaN</td>\n",
              "      <td>NaN</td>\n",
              "      <td>41.277514</td>\n",
              "      <td>51.513572</td>\n",
              "      <td>-12.0</td>\n",
              "      <td>10.67</td>\n",
              "      <td>25.67</td>\n",
              "      <td>56.79</td>\n",
              "      <td>1988.7</td>\n",
              "    </tr>\n",
              "  </tbody>\n",
              "</table>\n",
              "</div>\n",
              "      <button class=\"colab-df-convert\" onclick=\"convertToInteractive('df-a447cfe4-e6ad-4394-ad62-f7b109088ac9')\"\n",
              "              title=\"Convert this dataframe to an interactive table.\"\n",
              "              style=\"display:none;\">\n",
              "        \n",
              "  <svg xmlns=\"http://www.w3.org/2000/svg\" height=\"24px\"viewBox=\"0 0 24 24\"\n",
              "       width=\"24px\">\n",
              "    <path d=\"M0 0h24v24H0V0z\" fill=\"none\"/>\n",
              "    <path d=\"M18.56 5.44l.94 2.06.94-2.06 2.06-.94-2.06-.94-.94-2.06-.94 2.06-2.06.94zm-11 1L8.5 8.5l.94-2.06 2.06-.94-2.06-.94L8.5 2.5l-.94 2.06-2.06.94zm10 10l.94 2.06.94-2.06 2.06-.94-2.06-.94-.94-2.06-.94 2.06-2.06.94z\"/><path d=\"M17.41 7.96l-1.37-1.37c-.4-.4-.92-.59-1.43-.59-.52 0-1.04.2-1.43.59L10.3 9.45l-7.72 7.72c-.78.78-.78 2.05 0 2.83L4 21.41c.39.39.9.59 1.41.59.51 0 1.02-.2 1.41-.59l7.78-7.78 2.81-2.81c.8-.78.8-2.07 0-2.86zM5.41 20L4 18.59l7.72-7.72 1.47 1.35L5.41 20z\"/>\n",
              "  </svg>\n",
              "      </button>\n",
              "      \n",
              "  <style>\n",
              "    .colab-df-container {\n",
              "      display:flex;\n",
              "      flex-wrap:wrap;\n",
              "      gap: 12px;\n",
              "    }\n",
              "\n",
              "    .colab-df-convert {\n",
              "      background-color: #E8F0FE;\n",
              "      border: none;\n",
              "      border-radius: 50%;\n",
              "      cursor: pointer;\n",
              "      display: none;\n",
              "      fill: #1967D2;\n",
              "      height: 32px;\n",
              "      padding: 0 0 0 0;\n",
              "      width: 32px;\n",
              "    }\n",
              "\n",
              "    .colab-df-convert:hover {\n",
              "      background-color: #E2EBFA;\n",
              "      box-shadow: 0px 1px 2px rgba(60, 64, 67, 0.3), 0px 1px 3px 1px rgba(60, 64, 67, 0.15);\n",
              "      fill: #174EA6;\n",
              "    }\n",
              "\n",
              "    [theme=dark] .colab-df-convert {\n",
              "      background-color: #3B4455;\n",
              "      fill: #D2E3FC;\n",
              "    }\n",
              "\n",
              "    [theme=dark] .colab-df-convert:hover {\n",
              "      background-color: #434B5C;\n",
              "      box-shadow: 0px 1px 3px 1px rgba(0, 0, 0, 0.15);\n",
              "      filter: drop-shadow(0px 1px 2px rgba(0, 0, 0, 0.3));\n",
              "      fill: #FFFFFF;\n",
              "    }\n",
              "  </style>\n",
              "\n",
              "      <script>\n",
              "        const buttonEl =\n",
              "          document.querySelector('#df-a447cfe4-e6ad-4394-ad62-f7b109088ac9 button.colab-df-convert');\n",
              "        buttonEl.style.display =\n",
              "          google.colab.kernel.accessAllowed ? 'block' : 'none';\n",
              "\n",
              "        async function convertToInteractive(key) {\n",
              "          const element = document.querySelector('#df-a447cfe4-e6ad-4394-ad62-f7b109088ac9');\n",
              "          const dataTable =\n",
              "            await google.colab.kernel.invokeFunction('convertToInteractive',\n",
              "                                                     [key], {});\n",
              "          if (!dataTable) return;\n",
              "\n",
              "          const docLinkHtml = 'Like what you see? Visit the ' +\n",
              "            '<a target=\"_blank\" href=https://colab.research.google.com/notebooks/data_table.ipynb>data table notebook</a>'\n",
              "            + ' to learn more about interactive tables.';\n",
              "          element.innerHTML = '';\n",
              "          dataTable['output_type'] = 'display_data';\n",
              "          await google.colab.output.renderOutput(dataTable, element);\n",
              "          const docLink = document.createElement('div');\n",
              "          docLink.innerHTML = docLinkHtml;\n",
              "          element.appendChild(docLink);\n",
              "        }\n",
              "      </script>\n",
              "    </div>\n",
              "  </div>\n",
              "  "
            ]
          },
          "metadata": {},
          "execution_count": 97
        }
      ],
      "source": [
        "#  Visualizing summary statistics\n",
        "\n",
        "ds.describe(include='all').T"
      ]
    },
    {
      "cell_type": "code",
      "execution_count": 98,
      "metadata": {
        "colab": {
          "base_uri": "https://localhost:8080/",
          "height": 357
        },
        "id": "4a3lXefC3OaG",
        "outputId": "034bc8dc-17f5-4b62-b1ee-105d07540aa3"
      },
      "outputs": [
        {
          "output_type": "execute_result",
          "data": {
            "text/plain": [
              "   CustID  FirstPolYear  BirthYear             EducDeg  MonthSal  GeoLivArea  \\\n",
              "0     1.0        1985.0     1982.0  b'2 - High School'    2177.0         1.0   \n",
              "1     2.0        1981.0     1995.0  b'2 - High School'     677.0         4.0   \n",
              "2     3.0        1991.0     1970.0        b'1 - Basic'    2277.0         3.0   \n",
              "3     4.0        1990.0     1981.0      b'3 - BSc/MSc'    1099.0         4.0   \n",
              "4     5.0        1986.0     1973.0      b'3 - BSc/MSc'    1763.0         4.0   \n",
              "\n",
              "   Children  CustMonVal  ClaimsRate  PremMotor  PremHousehold  PremHealth  \\\n",
              "0       1.0      380.97        0.39     375.85          79.45      146.36   \n",
              "1       1.0     -131.13        1.12      77.46         416.20      116.69   \n",
              "2       0.0      504.67        0.28     206.15         224.50      124.58   \n",
              "3       1.0      -16.99        0.99     182.48          43.35      311.17   \n",
              "4       1.0       35.23        0.90     338.62          47.80      182.59   \n",
              "\n",
              "   PremLife  PremWork  \n",
              "0     47.01     16.89  \n",
              "1    194.48    106.13  \n",
              "2     86.35     99.02  \n",
              "3     35.34     28.34  \n",
              "4     18.78     41.45  "
            ],
            "text/html": [
              "\n",
              "  <div id=\"df-bd243895-5989-4748-ab08-993381e2ca01\">\n",
              "    <div class=\"colab-df-container\">\n",
              "      <div>\n",
              "<style scoped>\n",
              "    .dataframe tbody tr th:only-of-type {\n",
              "        vertical-align: middle;\n",
              "    }\n",
              "\n",
              "    .dataframe tbody tr th {\n",
              "        vertical-align: top;\n",
              "    }\n",
              "\n",
              "    .dataframe thead th {\n",
              "        text-align: right;\n",
              "    }\n",
              "</style>\n",
              "<table border=\"1\" class=\"dataframe\">\n",
              "  <thead>\n",
              "    <tr style=\"text-align: right;\">\n",
              "      <th></th>\n",
              "      <th>CustID</th>\n",
              "      <th>FirstPolYear</th>\n",
              "      <th>BirthYear</th>\n",
              "      <th>EducDeg</th>\n",
              "      <th>MonthSal</th>\n",
              "      <th>GeoLivArea</th>\n",
              "      <th>Children</th>\n",
              "      <th>CustMonVal</th>\n",
              "      <th>ClaimsRate</th>\n",
              "      <th>PremMotor</th>\n",
              "      <th>PremHousehold</th>\n",
              "      <th>PremHealth</th>\n",
              "      <th>PremLife</th>\n",
              "      <th>PremWork</th>\n",
              "    </tr>\n",
              "  </thead>\n",
              "  <tbody>\n",
              "    <tr>\n",
              "      <th>0</th>\n",
              "      <td>1.0</td>\n",
              "      <td>1985.0</td>\n",
              "      <td>1982.0</td>\n",
              "      <td>b'2 - High School'</td>\n",
              "      <td>2177.0</td>\n",
              "      <td>1.0</td>\n",
              "      <td>1.0</td>\n",
              "      <td>380.97</td>\n",
              "      <td>0.39</td>\n",
              "      <td>375.85</td>\n",
              "      <td>79.45</td>\n",
              "      <td>146.36</td>\n",
              "      <td>47.01</td>\n",
              "      <td>16.89</td>\n",
              "    </tr>\n",
              "    <tr>\n",
              "      <th>1</th>\n",
              "      <td>2.0</td>\n",
              "      <td>1981.0</td>\n",
              "      <td>1995.0</td>\n",
              "      <td>b'2 - High School'</td>\n",
              "      <td>677.0</td>\n",
              "      <td>4.0</td>\n",
              "      <td>1.0</td>\n",
              "      <td>-131.13</td>\n",
              "      <td>1.12</td>\n",
              "      <td>77.46</td>\n",
              "      <td>416.20</td>\n",
              "      <td>116.69</td>\n",
              "      <td>194.48</td>\n",
              "      <td>106.13</td>\n",
              "    </tr>\n",
              "    <tr>\n",
              "      <th>2</th>\n",
              "      <td>3.0</td>\n",
              "      <td>1991.0</td>\n",
              "      <td>1970.0</td>\n",
              "      <td>b'1 - Basic'</td>\n",
              "      <td>2277.0</td>\n",
              "      <td>3.0</td>\n",
              "      <td>0.0</td>\n",
              "      <td>504.67</td>\n",
              "      <td>0.28</td>\n",
              "      <td>206.15</td>\n",
              "      <td>224.50</td>\n",
              "      <td>124.58</td>\n",
              "      <td>86.35</td>\n",
              "      <td>99.02</td>\n",
              "    </tr>\n",
              "    <tr>\n",
              "      <th>3</th>\n",
              "      <td>4.0</td>\n",
              "      <td>1990.0</td>\n",
              "      <td>1981.0</td>\n",
              "      <td>b'3 - BSc/MSc'</td>\n",
              "      <td>1099.0</td>\n",
              "      <td>4.0</td>\n",
              "      <td>1.0</td>\n",
              "      <td>-16.99</td>\n",
              "      <td>0.99</td>\n",
              "      <td>182.48</td>\n",
              "      <td>43.35</td>\n",
              "      <td>311.17</td>\n",
              "      <td>35.34</td>\n",
              "      <td>28.34</td>\n",
              "    </tr>\n",
              "    <tr>\n",
              "      <th>4</th>\n",
              "      <td>5.0</td>\n",
              "      <td>1986.0</td>\n",
              "      <td>1973.0</td>\n",
              "      <td>b'3 - BSc/MSc'</td>\n",
              "      <td>1763.0</td>\n",
              "      <td>4.0</td>\n",
              "      <td>1.0</td>\n",
              "      <td>35.23</td>\n",
              "      <td>0.90</td>\n",
              "      <td>338.62</td>\n",
              "      <td>47.80</td>\n",
              "      <td>182.59</td>\n",
              "      <td>18.78</td>\n",
              "      <td>41.45</td>\n",
              "    </tr>\n",
              "  </tbody>\n",
              "</table>\n",
              "</div>\n",
              "      <button class=\"colab-df-convert\" onclick=\"convertToInteractive('df-bd243895-5989-4748-ab08-993381e2ca01')\"\n",
              "              title=\"Convert this dataframe to an interactive table.\"\n",
              "              style=\"display:none;\">\n",
              "        \n",
              "  <svg xmlns=\"http://www.w3.org/2000/svg\" height=\"24px\"viewBox=\"0 0 24 24\"\n",
              "       width=\"24px\">\n",
              "    <path d=\"M0 0h24v24H0V0z\" fill=\"none\"/>\n",
              "    <path d=\"M18.56 5.44l.94 2.06.94-2.06 2.06-.94-2.06-.94-.94-2.06-.94 2.06-2.06.94zm-11 1L8.5 8.5l.94-2.06 2.06-.94-2.06-.94L8.5 2.5l-.94 2.06-2.06.94zm10 10l.94 2.06.94-2.06 2.06-.94-2.06-.94-.94-2.06-.94 2.06-2.06.94z\"/><path d=\"M17.41 7.96l-1.37-1.37c-.4-.4-.92-.59-1.43-.59-.52 0-1.04.2-1.43.59L10.3 9.45l-7.72 7.72c-.78.78-.78 2.05 0 2.83L4 21.41c.39.39.9.59 1.41.59.51 0 1.02-.2 1.41-.59l7.78-7.78 2.81-2.81c.8-.78.8-2.07 0-2.86zM5.41 20L4 18.59l7.72-7.72 1.47 1.35L5.41 20z\"/>\n",
              "  </svg>\n",
              "      </button>\n",
              "      \n",
              "  <style>\n",
              "    .colab-df-container {\n",
              "      display:flex;\n",
              "      flex-wrap:wrap;\n",
              "      gap: 12px;\n",
              "    }\n",
              "\n",
              "    .colab-df-convert {\n",
              "      background-color: #E8F0FE;\n",
              "      border: none;\n",
              "      border-radius: 50%;\n",
              "      cursor: pointer;\n",
              "      display: none;\n",
              "      fill: #1967D2;\n",
              "      height: 32px;\n",
              "      padding: 0 0 0 0;\n",
              "      width: 32px;\n",
              "    }\n",
              "\n",
              "    .colab-df-convert:hover {\n",
              "      background-color: #E2EBFA;\n",
              "      box-shadow: 0px 1px 2px rgba(60, 64, 67, 0.3), 0px 1px 3px 1px rgba(60, 64, 67, 0.15);\n",
              "      fill: #174EA6;\n",
              "    }\n",
              "\n",
              "    [theme=dark] .colab-df-convert {\n",
              "      background-color: #3B4455;\n",
              "      fill: #D2E3FC;\n",
              "    }\n",
              "\n",
              "    [theme=dark] .colab-df-convert:hover {\n",
              "      background-color: #434B5C;\n",
              "      box-shadow: 0px 1px 3px 1px rgba(0, 0, 0, 0.15);\n",
              "      filter: drop-shadow(0px 1px 2px rgba(0, 0, 0, 0.3));\n",
              "      fill: #FFFFFF;\n",
              "    }\n",
              "  </style>\n",
              "\n",
              "      <script>\n",
              "        const buttonEl =\n",
              "          document.querySelector('#df-bd243895-5989-4748-ab08-993381e2ca01 button.colab-df-convert');\n",
              "        buttonEl.style.display =\n",
              "          google.colab.kernel.accessAllowed ? 'block' : 'none';\n",
              "\n",
              "        async function convertToInteractive(key) {\n",
              "          const element = document.querySelector('#df-bd243895-5989-4748-ab08-993381e2ca01');\n",
              "          const dataTable =\n",
              "            await google.colab.kernel.invokeFunction('convertToInteractive',\n",
              "                                                     [key], {});\n",
              "          if (!dataTable) return;\n",
              "\n",
              "          const docLinkHtml = 'Like what you see? Visit the ' +\n",
              "            '<a target=\"_blank\" href=https://colab.research.google.com/notebooks/data_table.ipynb>data table notebook</a>'\n",
              "            + ' to learn more about interactive tables.';\n",
              "          element.innerHTML = '';\n",
              "          dataTable['output_type'] = 'display_data';\n",
              "          await google.colab.output.renderOutput(dataTable, element);\n",
              "          const docLink = document.createElement('div');\n",
              "          docLink.innerHTML = docLinkHtml;\n",
              "          element.appendChild(docLink);\n",
              "        }\n",
              "      </script>\n",
              "    </div>\n",
              "  </div>\n",
              "  "
            ]
          },
          "metadata": {},
          "execution_count": 98
        }
      ],
      "source": [
        "# Show top rows\n",
        "ds.head()"
      ]
    },
    {
      "cell_type": "markdown",
      "source": [
        "# Data Exploration:"
      ],
      "metadata": {
        "id": "FAaVESHk7c77"
      }
    },
    {
      "cell_type": "code",
      "source": [
        "ds.duplicated().sum()"
      ],
      "metadata": {
        "colab": {
          "base_uri": "https://localhost:8080/"
        },
        "id": "NPugsVI97ibY",
        "outputId": "fca077da-35f7-4b09-8047-f4b388ee3962"
      },
      "execution_count": 99,
      "outputs": [
        {
          "output_type": "execute_result",
          "data": {
            "text/plain": [
              "0"
            ]
          },
          "metadata": {},
          "execution_count": 99
        }
      ]
    },
    {
      "cell_type": "markdown",
      "source": [
        "We can see that our dataset does not contain any duplicates."
      ],
      "metadata": {
        "id": "kQ5LSu0c7xgB"
      }
    },
    {
      "cell_type": "code",
      "source": [
        "ds.drop(columns=['CustID'], inplace=True)"
      ],
      "metadata": {
        "id": "VSinRD0E7u-m"
      },
      "execution_count": 100,
      "outputs": []
    },
    {
      "cell_type": "markdown",
      "source": [
        "Dropping the 'ID' column as it does not provide any informations."
      ],
      "metadata": {
        "id": "AWLwbWc473kg"
      }
    },
    {
      "cell_type": "code",
      "source": [
        "ds.head(1)"
      ],
      "metadata": {
        "colab": {
          "base_uri": "https://localhost:8080/",
          "height": 179
        },
        "id": "4H2m2S0D7_gv",
        "outputId": "ef4d14b5-bc66-45c9-d491-b713a8627e69"
      },
      "execution_count": 101,
      "outputs": [
        {
          "output_type": "execute_result",
          "data": {
            "text/plain": [
              "   FirstPolYear  BirthYear             EducDeg  MonthSal  GeoLivArea  \\\n",
              "0        1985.0     1982.0  b'2 - High School'    2177.0         1.0   \n",
              "\n",
              "   Children  CustMonVal  ClaimsRate  PremMotor  PremHousehold  PremHealth  \\\n",
              "0       1.0      380.97        0.39     375.85          79.45      146.36   \n",
              "\n",
              "   PremLife  PremWork  \n",
              "0     47.01     16.89  "
            ],
            "text/html": [
              "\n",
              "  <div id=\"df-e5d666d6-5997-4d32-8b4e-2c6847b5d546\">\n",
              "    <div class=\"colab-df-container\">\n",
              "      <div>\n",
              "<style scoped>\n",
              "    .dataframe tbody tr th:only-of-type {\n",
              "        vertical-align: middle;\n",
              "    }\n",
              "\n",
              "    .dataframe tbody tr th {\n",
              "        vertical-align: top;\n",
              "    }\n",
              "\n",
              "    .dataframe thead th {\n",
              "        text-align: right;\n",
              "    }\n",
              "</style>\n",
              "<table border=\"1\" class=\"dataframe\">\n",
              "  <thead>\n",
              "    <tr style=\"text-align: right;\">\n",
              "      <th></th>\n",
              "      <th>FirstPolYear</th>\n",
              "      <th>BirthYear</th>\n",
              "      <th>EducDeg</th>\n",
              "      <th>MonthSal</th>\n",
              "      <th>GeoLivArea</th>\n",
              "      <th>Children</th>\n",
              "      <th>CustMonVal</th>\n",
              "      <th>ClaimsRate</th>\n",
              "      <th>PremMotor</th>\n",
              "      <th>PremHousehold</th>\n",
              "      <th>PremHealth</th>\n",
              "      <th>PremLife</th>\n",
              "      <th>PremWork</th>\n",
              "    </tr>\n",
              "  </thead>\n",
              "  <tbody>\n",
              "    <tr>\n",
              "      <th>0</th>\n",
              "      <td>1985.0</td>\n",
              "      <td>1982.0</td>\n",
              "      <td>b'2 - High School'</td>\n",
              "      <td>2177.0</td>\n",
              "      <td>1.0</td>\n",
              "      <td>1.0</td>\n",
              "      <td>380.97</td>\n",
              "      <td>0.39</td>\n",
              "      <td>375.85</td>\n",
              "      <td>79.45</td>\n",
              "      <td>146.36</td>\n",
              "      <td>47.01</td>\n",
              "      <td>16.89</td>\n",
              "    </tr>\n",
              "  </tbody>\n",
              "</table>\n",
              "</div>\n",
              "      <button class=\"colab-df-convert\" onclick=\"convertToInteractive('df-e5d666d6-5997-4d32-8b4e-2c6847b5d546')\"\n",
              "              title=\"Convert this dataframe to an interactive table.\"\n",
              "              style=\"display:none;\">\n",
              "        \n",
              "  <svg xmlns=\"http://www.w3.org/2000/svg\" height=\"24px\"viewBox=\"0 0 24 24\"\n",
              "       width=\"24px\">\n",
              "    <path d=\"M0 0h24v24H0V0z\" fill=\"none\"/>\n",
              "    <path d=\"M18.56 5.44l.94 2.06.94-2.06 2.06-.94-2.06-.94-.94-2.06-.94 2.06-2.06.94zm-11 1L8.5 8.5l.94-2.06 2.06-.94-2.06-.94L8.5 2.5l-.94 2.06-2.06.94zm10 10l.94 2.06.94-2.06 2.06-.94-2.06-.94-.94-2.06-.94 2.06-2.06.94z\"/><path d=\"M17.41 7.96l-1.37-1.37c-.4-.4-.92-.59-1.43-.59-.52 0-1.04.2-1.43.59L10.3 9.45l-7.72 7.72c-.78.78-.78 2.05 0 2.83L4 21.41c.39.39.9.59 1.41.59.51 0 1.02-.2 1.41-.59l7.78-7.78 2.81-2.81c.8-.78.8-2.07 0-2.86zM5.41 20L4 18.59l7.72-7.72 1.47 1.35L5.41 20z\"/>\n",
              "  </svg>\n",
              "      </button>\n",
              "      \n",
              "  <style>\n",
              "    .colab-df-container {\n",
              "      display:flex;\n",
              "      flex-wrap:wrap;\n",
              "      gap: 12px;\n",
              "    }\n",
              "\n",
              "    .colab-df-convert {\n",
              "      background-color: #E8F0FE;\n",
              "      border: none;\n",
              "      border-radius: 50%;\n",
              "      cursor: pointer;\n",
              "      display: none;\n",
              "      fill: #1967D2;\n",
              "      height: 32px;\n",
              "      padding: 0 0 0 0;\n",
              "      width: 32px;\n",
              "    }\n",
              "\n",
              "    .colab-df-convert:hover {\n",
              "      background-color: #E2EBFA;\n",
              "      box-shadow: 0px 1px 2px rgba(60, 64, 67, 0.3), 0px 1px 3px 1px rgba(60, 64, 67, 0.15);\n",
              "      fill: #174EA6;\n",
              "    }\n",
              "\n",
              "    [theme=dark] .colab-df-convert {\n",
              "      background-color: #3B4455;\n",
              "      fill: #D2E3FC;\n",
              "    }\n",
              "\n",
              "    [theme=dark] .colab-df-convert:hover {\n",
              "      background-color: #434B5C;\n",
              "      box-shadow: 0px 1px 3px 1px rgba(0, 0, 0, 0.15);\n",
              "      filter: drop-shadow(0px 1px 2px rgba(0, 0, 0, 0.3));\n",
              "      fill: #FFFFFF;\n",
              "    }\n",
              "  </style>\n",
              "\n",
              "      <script>\n",
              "        const buttonEl =\n",
              "          document.querySelector('#df-e5d666d6-5997-4d32-8b4e-2c6847b5d546 button.colab-df-convert');\n",
              "        buttonEl.style.display =\n",
              "          google.colab.kernel.accessAllowed ? 'block' : 'none';\n",
              "\n",
              "        async function convertToInteractive(key) {\n",
              "          const element = document.querySelector('#df-e5d666d6-5997-4d32-8b4e-2c6847b5d546');\n",
              "          const dataTable =\n",
              "            await google.colab.kernel.invokeFunction('convertToInteractive',\n",
              "                                                     [key], {});\n",
              "          if (!dataTable) return;\n",
              "\n",
              "          const docLinkHtml = 'Like what you see? Visit the ' +\n",
              "            '<a target=\"_blank\" href=https://colab.research.google.com/notebooks/data_table.ipynb>data table notebook</a>'\n",
              "            + ' to learn more about interactive tables.';\n",
              "          element.innerHTML = '';\n",
              "          dataTable['output_type'] = 'display_data';\n",
              "          await google.colab.output.renderOutput(dataTable, element);\n",
              "          const docLink = document.createElement('div');\n",
              "          docLink.innerHTML = docLinkHtml;\n",
              "          element.appendChild(docLink);\n",
              "        }\n",
              "      </script>\n",
              "    </div>\n",
              "  </div>\n",
              "  "
            ]
          },
          "metadata": {},
          "execution_count": 101
        }
      ]
    },
    {
      "cell_type": "markdown",
      "source": [
        "### The variable 'FirstPolYear':"
      ],
      "metadata": {
        "id": "kDx0WMEC97kW"
      }
    },
    {
      "cell_type": "code",
      "source": [
        "ds['FirstPolYear'].value_counts()"
      ],
      "metadata": {
        "colab": {
          "base_uri": "https://localhost:8080/"
        },
        "id": "njh1rCKj8NuS",
        "outputId": "ceb142d1-7cf8-4c4f-98d2-a6c1408a5248"
      },
      "execution_count": 102,
      "outputs": [
        {
          "output_type": "execute_result",
          "data": {
            "text/plain": [
              "1988.0     512\n",
              "1994.0     475\n",
              "1993.0     473\n",
              "1989.0     466\n",
              "1984.0     464\n",
              "1986.0     458\n",
              "1977.0     453\n",
              "1978.0     453\n",
              "1992.0     451\n",
              "1990.0     449\n",
              "1981.0     445\n",
              "1995.0     445\n",
              "1982.0     444\n",
              "1979.0     443\n",
              "1996.0     440\n",
              "1987.0     438\n",
              "1976.0     433\n",
              "1980.0     432\n",
              "1991.0     430\n",
              "1985.0     429\n",
              "1983.0     423\n",
              "1975.0     285\n",
              "1997.0     271\n",
              "1974.0     141\n",
              "1998.0     112\n",
              "53784.0      1\n",
              "Name: FirstPolYear, dtype: int64"
            ]
          },
          "metadata": {},
          "execution_count": 102
        }
      ]
    },
    {
      "cell_type": "markdown",
      "source": [
        "We need to drop the observations with values equal to 53784. "
      ],
      "metadata": {
        "id": "iH7kjZJs-BiS"
      }
    },
    {
      "cell_type": "code",
      "source": [
        "ds = ds[~ds['FirstPolYear'].isin([53784.0, np.nan, 'nan'])]"
      ],
      "metadata": {
        "id": "fdsoZo8Y8fkK"
      },
      "execution_count": 103,
      "outputs": []
    },
    {
      "cell_type": "markdown",
      "source": [
        "### The variable 'BirthYear':"
      ],
      "metadata": {
        "id": "DWshg-S4-qng"
      }
    },
    {
      "cell_type": "code",
      "source": [
        "ds['BirthYear'].unique()"
      ],
      "metadata": {
        "colab": {
          "base_uri": "https://localhost:8080/"
        },
        "id": "VW_o6bbk_ZtK",
        "outputId": "eae6d79c-714a-4b5b-d644-356066942b20"
      },
      "execution_count": 104,
      "outputs": [
        {
          "output_type": "execute_result",
          "data": {
            "text/plain": [
              "array([1982., 1995., 1970., 1981., 1973., 1956., 1943., 1974., 1978.,\n",
              "       1948., 1945., 1958., 1949., 2000., 1975., 1979., 1989., 1962.,\n",
              "       1986., 1961., 1952., 1944., 1937., 1942., 1972., 1953., 1966.,\n",
              "       1955., 1941., 1938., 1968., 1990., 1984., 1980., 1946., 1965.,\n",
              "       1957., 1967., 1977., 1951., 1985., 1959., 1988., 1983., 1939.,\n",
              "       1964., 1950., 1960., 1976., 1971., 1954., 1969., 1994., 1992.,\n",
              "       1997., 1963., 1991., 1999., 1993., 1947., 1987., 1996., 1940.,\n",
              "       1935., 1936.,   nan, 1998., 2001., 1028.])"
            ]
          },
          "metadata": {},
          "execution_count": 104
        }
      ]
    },
    {
      "cell_type": "markdown",
      "source": [
        "We need to drop the birth year equal to 1028, and the nan."
      ],
      "metadata": {
        "id": "XMfEL4ThABaZ"
      }
    },
    {
      "cell_type": "code",
      "source": [
        "ds = ds[~ds['BirthYear'].isin([1028.0, np.nan])]"
      ],
      "metadata": {
        "id": "90nHAqm3_ZeS"
      },
      "execution_count": 105,
      "outputs": []
    },
    {
      "cell_type": "markdown",
      "source": [
        "### The variable  'EducDeg':"
      ],
      "metadata": {
        "id": "4bsPoU1qAOf5"
      }
    },
    {
      "cell_type": "code",
      "source": [
        "ds['EducDeg'].value_counts()"
      ],
      "metadata": {
        "colab": {
          "base_uri": "https://localhost:8080/"
        },
        "id": "9CShyMzA8BNM",
        "outputId": "0ec68b92-3db9-4f00-c5e4-1e2bc9dca965"
      },
      "execution_count": 106,
      "outputs": [
        {
          "output_type": "execute_result",
          "data": {
            "text/plain": [
              "b'3 - BSc/MSc'        4789\n",
              "b'2 - High School'    3497\n",
              "b'1 - Basic'          1268\n",
              "b'4 - PhD'             694\n",
              "Name: EducDeg, dtype: int64"
            ]
          },
          "metadata": {},
          "execution_count": 106
        }
      ]
    },
    {
      "cell_type": "markdown",
      "source": [
        "Removing the b infront of the category name."
      ],
      "metadata": {
        "id": "NNOEmwWFCNUM"
      }
    },
    {
      "cell_type": "code",
      "source": [
        "ds['EducDeg'] = ds['EducDeg'].astype(str)\n",
        "ds['EducDeg'] = ds['EducDeg'].str.replace(r'b', '')"
      ],
      "metadata": {
        "id": "N8TZScOfBhXH"
      },
      "execution_count": 107,
      "outputs": []
    },
    {
      "cell_type": "code",
      "source": [
        "# Counting the genders in the dataset.\n",
        "\n",
        "sns.countplot(data=ds, x=\"EducDeg\")\n",
        "plt.show()"
      ],
      "metadata": {
        "colab": {
          "base_uri": "https://localhost:8080/",
          "height": 282
        },
        "id": "-EyBVvT5Ag-5",
        "outputId": "24ff0b8b-b926-47e1-8f7d-f275f3ed352d"
      },
      "execution_count": 108,
      "outputs": [
        {
          "output_type": "display_data",
          "data": {
            "text/plain": [
              "<Figure size 432x288 with 1 Axes>"
            ],
            "image/png": "[encoded data removed]"
          },
          "metadata": {
            "needs_background": "light"
          }
        }
      ]
    },
    {
      "cell_type": "markdown",
      "source": [
        "We need to get rid of the nans."
      ],
      "metadata": {
        "id": "-odpfzldCXG2"
      }
    },
    {
      "cell_type": "code",
      "source": [
        "ds = ds[~ds['EducDeg'].isin([np.nan, 'nan'])]"
      ],
      "metadata": {
        "id": "3njgI9mGCWI5"
      },
      "execution_count": 109,
      "outputs": []
    },
    {
      "cell_type": "code",
      "source": [
        "ds['EducDeg'].unique()"
      ],
      "metadata": {
        "colab": {
          "base_uri": "https://localhost:8080/"
        },
        "id": "lE2P-q_oCeTC",
        "outputId": "09d52bca-65a7-4467-aba0-b75005188a60"
      },
      "execution_count": 110,
      "outputs": [
        {
          "output_type": "execute_result",
          "data": {
            "text/plain": [
              "array([\"'2 - High School'\", \"'1 - Basic'\", \"'3 - BSc/MSc'\", \"'4 - PhD'\"],\n",
              "      dtype=object)"
            ]
          },
          "metadata": {},
          "execution_count": 110
        }
      ]
    },
    {
      "cell_type": "markdown",
      "source": [
        "### The variable 'MonthSal':"
      ],
      "metadata": {
        "id": "CH3mVv9nC-wb"
      }
    },
    {
      "cell_type": "code",
      "source": [
        "ds = ds[~ds['MonthSal'].isin([np.nan, 'nan'])]"
      ],
      "metadata": {
        "id": "2rDdYhchTf9v"
      },
      "execution_count": 111,
      "outputs": []
    },
    {
      "cell_type": "code",
      "source": [
        "# Checking the histogram of the variable 'MonthSal'\n",
        "\n",
        "sns.displot(data=ds, x=\"MonthSal\", kde=True)\n",
        "plt.show()"
      ],
      "metadata": {
        "colab": {
          "base_uri": "https://localhost:8080/",
          "height": 369
        },
        "id": "vtyKKNFaDPjE",
        "outputId": "81eb70d0-d767-403f-8698-313600be492f"
      },
      "execution_count": 112,
      "outputs": [
        {
          "output_type": "display_data",
          "data": {
            "text/plain": [
              "<Figure size 360x360 with 1 Axes>"
            ],
            "image/png": "[encoded data removed]"
          },
          "metadata": {
            "needs_background": "light"
          }
        }
      ]
    },
    {
      "cell_type": "markdown",
      "source": [
        "The figure above shows the presence of outliers values that are very far from the true distribution of salaries."
      ],
      "metadata": {
        "id": "8sBduLO2DVUt"
      }
    },
    {
      "cell_type": "markdown",
      "source": [
        "### The variable 'GeoLivArea':"
      ],
      "metadata": {
        "id": "GTx0hp6TDfev"
      }
    },
    {
      "cell_type": "code",
      "source": [
        "ds['GeoLivArea'].unique()"
      ],
      "metadata": {
        "colab": {
          "base_uri": "https://localhost:8080/"
        },
        "id": "pblWa4D5EFyz",
        "outputId": "fb29cf95-7134-464c-d2e2-864265a1b398"
      },
      "execution_count": 113,
      "outputs": [
        {
          "output_type": "execute_result",
          "data": {
            "text/plain": [
              "array([1., 4., 3., 2.])"
            ]
          },
          "metadata": {},
          "execution_count": 113
        }
      ]
    },
    {
      "cell_type": "markdown",
      "source": [
        "We need to remove the nans values."
      ],
      "metadata": {
        "id": "ol7lJe78FAmx"
      }
    },
    {
      "cell_type": "code",
      "source": [
        "ds = ds[~ds['GeoLivArea'].isin([np.nan, 'nan'])]"
      ],
      "metadata": {
        "id": "pMOsuacWFE6t"
      },
      "execution_count": 114,
      "outputs": []
    },
    {
      "cell_type": "code",
      "source": [
        "# Counting the 'GeoLivArea' in the dataset.\n",
        "\n",
        "sns.countplot(data=ds, x=\"GeoLivArea\")\n",
        "plt.show()"
      ],
      "metadata": {
        "colab": {
          "base_uri": "https://localhost:8080/",
          "height": 279
        },
        "id": "XS1r14FuFKSE",
        "outputId": "ed522521-0e25-456e-f07d-805f0fe63659"
      },
      "execution_count": 115,
      "outputs": [
        {
          "output_type": "display_data",
          "data": {
            "text/plain": [
              "<Figure size 432x288 with 1 Axes>"
            ],
            "image/png": "[encoded data removed]"
          },
          "metadata": {
            "needs_background": "light"
          }
        }
      ]
    },
    {
      "cell_type": "markdown",
      "source": [
        "### The variable 'Children':"
      ],
      "metadata": {
        "id": "RkcWMagZFds9"
      }
    },
    {
      "cell_type": "code",
      "source": [
        "ds['Children'].unique()"
      ],
      "metadata": {
        "colab": {
          "base_uri": "https://localhost:8080/"
        },
        "id": "8t3LAse4Fn2k",
        "outputId": "551c7df7-5f4a-4107-b9b9-a780f379503d"
      },
      "execution_count": 116,
      "outputs": [
        {
          "output_type": "execute_result",
          "data": {
            "text/plain": [
              "array([ 1.,  0., nan])"
            ]
          },
          "metadata": {},
          "execution_count": 116
        }
      ]
    },
    {
      "cell_type": "markdown",
      "source": [
        "Again we need to get rid of the nans."
      ],
      "metadata": {
        "id": "uYKHYIhSFv-K"
      }
    },
    {
      "cell_type": "code",
      "source": [
        "ds = ds[~ds['Children'].isin([np.nan, 'nan'])]"
      ],
      "metadata": {
        "id": "COR_jTX2FzX0"
      },
      "execution_count": 117,
      "outputs": []
    },
    {
      "cell_type": "code",
      "source": [
        "# Counting the 'Children' in the dataset.\n",
        "\n",
        "sns.countplot(data=ds, x=\"Children\")\n",
        "plt.show()"
      ],
      "metadata": {
        "colab": {
          "base_uri": "https://localhost:8080/",
          "height": 279
        },
        "id": "KAfhTOYRF47-",
        "outputId": "4fcabc63-2253-4e22-ab8f-1ca5fb26fb1c"
      },
      "execution_count": 118,
      "outputs": [
        {
          "output_type": "display_data",
          "data": {
            "text/plain": [
              "<Figure size 432x288 with 1 Axes>"
            ],
            "image/png": "[encoded data removed]"
          },
          "metadata": {
            "needs_background": "light"
          }
        }
      ]
    },
    {
      "cell_type": "markdown",
      "source": [
        "We can see that most people in the dataset have children."
      ],
      "metadata": {
        "id": "qQHXq6xLGDAE"
      }
    },
    {
      "cell_type": "markdown",
      "source": [
        "### The variable 'CustMonVal':"
      ],
      "metadata": {
        "id": "Nu8-_DMSGKjR"
      }
    },
    {
      "cell_type": "code",
      "source": [
        "ds['CustMonVal'].unique()"
      ],
      "metadata": {
        "colab": {
          "base_uri": "https://localhost:8080/"
        },
        "id": "xhawUDZdGCZ2",
        "outputId": "750fe565-5631-4414-f37c-c1a4901b0cb9"
      },
      "execution_count": 119,
      "outputs": [
        {
          "output_type": "execute_result",
          "data": {
            "text/plain": [
              "array([ 380.97, -131.13,  504.67, ..., 1405.6 ,  524.1 ,  463.75])"
            ]
          },
          "metadata": {},
          "execution_count": 119
        }
      ]
    },
    {
      "cell_type": "code",
      "source": [
        "ds = ds[~ds['CustMonVal'].isin([np.nan, 'nan'])]"
      ],
      "metadata": {
        "id": "GBnqfpTaIn-g"
      },
      "execution_count": 120,
      "outputs": []
    },
    {
      "cell_type": "code",
      "source": [
        "# Checking the histogram of the variable 'MonthSal'\n",
        "\n",
        "sns.displot(data=ds, x=\"CustMonVal\", kde=True)\n",
        "plt.show()"
      ],
      "metadata": {
        "colab": {
          "base_uri": "https://localhost:8080/",
          "height": 369
        },
        "id": "nE_rOJuqGyXf",
        "outputId": "7f96d795-a95d-47d9-b52f-9938fc7855ad"
      },
      "execution_count": 121,
      "outputs": [
        {
          "output_type": "display_data",
          "data": {
            "text/plain": [
              "<Figure size 360x360 with 1 Axes>"
            ],
            "image/png": "[encoded data removed]"
          },
          "metadata": {
            "needs_background": "light"
          }
        }
      ]
    },
    {
      "cell_type": "markdown",
      "source": [
        "We can see observations with very small negative values, they might be outliers we will decide how to deal with them in the next steps."
      ],
      "metadata": {
        "id": "D_tBAHITHDog"
      }
    },
    {
      "cell_type": "markdown",
      "source": [
        "### The variable 'ClaimsRate':"
      ],
      "metadata": {
        "id": "BZqarErZHREE"
      }
    },
    {
      "cell_type": "code",
      "source": [
        "ds['ClaimsRate'].unique()"
      ],
      "metadata": {
        "colab": {
          "base_uri": "https://localhost:8080/"
        },
        "id": "6BoxOK4vH1dX",
        "outputId": "a30ada2b-21b5-4e25-bd9d-193444cbafd2"
      },
      "execution_count": 122,
      "outputs": [
        {
          "output_type": "execute_result",
          "data": {
            "text/plain": [
              "array([3.900e-01, 1.120e+00, 2.800e-01, 9.900e-01, 9.000e-01, 1.000e+00,\n",
              "       1.050e+00, 1.130e+00, 3.600e-01, 5.300e-01, 4.600e-01, 9.700e-01,\n",
              "       1.060e+00, 8.900e-01, 8.500e-01, 7.100e-01, 1.080e+00, 6.400e-01,\n",
              "       8.100e-01, 4.100e-01, 3.800e-01, 5.000e-01, 9.600e-01, 1.900e-01,\n",
              "       6.900e-01, 4.800e-01, 9.400e-01, 1.010e+00, 9.800e-01, 8.400e-01,\n",
              "       4.700e-01, 1.070e+00, 1.190e+00, 6.300e-01, 1.200e+00, 3.200e-01,\n",
              "       2.536e+01, 1.140e+00, 5.900e-01, 1.300e-01, 6.600e-01, 6.800e-01,\n",
              "       6.100e-01, 7.800e-01, 3.300e-01, 7.200e-01, 2.000e-01, 1.040e+00,\n",
              "       4.200e-01, 9.500e-01, 3.500e-01, 1.030e+00, 1.210e+00, 4.000e-01,\n",
              "       4.400e-01, 7.700e-01, 9.300e-01, 5.400e-01, 2.500e-01, 4.300e-01,\n",
              "       1.565e+01, 4.900e-01, 1.400e-01, 6.200e-01, 5.600e-01, 5.700e-01,\n",
              "       1.800e-01, 9.100e-01, 8.200e-01, 1.200e-01, 1.480e+01, 6.500e-01,\n",
              "       3.100e-01, 9.000e-02, 2.200e-01, 6.000e-02, 3.000e-01, 5.100e-01,\n",
              "       2.600e-01, 5.200e-01, 6.700e-01, 5.800e-01, 2.562e+02, 2.900e-01,\n",
              "       8.600e-01, 6.000e-01, 2.700e-01, 7.900e-01, 8.800e-01, 2.100e-01,\n",
              "       2.400e-01, 4.500e-01, 2.300e-01, 0.000e+00, 1.600e-01, 7.000e-02,\n",
              "       7.500e-01, 5.500e-01, 8.000e-02, 1.100e-01, 3.700e-01, 1.020e+00,\n",
              "       1.300e+00, 7.000e-01, 8.700e-01, 1.100e+00, 1.160e+00, 9.200e-01,\n",
              "       5.000e-02, 8.300e-01, 1.090e+00, 1.250e+00, 1.700e-01, 7.400e-01,\n",
              "       7.600e-01, 1.180e+00, 1.500e-01, 1.220e+00, 3.400e-01, 1.150e+00,\n",
              "       1.260e+00, 1.110e+00, 9.600e+01, 6.300e+01, 7.300e-01, 1.470e+00,\n",
              "       1.000e-01, 3.500e+01, 8.000e-01, 1.260e+01, 1.390e+01, 1.170e+00,\n",
              "       1.280e+00, 1.500e+00, 3.230e+01, 5.600e+00, 9.870e+00, 1.400e+00,\n",
              "       4.360e+00, 1.230e+00, 1.410e+00, 1.290e+00, 4.000e-02, 1.000e-02,\n",
              "       1.320e+00, 1.240e+00, 1.420e+00, 1.310e+00, 1.340e+00, 3.000e-02,\n",
              "       1.450e+00, 1.360e+00, 1.270e+00, 1.540e+00, 1.380e+00, 1.370e+00,\n",
              "       1.390e+00, 1.490e+00, 1.430e+00, 4.330e+00, 1.330e+00, 1.550e+00,\n",
              "       6.900e+01, 1.510e+00])"
            ]
          },
          "metadata": {},
          "execution_count": 122
        }
      ]
    },
    {
      "cell_type": "markdown",
      "source": [
        "This variable does not contains any nans.\n",
        "We will plot its histogram."
      ],
      "metadata": {
        "id": "db0FlxjjH780"
      }
    },
    {
      "cell_type": "code",
      "source": [
        "# Checking the histogram of the variable 'ClaimsRate'\n",
        "\n",
        "sns.displot(data=ds, x=\"ClaimsRate\", kde=True)\n",
        "plt.show()"
      ],
      "metadata": {
        "colab": {
          "base_uri": "https://localhost:8080/",
          "height": 369
        },
        "id": "KDNZXZ8fIELW",
        "outputId": "710fde35-2fa6-4f9e-b4d8-2103e04f8ab0"
      },
      "execution_count": 123,
      "outputs": [
        {
          "output_type": "display_data",
          "data": {
            "text/plain": [
              "<Figure size 360x360 with 1 Axes>"
            ],
            "image/png": "[encoded data removed]"
          },
          "metadata": {
            "needs_background": "light"
          }
        }
      ]
    },
    {
      "cell_type": "markdown",
      "source": [
        "We can see that the variable contains some outliers with claims Rate above 250."
      ],
      "metadata": {
        "id": "nC50_MVyIPfh"
      }
    },
    {
      "cell_type": "markdown",
      "source": [
        "### The variable 'PremMotor':"
      ],
      "metadata": {
        "id": "mcBNSdR1IX4x"
      }
    },
    {
      "cell_type": "code",
      "source": [
        "ds['PremMotor'].unique()"
      ],
      "metadata": {
        "colab": {
          "base_uri": "https://localhost:8080/"
        },
        "id": "y4OuKxw2IedE",
        "outputId": "3b506f80-8d56-4c62-c750-d7f403a467bf"
      },
      "execution_count": 124,
      "outputs": [
        {
          "output_type": "execute_result",
          "data": {
            "text/plain": [
              "array([375.85,  77.46, 206.15, ..., 105.13, 556.77,   6.89])"
            ]
          },
          "metadata": {},
          "execution_count": 124
        }
      ]
    },
    {
      "cell_type": "code",
      "source": [
        "ds = ds[~ds['PremMotor'].isin([np.nan, 'nan'])]"
      ],
      "metadata": {
        "id": "gqf6yIPMIhgR"
      },
      "execution_count": 125,
      "outputs": []
    },
    {
      "cell_type": "code",
      "source": [
        "# Checking the histogram of the variable 'PremMotor'\n",
        "\n",
        "sns.displot(data=ds, x=\"PremMotor\", kde=True)\n",
        "plt.show()"
      ],
      "metadata": {
        "colab": {
          "base_uri": "https://localhost:8080/",
          "height": 369
        },
        "id": "7pNs9th0Ihbw",
        "outputId": "99e1930d-e819-49cc-ecdc-5c6d5954cec0"
      },
      "execution_count": 126,
      "outputs": [
        {
          "output_type": "display_data",
          "data": {
            "text/plain": [
              "<Figure size 360x360 with 1 Axes>"
            ],
            "image/png": "[encoded data removed]"
          },
          "metadata": {
            "needs_background": "light"
          }
        }
      ]
    },
    {
      "cell_type": "markdown",
      "source": [
        "The variable seems to contains some outliers."
      ],
      "metadata": {
        "id": "nLaaK13qI58x"
      }
    },
    {
      "cell_type": "markdown",
      "source": [
        "### The variable 'PremHousehold'"
      ],
      "metadata": {
        "id": "EIcCKGCsI-za"
      }
    },
    {
      "cell_type": "code",
      "source": [
        "ds['PremHousehold'].unique()"
      ],
      "metadata": {
        "colab": {
          "base_uri": "https://localhost:8080/"
        },
        "id": "6tp_g93vI4f-",
        "outputId": "5643eda3-8dab-41a6-db79-78f9d7dd8055"
      },
      "execution_count": 127,
      "outputs": [
        {
          "output_type": "execute_result",
          "data": {
            "text/plain": [
              "array([  79.45,  416.2 ,  224.5 , ..., 1070.2 , 1045.75, 1035.75])"
            ]
          },
          "metadata": {},
          "execution_count": 127
        }
      ]
    },
    {
      "cell_type": "code",
      "source": [
        "ds = ds[~ds['PremHousehold'].isin([np.nan, 'nan'])]"
      ],
      "metadata": {
        "id": "5wMvV-7YQfgG"
      },
      "execution_count": 128,
      "outputs": []
    },
    {
      "cell_type": "code",
      "source": [
        "# Checking the histogram of the variable 'PremHousehold'\n",
        "\n",
        "sns.displot(data=ds, x=\"PremHousehold\", kde=True)\n",
        "plt.show()"
      ],
      "metadata": {
        "colab": {
          "base_uri": "https://localhost:8080/",
          "height": 369
        },
        "id": "UZeo2MTbQkFh",
        "outputId": "f53fd866-bf24-40cb-e2f3-84eb38445f8b"
      },
      "execution_count": 129,
      "outputs": [
        {
          "output_type": "display_data",
          "data": {
            "text/plain": [
              "<Figure size 360x360 with 1 Axes>"
            ],
            "image/png": "[encoded data removed]"
          },
          "metadata": {
            "needs_background": "light"
          }
        }
      ]
    },
    {
      "cell_type": "markdown",
      "source": [
        "The distribution is right skewed as it contains very big Household premiums values."
      ],
      "metadata": {
        "id": "fQ_SUDrhQn6a"
      }
    },
    {
      "cell_type": "markdown",
      "source": [
        "### The variable 'Premhealth':"
      ],
      "metadata": {
        "id": "XTDZpbfAQys7"
      }
    },
    {
      "cell_type": "code",
      "source": [
        "ds['PremHealth'].unique()"
      ],
      "metadata": {
        "colab": {
          "base_uri": "https://localhost:8080/"
        },
        "id": "r4mvsdaeQ63_",
        "outputId": "a4436855-8935-438d-a455-987f479fb914"
      },
      "execution_count": 130,
      "outputs": [
        {
          "output_type": "execute_result",
          "data": {
            "text/plain": [
              "array([146.36, 116.69, 124.58, ..., 327.73, 390.74, 417.08])"
            ]
          },
          "metadata": {},
          "execution_count": 130
        }
      ]
    },
    {
      "cell_type": "code",
      "source": [
        "ds = ds[~ds['PremHealth'].isin([np.nan, 'nan'])]"
      ],
      "metadata": {
        "id": "p0YvWow-RWyr"
      },
      "execution_count": 131,
      "outputs": []
    },
    {
      "cell_type": "code",
      "source": [
        "# Checking the histogram of the variable 'PremHealth'\n",
        "\n",
        "sns.displot(data=ds, x=\"PremHealth\", kde=True)\n",
        "plt.show()"
      ],
      "metadata": {
        "colab": {
          "base_uri": "https://localhost:8080/",
          "height": 369
        },
        "id": "Zm6PWIZ_RaTT",
        "outputId": "1a077ede-68f4-4b49-e448-c69b8df7f6d9"
      },
      "execution_count": 132,
      "outputs": [
        {
          "output_type": "display_data",
          "data": {
            "text/plain": [
              "<Figure size 360x360 with 1 Axes>"
            ],
            "image/png": "[encoded data removed]"
          },
          "metadata": {
            "needs_background": "light"
          }
        }
      ]
    },
    {
      "cell_type": "markdown",
      "source": [
        "Right skewed distribution with very high values."
      ],
      "metadata": {
        "id": "xZjpRi6aRf2C"
      }
    },
    {
      "cell_type": "markdown",
      "source": [
        "### The variable 'PremLife':"
      ],
      "metadata": {
        "id": "-Pj5pw5yRkUL"
      }
    },
    {
      "cell_type": "code",
      "source": [
        "ds['PremLife'].unique()"
      ],
      "metadata": {
        "colab": {
          "base_uri": "https://localhost:8080/"
        },
        "id": "2bNuEOv_R0bl",
        "outputId": "2a7dc470-ac90-4f5a-82b6-b8145ce734b7"
      },
      "execution_count": 133,
      "outputs": [
        {
          "output_type": "execute_result",
          "data": {
            "text/plain": [
              "array([ 4.7010e+01,  1.9448e+02,  8.6350e+01,  3.5340e+01,  1.8780e+01,\n",
              "        7.0000e+00,  1.4670e+01,  6.6680e+01,  8.7800e+00,  3.9230e+01,\n",
              "        1.8670e+01,  3.6340e+01,  4.3120e+01,  2.6794e+02,  1.0890e+01,\n",
              "       -3.0000e+00,  1.2558e+02,  3.8900e+00,  1.4780e+01,  2.4450e+01,\n",
              "        6.4790e+01,  4.8010e+01,  1.5670e+01,  1.7560e+01, -5.0000e+00,\n",
              "        1.7780e+01, -4.0000e+00,  4.6120e+01,  4.7800e+00,  2.2560e+01,\n",
              "        4.0230e+01,  1.1180e+02,  2.6560e+01,  3.0000e+00,  5.3010e+01,\n",
              "        1.7670e+01,  1.4636e+02,  1.0802e+02,  5.2010e+01,  2.2471e+02,\n",
              "        1.0613e+02,  5.9790e+01,  7.2680e+01,  1.8900e+00,  1.6780e+01,\n",
              "        5.0000e+00,  1.2780e+01,  4.4120e+01,  1.2890e+01, -1.1100e+00,\n",
              "        6.0000e+00,  6.9680e+01,  5.2900e+01,  3.0340e+01,  2.3450e+01,\n",
              "        6.8900e+00,  1.6560e+01,  3.2340e+01,         nan,  2.0560e+01,\n",
              "        6.5680e+01,  7.0790e+01,  5.6900e+01,  5.1120e+01,  2.2670e+01,\n",
              "        5.1900e+01,  4.8120e+01,  3.9340e+01,  2.9560e+01,  8.9000e-01,\n",
              "        3.0560e+01,  7.8900e+00, -6.0000e+00,  3.8230e+01,  3.1340e+01,\n",
              "        3.2450e+01,  1.1670e+01,  3.1450e+01,  6.0790e+01, -1.0000e+00,\n",
              "        1.8548e+02,  2.3670e+01,  6.7680e+01,  3.7230e+01,  1.9560e+01,\n",
              "        1.3780e+01,  1.2670e+01,  2.1304e+02,  1.0000e+00,  3.5230e+01,\n",
              "        2.9340e+01,  9.7800e+00,  2.8900e+00,  8.8900e+00,  2.9450e+01,\n",
              "        8.7240e+01,  9.3350e+01,  1.1890e+01,  9.8900e+00,  7.1790e+01,\n",
              "        9.8240e+01,  3.7340e+01,  1.0780e+01,  2.1560e+01,  1.3647e+02,\n",
              "        4.1120e+01,  1.0402e+02,  3.0450e+01,  7.3570e+01,  4.7230e+01,\n",
              "        1.3147e+02,  1.8560e+01, -1.1000e-01,  1.2869e+02,  9.3130e+01,\n",
              "        7.7800e+00,  4.0340e+01,  5.7900e+01,  4.5120e+01,  7.6680e+01,\n",
              "        2.8560e+01,  7.5680e+01,  2.2450e+01,  5.8900e+00,  2.0670e+01,\n",
              "        5.8010e+01,  5.7800e+00,  4.5230e+01,  6.7790e+01,  3.4230e+01,\n",
              "        8.9460e+01,  2.4560e+01, -7.0000e+00,  3.4450e+01,  5.6010e+01,\n",
              "        1.1780e+01,  4.0000e+00,  6.3900e+01,  1.6670e+01,  6.3680e+01,\n",
              "        1.7570e+02,  5.3900e+01,  2.6450e+01,  5.0120e+01,  1.0124e+02,\n",
              "        1.1080e+02,  4.4230e+01,  2.0000e+00,  9.2350e+01,  3.3450e+01,\n",
              "        6.3790e+01,  6.5900e+01,  1.2769e+02,  1.2080e+02,  3.6450e+01,\n",
              "        2.3560e+01,  7.2570e+01,  1.4525e+02,  1.4047e+02, -2.0000e+00,\n",
              "        8.1350e+01,  9.4350e+01,  4.3230e+01,  2.5450e+01,  8.0460e+01,\n",
              "        3.4340e+01,  1.5780e+01,  5.4010e+01,  1.3670e+01,  2.5560e+01,\n",
              "        7.7570e+01,  5.4120e+01,  2.4670e+01,  8.2570e+01,  4.8900e+00,\n",
              "        6.9570e+01,  1.9737e+02,  4.0120e+01,  2.2371e+02,  5.7790e+01,\n",
              "        2.1904e+02,  3.5450e+01,  1.1980e+02,  1.4825e+02,  1.6792e+02,\n",
              "        7.1570e+01,  6.5790e+01,  8.1570e+01,  1.3069e+02,  2.3171e+02,\n",
              "        6.7800e+00,  8.8460e+01,  1.2180e+02,  1.8159e+02,  1.9348e+02,\n",
              "        1.5892e+02,  2.1670e+01,  1.0670e+01,  2.7560e+01,  2.8340e+01,\n",
              "        7.0680e+01,  4.1340e+01,  2.1315e+02,  9.4130e+01,  5.2120e+01,\n",
              "        3.6230e+01,  1.9670e+01,  8.3350e+01,  1.5992e+02,  2.4249e+02,\n",
              "        5.0010e+01,  7.1680e+01,  8.4460e+01,  7.4570e+01,  4.7120e+01,\n",
              "        1.2458e+02,  1.5314e+02,  1.1691e+02,  7.8460e+01,  8.5460e+01,\n",
              "        5.5010e+01,  2.7450e+01,  1.0102e+02,  1.8348e+02,  1.2969e+02,\n",
              "        2.8450e+01,  2.2871e+02,  9.4240e+01,  9.9020e+01,  8.7460e+01,\n",
              "        1.9937e+02,  1.7370e+02,  9.9130e+01,  8.3570e+01,  1.2758e+02,\n",
              "        6.2900e+01,  2.0115e+02,  4.2340e+01,  1.8448e+02,  8.1460e+01,\n",
              "        7.5570e+01,  4.2120e+01,  4.9010e+01,  3.8340e+01,  4.8230e+01,\n",
              "        6.4680e+01,  1.4136e+02,  1.6692e+02,  9.5240e+01,  1.6781e+02,\n",
              "        1.9837e+02,  6.4900e+01,  2.5227e+02,  2.7972e+02,  1.6603e+02,\n",
              "        8.6460e+01,  1.0302e+02,  1.1202e+02,  2.1193e+02,  9.1240e+01,\n",
              "        1.0113e+02,  9.3240e+01,  8.9240e+01,  1.0713e+02,  1.1580e+02,\n",
              "        4.2230e+01,  8.9350e+01,  5.3120e+01,  7.7680e+01,  8.4350e+01,\n",
              "        1.1191e+02,  1.5714e+02,  1.0991e+02,  1.7759e+02,  9.7240e+01,\n",
              "        1.8059e+02,  1.4036e+02,  6.9790e+01,  6.0010e+01,  8.3460e+01,\n",
              "        7.4680e+01,  1.4425e+02,  4.1230e+01,  1.4614e+02,  1.4625e+02,\n",
              "        6.0900e+01,  2.0726e+02,  1.7870e+02,  1.1291e+02,  1.5114e+02,\n",
              "        2.6116e+02,  1.4325e+02,  1.5214e+02,  5.5900e+01,  6.2790e+01,\n",
              "        7.7460e+01,  1.2169e+02,  1.2669e+02,  1.5425e+02,  8.7350e+01,\n",
              "        1.1102e+02,  1.3736e+02,  1.6881e+02,  8.8240e+01,  1.1669e+02,\n",
              "        9.8130e+01,  1.3536e+02,  7.9460e+01,  1.3258e+02,  9.1350e+01,\n",
              "        1.7581e+02,  1.7170e+02,  4.6010e+01,  1.2469e+02,  9.6130e+01,\n",
              "        1.5303e+02,  1.7559e+02,  1.7959e+02,  1.5914e+02,  1.0413e+02,\n",
              "        8.0570e+01,  5.9900e+01,  1.2269e+02,  4.9120e+01,  1.5414e+02,\n",
              "        3.3340e+01,  1.0602e+02,  1.8648e+02,  6.1900e+01,  1.6303e+02,\n",
              "        1.4736e+02,  1.2858e+02,  1.0024e+02,  9.0350e+01,  1.5225e+02,\n",
              "        1.8259e+02,  1.2280e+02,  5.4900e+01,  7.3680e+01,  1.3547e+02,\n",
              "        3.5440e+02,  6.8680e+01,  2.4449e+02,  1.0313e+02,  1.3447e+02,\n",
              "        1.1769e+02,  7.8570e+01,  1.2658e+02,  1.2369e+02,  1.3947e+02,\n",
              "        1.1780e+02,  7.9570e+01,  1.4025e+02,  1.7670e+02,  1.4125e+02,\n",
              "        1.1791e+02,  1.1280e+02,  1.0502e+02,  2.9750e+02,  1.5503e+02,\n",
              "        7.6570e+01,  1.7970e+02,  2.0526e+02,  5.7010e+01,  1.0213e+02,\n",
              "        4.6230e+01,  3.0050e+02,  6.8790e+01,  5.1010e+01,  1.2380e+02,\n",
              "        1.0013e+02,  2.2782e+02,  1.1680e+02,  7.5460e+01,  1.6103e+02,\n",
              "        1.2947e+02,  1.0691e+02,  1.3436e+02,  2.4149e+02,  9.9240e+01,\n",
              "        6.6790e+01,  1.4336e+02,  1.4436e+02,  1.6981e+02,  2.0137e+02,\n",
              "        3.2006e+02,  1.1880e+02,  8.5350e+01,  1.1491e+02,  1.6492e+02,\n",
              "        3.1328e+02,  2.2493e+02,  5.9010e+01,  2.4260e+02,  1.1002e+02,\n",
              "        1.5514e+02,  1.3158e+02,  1.8359e+02,  2.3560e+02,  1.3058e+02,\n",
              "        1.0591e+02,  1.6003e+02,  9.7130e+01,  1.0902e+02,  8.8350e+01,\n",
              "        1.1891e+02,  1.0791e+02,  1.3558e+02,  1.1591e+02,  1.4725e+02,\n",
              "        2.1215e+02,  1.3358e+02,  1.1302e+02,  7.0570e+01,  5.8790e+01,\n",
              "        1.4536e+02,  9.6240e+01,  1.2958e+02,  1.3047e+02,  2.7583e+02,\n",
              "        6.1790e+01,  3.4640e+02,  1.5014e+02,  3.6329e+02,  1.6581e+02,\n",
              "        1.6892e+02,  1.2480e+02,  9.2240e+01,  1.7381e+02,  1.9326e+02,\n",
              "        1.5903e+02,  8.2460e+01,  1.5814e+02,  1.3847e+02,  2.3449e+02,\n",
              "        2.2282e+02,  1.4225e+02,  1.9048e+02,  1.0491e+02,  1.4814e+02,\n",
              "        1.6203e+02,  2.3671e+02,  1.3458e+02,  1.5125e+02,  7.6460e+01,\n",
              "        1.9548e+02,  1.8170e+02,  1.8248e+02,  1.6392e+02,  2.0026e+02,\n",
              "        1.3247e+02,  2.4049e+02,  3.4151e+02,  9.5130e+01,  2.1004e+02,\n",
              "        2.1993e+02,  1.2258e+02,  2.1504e+02,  1.3836e+02,  2.0815e+02,\n",
              "        3.0928e+02,  5.8900e+01,  2.7205e+02,  1.3347e+02,  1.8759e+02,\n",
              "        3.1128e+02,  3.9830e+02,  2.0126e+02,  1.1380e+02,  2.7883e+02,\n",
              "        9.0240e+01,  9.5350e+01,  2.2271e+02,  2.3860e+02,  2.1093e+02,\n",
              "        1.8459e+02,  1.9726e+02,  2.7094e+02,  1.1969e+02,  1.7781e+02,\n",
              "        2.3360e+02,  1.4714e+02,  8.2350e+01,  1.3747e+02,  1.7270e+02,\n",
              "        1.7181e+02,  1.7092e+02,  1.8937e+02,  2.8272e+02,  2.0904e+02,\n",
              "        1.3936e+02,  2.1593e+02,  2.0426e+02,  2.4538e+02,  1.7070e+02,\n",
              "        1.8959e+02,  1.1091e+02,  1.0202e+02,  1.5792e+02,  1.9148e+02,\n",
              "        1.7859e+02,  2.1793e+02,  2.1204e+02,  2.3082e+02,  2.0415e+02,\n",
              "        2.6416e+02,  1.8737e+02,  2.4727e+02,  1.0891e+02,  1.9826e+02,\n",
              "        1.1480e+02,  1.2847e+02,  2.1493e+02,  1.5025e+02,  2.5827e+02,\n",
              "        1.9337e+02,  3.2484e+02,  1.0702e+02,  1.6503e+02,  1.5203e+02,\n",
              "        1.5803e+02,  2.1682e+02,  2.0715e+02,  2.3660e+02,  2.1704e+02,\n",
              "        1.5403e+02,  1.9037e+02,  1.1869e+02,  2.3471e+02,  1.9626e+02,\n",
              "        3.2973e+02,  1.4236e+02,  2.5038e+02,  1.9437e+02,  2.0015e+02,\n",
              "        2.2293e+02,  1.2569e+02,  1.7481e+02,  1.3636e+02,  1.9426e+02,\n",
              "        2.4827e+02,  2.7183e+02,  1.0002e+02,  2.4160e+02,  2.5927e+02,\n",
              "        1.7770e+02,  1.0513e+02,  1.7192e+02,  3.1806e+02,  2.1115e+02,\n",
              "        1.4147e+02,  1.4247e+02,  1.5703e+02,  1.2069e+02,  1.4836e+02,\n",
              "        1.9915e+02,  2.5516e+02,  1.3658e+02,  2.4238e+02,  2.2482e+02,\n",
              "        3.6518e+02,  1.6014e+02,  2.8183e+02,  2.0626e+02,  1.6681e+02,\n",
              "        2.7572e+02,  1.8848e+02,  1.9248e+02,  1.8270e+02,  1.7681e+02,\n",
              "        2.3571e+02,  2.0515e+02,  1.7470e+02,  2.3760e+02,  2.7694e+02,\n",
              "        2.2393e+02,  2.1982e+02,  1.6092e+02,  1.2358e+02,  2.6405e+02,\n",
              "        1.5614e+02,  2.7594e+02,  2.3271e+02,  1.6592e+02,  1.1391e+02,\n",
              "        2.8461e+02,  1.9526e+02,  2.7394e+02,  1.9637e+02,  2.2093e+02,\n",
              "        2.3749e+02,  2.0615e+02,  2.2382e+02,  1.6970e+02,  3.3084e+02,\n",
              "        2.9550e+02,  1.6292e+02,  2.6305e+02,  1.4914e+02,  1.8859e+02,\n",
              "        2.9950e+02,  1.8148e+02,  1.8748e+02,  2.3460e+02,  1.6992e+02,\n",
              "        2.3960e+02,  2.2882e+02,  2.1804e+02,  2.6105e+02,  2.3060e+02,\n",
              "        2.7683e+02,  2.7083e+02])"
            ]
          },
          "metadata": {},
          "execution_count": 133
        }
      ]
    },
    {
      "cell_type": "code",
      "source": [
        "ds = ds[~ds['PremLife'].isin([np.nan, 'nan'])]"
      ],
      "metadata": {
        "id": "gTbj3sTGR_-q"
      },
      "execution_count": 134,
      "outputs": []
    },
    {
      "cell_type": "code",
      "source": [
        "# Checking the histogram of the variable 'PremLife'\n",
        "\n",
        "sns.displot(data=ds, x=\"PremLife\", kde=True)\n",
        "plt.show()"
      ],
      "metadata": {
        "colab": {
          "base_uri": "https://localhost:8080/",
          "height": 369
        },
        "id": "QD3nIBzVSD0X",
        "outputId": "e1b7c6e2-730f-4e63-ca77-e1b2ecb2dec1"
      },
      "execution_count": 135,
      "outputs": [
        {
          "output_type": "display_data",
          "data": {
            "text/plain": [
              "<Figure size 360x360 with 1 Axes>"
            ],
            "image/png": "[encoded data removed]"
          },
          "metadata": {
            "needs_background": "light"
          }
        }
      ]
    },
    {
      "cell_type": "markdown",
      "source": [
        "Right skewed distribution, but does not seem to contain outliers."
      ],
      "metadata": {
        "id": "RPCLW97CSHYr"
      }
    },
    {
      "cell_type": "markdown",
      "source": [
        "### The variable 'PremWork':"
      ],
      "metadata": {
        "id": "QlizD9dsSPe8"
      }
    },
    {
      "cell_type": "code",
      "source": [
        "ds['PremWork'].unique()"
      ],
      "metadata": {
        "colab": {
          "base_uri": "https://localhost:8080/"
        },
        "id": "lWcv34D6SUoN",
        "outputId": "000c8436-2e5d-4164-aa40-a9986fdfb4b7"
      },
      "execution_count": 136,
      "outputs": [
        {
          "output_type": "execute_result",
          "data": {
            "text/plain": [
              "array([ 1.6890e+01,  1.0613e+02,  9.9020e+01,  2.8340e+01,  4.1450e+01,\n",
              "        7.6700e+00,  2.6340e+01,  5.3230e+01,  9.8900e+00,  5.5120e+01,\n",
              "        1.0890e+01,  3.5450e+01,  1.5780e+01,  9.4460e+01,  1.9670e+01,\n",
              "        3.7230e+01,  2.7560e+01,  7.2570e+01,  3.0560e+01,  3.3340e+01,\n",
              "        5.4900e+01,  3.3560e+01,  4.7800e+00,  2.2780e+01,  9.7800e+00,\n",
              "       -1.1000e-01, -5.0000e+00, -5.1100e+00,  9.6700e+00,  7.8900e+00,\n",
              "        7.2680e+01,  6.5790e+01,  8.4350e+01,  4.0230e+01,  5.7800e+00,\n",
              "        1.4803e+02,  2.5340e+01,  2.5560e+01,  2.3340e+01,  4.4230e+01,\n",
              "        7.5790e+01,  6.9900e+01,  1.4890e+01,  3.8900e+00, -9.0000e+00,\n",
              "        3.0450e+01,  2.7800e+00,  1.0000e+01,  6.2680e+01,  1.6780e+01,\n",
              "        5.1120e+01,  8.7800e+00,  4.8120e+01, -4.1100e+00, -6.1100e+00,\n",
              "        9.7350e+01,  1.7890e+01,  7.9680e+01,  3.3230e+01,  5.9900e+01,\n",
              "        2.0780e+01,  8.9000e-01,  2.9670e+01,  7.3680e+01,  5.0010e+01,\n",
              "       -3.1100e+00,  3.0230e+01,  2.1670e+01,  1.7780e+01,  5.6700e+00,\n",
              "        6.4010e+01,  8.6700e+00, -1.0000e+00,  1.2670e+01,  1.9450e+01,\n",
              "        2.9560e+01,  4.1120e+01,  2.0560e+01, -8.0000e+00,  1.1891e+02,\n",
              "        5.9680e+01,  3.7340e+01,  6.8900e+00,  1.5603e+02,  1.1858e+02,\n",
              "        2.8450e+01,  4.0340e+01,  1.4670e+01,  1.4614e+02,  1.6560e+01,\n",
              "       -1.1100e+00,  9.9350e+01, -1.2000e+01,  6.0900e+01,  7.0460e+01,\n",
              "        2.6560e+01,  6.4570e+01,  4.1230e+01,  6.8680e+01,  3.6230e+01,\n",
              "        3.5340e+01,  1.3890e+01,  6.5900e+01,  1.0602e+02,  2.0450e+01,\n",
              "        3.7800e+00,  2.0670e+01,  4.7900e+01, -3.0000e+00,  5.8900e+00,\n",
              "        5.0000e+00,  4.2230e+01,  1.9780e+01,  1.2780e+01,  5.7790e+01,\n",
              "        1.5125e+02,  4.5153e+02,  3.1340e+01,  1.0691e+02,  1.0113e+02,\n",
              "        1.1780e+01,  4.0000e+00,  4.8230e+01,  1.1670e+01,  6.8790e+01,\n",
              "        1.8900e+00,  6.6700e+00,  1.0670e+01,  8.0570e+01,  2.5670e+01,\n",
              "        1.0680e+02,  1.8450e+01,  3.9230e+01,  7.0680e+01,  6.3900e+01,\n",
              "        2.0904e+02,  3.8450e+01, -2.2000e-01,  2.3450e+01,  2.1215e+02,\n",
              "        5.6010e+01,  1.2069e+02,  2.2560e+02,  1.7670e+01,  6.0000e+00,\n",
              "        3.1560e+01,  2.0000e+00,  3.2230e+01,  3.4340e+01,  4.2010e+01,\n",
              "        6.3010e+01,  4.0450e+01,  1.2890e+01,  4.3010e+01,  8.4240e+01,\n",
              "        9.0000e+00, -7.0000e+00,  3.0000e+00,  5.7900e+01,  1.6670e+01,\n",
              "        1.8780e+01,  2.4560e+01,  8.0000e+00,  4.6900e+01,  5.8120e+01,\n",
              "        9.9240e+01,  1.6403e+02,  4.5230e+01,  1.1302e+02,  3.6340e+01,\n",
              "        2.9450e+01,  7.3460e+01,  1.7800e+00,  4.8900e+00,  1.3936e+02,\n",
              "        2.3670e+01,  6.4680e+01,  2.2670e+01,  1.7450e+01,  1.2880e+02,\n",
              "        7.8000e-01,  8.2460e+01,  3.6120e+01, -2.1100e+00,  7.6680e+01,\n",
              "        1.4780e+01,  4.0120e+01,  7.6570e+01, -1.0000e+01,  9.2240e+01,\n",
              "        6.5010e+01,  9.0350e+01,  1.1969e+02,  1.0291e+02,  1.4925e+02,\n",
              "        9.8020e+01,  3.9340e+01,  7.4680e+01,  2.3780e+01,  2.2450e+01,\n",
              "        2.6450e+01,  1.5014e+02,  4.9230e+01,  1.0980e+02,  1.3670e+01,\n",
              "        3.5120e+01,  3.7120e+01,  2.4670e+01,  2.8900e+00,  3.2560e+01,\n",
              "       -2.0000e+00,  5.3120e+01,  5.2900e+01,  4.2120e+01,  4.6230e+01,\n",
              "        8.1350e+01,  5.0230e+01,  5.2790e+01,  2.8560e+01,  5.8790e+01,\n",
              "        2.4450e+01,  3.0340e+01,  3.1230e+01,  1.0491e+02,  4.4120e+01,\n",
              "        1.0591e+02,  7.7800e+00,  5.9010e+01,  1.8170e+02,  7.5460e+01,\n",
              "        8.9350e+01,  6.7900e+01, -1.1000e+01,  1.1013e+02,  1.5890e+01,\n",
              "        4.8900e+01,  1.0580e+02, -4.0000e+00,  3.4230e+01,  7.8460e+01,\n",
              "        2.2582e+02,  2.6670e+01,  1.4025e+02,  1.9537e+02,  9.3460e+01,\n",
              "        1.3758e+02,  2.9230e+01,  4.1340e+01,         nan,  7.0000e+00,\n",
              "        6.2010e+01,  5.5900e+01,  6.7800e+00,  5.4790e+01,  9.4130e+01,\n",
              "        1.0524e+02,  1.3780e+01,  4.9900e+01,  8.3240e+01,  1.4058e+02,\n",
              "        1.5670e+01,  5.9120e+01,  8.5570e+01,  7.2790e+01,  1.1958e+02,\n",
              "        2.1780e+01,  8.4460e+01,  6.0680e+01,  5.1010e+01,  7.7350e+01,\n",
              "        1.1890e+01,  3.3450e+01,  2.4916e+02,  3.1450e+01,  1.6014e+02,\n",
              "        3.5230e+01,  6.1790e+01,  6.8570e+01,  2.1204e+02,  1.2560e+01,\n",
              "        9.2460e+01,  3.9120e+01,  1.7070e+02,  3.5560e+01,  2.8670e+01,\n",
              "        3.9450e+01,  5.8010e+01,  1.6581e+02,  2.3560e+01,  1.6414e+02,\n",
              "        4.4340e+01,  8.3350e+01,  1.9560e+01,  1.1502e+02,  2.9850e+02,\n",
              "        8.8900e+00,  5.9790e+01,  6.5570e+01,  1.5560e+01,  1.0000e+00,\n",
              "        1.2369e+02,  3.2340e+01,  1.1791e+02,  1.5103e+02,  1.1702e+02,\n",
              "        2.0826e+02,  8.5350e+01,  1.4158e+02,  2.7450e+01,  9.0460e+01,\n",
              "        8.6460e+01,  1.0391e+02,  1.1113e+02,  5.4120e+01,  9.8130e+01,\n",
              "        1.8560e+01,  9.4240e+01,  5.2120e+01,  8.2240e+01,  1.2000e+01,\n",
              "        6.1900e+01,  4.3230e+01,  1.7459e+02,  7.0790e+01,  1.4560e+01,\n",
              "        4.5340e+01,  3.8120e+01,  2.2560e+01,  8.6570e+01,  2.9340e+01,\n",
              "        6.1010e+01,  6.6790e+01,  6.6570e+01,  1.1560e+01,  3.8340e+01,\n",
              "        5.3010e+01,  4.3120e+01,  4.8010e+01,  2.5605e+02,  2.4160e+02,\n",
              "        1.2358e+02,  3.7450e+01,  4.2340e+01,  8.6240e+01,  3.4450e+01,\n",
              "        1.4836e+02,  5.1230e+01,  1.7570e+02,  8.4570e+01,  2.7670e+01,\n",
              "        4.4010e+01,  1.0780e+01,  3.4560e+01,  1.0213e+02,  4.6120e+01,\n",
              "        6.6900e+01,  8.9460e+01,  1.0991e+02,  2.4340e+01,  7.6460e+01,\n",
              "        1.0302e+02,  4.7230e+01,  1.2080e+02,  2.4049e+02,  2.0026e+02,\n",
              "        7.7570e+01,  6.3790e+01,  7.1790e+01,  5.0120e+01,  1.3247e+02,\n",
              "        5.2010e+01,  1.7592e+02,  5.8900e+01,  1.0891e+02,  7.6350e+01,\n",
              "        1.0502e+02,  8.0680e+01,  7.8350e+01,  4.7010e+01, -6.0000e+00,\n",
              "        1.0013e+02,  6.9680e+01,  1.1091e+02,  8.8350e+01,  6.0010e+01,\n",
              "        1.1213e+02,  1.0402e+02,  2.2393e+02,  9.5020e+01,  9.5130e+01,\n",
              "        1.2647e+02,  1.0913e+02,  2.4949e+02,  1.4636e+02,  8.7350e+01,\n",
              "        1.3647e+02,  6.4900e+01,  2.0815e+02,  8.1680e+01,  1.1000e+01,\n",
              "        7.8570e+01,  5.2230e+01,  1.2858e+02,  1.2391e+02,  1.3525e+02,\n",
              "        9.7020e+01,  6.7790e+01,  1.0624e+02,  6.2790e+01,  4.6340e+01,\n",
              "        2.1450e+01,  1.0780e+02,  1.2258e+02,  5.0900e+01,  7.3790e+01,\n",
              "        9.5240e+01,  2.5349e+02,  1.1169e+02,  1.2380e+02,  1.5492e+02,\n",
              "        1.5336e+02,  1.8337e+02,  1.2180e+02,  1.2169e+02,  9.4350e+01,\n",
              "        1.2569e+02,  1.1391e+02,  2.3938e+02,  9.8240e+01,  8.2570e+01,\n",
              "        1.8081e+02,  8.5240e+01,  1.3560e+01,  7.5570e+01,  1.0224e+02,\n",
              "        9.3240e+01,  4.5010e+01,  9.5350e+01,  1.8670e+01,  1.8570e+02,\n",
              "        1.7970e+02,  1.2558e+02,  8.7460e+01,  1.1202e+02,  1.2191e+02,\n",
              "        5.6120e+01,  1.5303e+02,  4.5120e+01,  5.5790e+01,  8.8240e+01,\n",
              "        1.7103e+02,  1.3358e+02,  1.8070e+02,  2.7340e+01,  1.4236e+02,\n",
              "        1.2447e+02,  3.8230e+01,  9.4020e+01,  8.8460e+01,  1.1691e+02,\n",
              "        8.1570e+01,  6.2900e+01,  7.8680e+01,  1.8848e+02,  7.4570e+01,\n",
              "        1.1569e+02,  1.4447e+02,  7.6790e+01,  5.6900e+01,  1.9237e+02,\n",
              "        4.3340e+01,  1.9459e+02,  6.4790e+01,  1.0191e+02,  1.7560e+01,\n",
              "        1.4436e+02,  1.3347e+02,  2.1815e+02,  3.2450e+01,  7.3570e+01,\n",
              "        7.0900e+01,  2.5450e+01,  2.3960e+02,  1.5692e+02,  9.3130e+01,\n",
              "        4.7340e+01,  2.0437e+02,  1.1180e+02,  4.7120e+01,  5.1900e+01,\n",
              "        7.4790e+01,  6.9570e+01,  7.9570e+01,  1.5714e+02,  1.0413e+02,\n",
              "        1.2547e+02,  1.4047e+02,  1.0091e+02,  1.1191e+02,  4.9120e+01,\n",
              "        8.6350e+01,  1.2469e+02,  1.7381e+02,  1.9548e+02,  9.1460e+01,\n",
              "        7.1460e+01,  2.3738e+02,  5.3900e+01,  1.0324e+02,  1.7092e+02,\n",
              "        5.4010e+01,  6.5680e+01,  1.1869e+02,  2.1026e+02,  1.7581e+02,\n",
              "        8.0460e+01,  8.5460e+01,  6.7570e+01,  1.7748e+02,  7.5680e+01,\n",
              "        4.9410e+02,  4.9010e+01,  2.3860e+02,  1.6792e+02,  1.5325e+02,\n",
              "        4.1708e+02,  4.1010e+01,  1.5503e+02,  2.3460e+02,  1.1980e+02,\n",
              "        2.1560e+01,  1.2780e+02,  8.2680e+01,  1.4125e+02,  2.0893e+02,\n",
              "        1.0313e+02,  9.1350e+01,  1.8959e+02,  5.7120e+01,  1.1369e+02,\n",
              "        3.6450e+01,  1.8270e+02,  1.1669e+02,  1.0124e+02,  7.4460e+01,\n",
              "        1.0713e+02,  1.3658e+02,  1.5225e+02,  1.6292e+02,  1.0802e+02,\n",
              "        1.4036e+02,  1.0024e+02,  1.5925e+02,  1.4514e+02,  2.6316e+02,\n",
              "        1.1080e+02,  1.2769e+02,  1.3458e+02,  1.1880e+02,  5.7010e+01,\n",
              "        1.7181e+02,  1.9737e+02,  1.6392e+02,  1.8926e+02,  9.6130e+01,\n",
              "        1.7003e+02,  1.0035e+02,  1.5881e+02,  1.2091e+02,  1.6003e+02,\n",
              "        1.2480e+02,  2.7294e+02,  1.1269e+02,  9.6020e+01,  1.5114e+02,\n",
              "        1.8870e+02,  1.3158e+02,  1.3258e+02,  8.2350e+01,  1.5414e+02,\n",
              "        8.1460e+01,  1.7859e+02,  1.1380e+02,  1.1802e+02,  1.1780e+02,\n",
              "        1.3558e+02,  1.3447e+02,  1.4647e+02,  4.6010e+01,  1.7470e+02,\n",
              "        5.8680e+01,  1.5703e+02,  8.9240e+01,  6.6680e+01,  1.4336e+02,\n",
              "        6.7680e+01,  1.0513e+02,  5.6790e+01,  1.3369e+02,  1.1591e+02,\n",
              "        2.0515e+02,  7.1570e+01,  1.3836e+02,  1.1769e+02,  1.4825e+02,\n",
              "        2.5538e+02,  1.6214e+02,  1.6870e+02,  1.4247e+02,  9.6350e+01,\n",
              "        7.9460e+01,  9.7240e+01,  1.1291e+02,  3.5251e+02,  2.6327e+02,\n",
              "        7.7680e+01,  6.0790e+01,  2.1782e+02,  1.1491e+02,  1.3825e+02,\n",
              "        2.1226e+02,  3.3473e+02,  2.1404e+02,  1.1991e+02,  8.8130e+01,\n",
              "        1.1102e+02,  1.5203e+02,  1.9937e+02,  8.9130e+01,  3.5262e+02,\n",
              "        1.6670e+02,  1.2580e+02,  1.0202e+02,  1.6603e+02,  8.8570e+01,\n",
              "        1.4147e+02,  8.3570e+01,  2.0726e+02,  2.1393e+02,  9.2350e+01,\n",
              "        8.3460e+01,  2.9372e+02,  2.3471e+02,  1.8448e+02,  1.2669e+02,\n",
              "        1.4225e+02,  6.1680e+01,  1.8748e+02,  8.7240e+01,  1.2869e+02,\n",
              "        1.4625e+02,  2.5438e+02,  1.6303e+02,  1.5514e+02,  9.0240e+01,\n",
              "        2.6094e+02,  1.2758e+02,  1.9426e+02,  6.8900e+01,  8.7570e+01,\n",
              "        1.6481e+02,  1.2280e+02,  1.2969e+02,  1.9726e+02,  2.2982e+02,\n",
              "        3.3984e+02,  1.7559e+02,  9.8350e+01,  7.0570e+01,  9.2130e+01,\n",
              "        1.3058e+02,  7.9350e+01,  2.5049e+02,  1.8559e+02,  1.4936e+02,\n",
              "        1.0791e+02,  1.0424e+02,  1.5814e+02,  7.2460e+01,  1.2980e+02,\n",
              "        1.6803e+02,  5.5010e+01,  2.7472e+02,  1.3958e+02,  1.7959e+02,\n",
              "        1.1680e+02,  2.1315e+02,  2.1415e+02,  1.5425e+02,  1.3036e+02,\n",
              "        1.1580e+02,  2.3482e+02,  1.3236e+02,  1.4347e+02,  2.4071e+02,\n",
              "        2.1693e+02,  1.5625e+02,  1.8770e+02,  1.8759e+02,  1.8937e+02,\n",
              "        1.7948e+02,  1.6903e+02,  1.3858e+02,  1.8648e+02,  1.5892e+02,\n",
              "        1.3169e+02,  1.3047e+02,  1.2291e+02,  1.8437e+02,  2.5705e+02,\n",
              "        1.9148e+02,  1.4114e+02,  2.7094e+02,  2.0504e+02,  3.1295e+02,\n",
              "        1.3147e+02,  8.0350e+01,  6.3680e+01,  2.6416e+02,  2.4849e+02,\n",
              "        1.3725e+02,  1.1402e+02,  1.3847e+02,  1.9826e+02,  9.7130e+01,\n",
              "        1.4703e+02,  1.3925e+02,  2.0993e+02,  1.9887e+03,  1.5003e+02,\n",
              "        7.1680e+01,  1.2458e+02,  1.3069e+02,  2.6427e+02,  1.0880e+02,\n",
              "        1.9137e+02,  1.1002e+02,  1.4314e+02,  1.3569e+02,  1.0002e+02,\n",
              "        1.3947e+02,  9.0130e+01,  1.6681e+02,  2.9647e+02,  2.0048e+02,\n",
              "        2.0304e+02,  2.7794e+02,  9.9910e+01,  1.0102e+02,  1.5725e+02,\n",
              "        1.6114e+02,  2.1282e+02,  1.9437e+02,  1.4736e+02,  9.1130e+01,\n",
              "        1.8059e+02,  9.6240e+01,  2.1293e+02,  1.6503e+02,  1.4547e+02,\n",
              "        2.2971e+02,  2.3671e+02,  1.4136e+02,  2.2293e+02,  1.3136e+02,\n",
              "        1.5392e+02,  2.4727e+02,  1.7259e+02,  3.2295e+02,  1.7170e+02,\n",
              "        1.8537e+02,  1.6703e+02,  9.3350e+01,  9.9130e+01,  1.7392e+02,\n",
              "        2.8972e+02,  1.5292e+02,  2.1182e+02,  1.0902e+02,  1.2269e+02,\n",
              "        2.2093e+02,  1.3336e+02,  1.4525e+02,  2.6783e+02,  2.7105e+02,\n",
              "        6.9790e+01,  2.8672e+02,  1.9837e+02,  2.5616e+02,  2.2171e+02,\n",
              "        2.4749e+02,  2.3660e+02,  2.3382e+02,  7.7460e+01,  1.5314e+02,\n",
              "        2.6394e+02,  2.0593e+02,  2.1115e+02,  1.2347e+02,  1.8248e+02,\n",
              "        1.7848e+02,  1.4747e+02,  3.5318e+02,  1.7159e+02,  1.6570e+02,\n",
              "        1.4536e+02,  2.1382e+02,  1.4914e+02,  1.1469e+02,  5.3790e+01,\n",
              "        1.4725e+02,  1.3625e+02,  1.3736e+02,  1.3747e+02,  1.1480e+02,\n",
              "        2.8250e+02,  1.6470e+02,  1.7692e+02,  1.8159e+02,  2.6116e+02,\n",
              "        2.2460e+02,  1.8359e+02,  1.6892e+02,  2.1715e+02,  1.6181e+02,\n",
              "        3.1028e+02,  1.4903e+02,  1.1280e+02,  1.6692e+02,  1.6781e+02,\n",
              "        1.6514e+02,  2.6683e+02,  9.3044e+02,  1.9926e+02,  1.0813e+02,\n",
              "        2.7394e+02,  1.2158e+02,  3.1328e+02,  1.2680e+02,  1.2747e+02,\n",
              "        1.3436e+02,  1.2658e+02,  1.8548e+02,  1.7759e+02,  2.4227e+02,\n",
              "        1.6770e+02,  2.0537e+02,  2.2771e+02,  2.3571e+02,  2.0426e+02,\n",
              "        1.4325e+02,  2.5216e+02,  1.2947e+02,  1.5403e+02,  1.7659e+02,\n",
              "        1.9415e+02,  2.1904e+02,  3.2373e+02,  2.0415e+02,  1.5525e+02,\n",
              "        2.1093e+02,  1.7281e+02,  2.3538e+02,  2.4260e+02,  1.4414e+02,\n",
              "        1.3469e+02,  2.2571e+02,  1.6992e+02,  1.6203e+02,  1.6970e+02,\n",
              "        1.2936e+02,  1.7370e+02,  1.8459e+02,  1.3536e+02,  2.5816e+02,\n",
              "        1.6492e+02,  1.0702e+02,  2.3560e+02,  2.6027e+02,  2.5516e+02,\n",
              "        1.5036e+02,  1.7770e+02,  1.6092e+02,  1.5981e+02,  1.8237e+02,\n",
              "        1.3269e+02,  2.6016e+02,  1.4714e+02,  3.5062e+02,  1.6192e+02,\n",
              "        1.5025e+02,  9.1240e+01,  1.9126e+02,  2.3360e+02,  1.7670e+02,\n",
              "        1.9648e+02,  1.5592e+02,  2.0126e+02])"
            ]
          },
          "metadata": {},
          "execution_count": 136
        }
      ]
    },
    {
      "cell_type": "code",
      "source": [
        "ds = ds[~ds['PremWork'].isin([np.nan, 'nan'])]"
      ],
      "metadata": {
        "id": "jhQpzK7oSZDO"
      },
      "execution_count": 137,
      "outputs": []
    },
    {
      "cell_type": "code",
      "source": [
        "# Checking the histogram of the variable 'PremWork'\n",
        "\n",
        "sns.displot(data=ds, x=\"PremWork\", kde=True)\n",
        "plt.show()"
      ],
      "metadata": {
        "colab": {
          "base_uri": "https://localhost:8080/",
          "height": 369
        },
        "id": "s6HsnVS1SfcG",
        "outputId": "3831aa10-1f76-4178-dbec-7e7a934f3ace"
      },
      "execution_count": 138,
      "outputs": [
        {
          "output_type": "display_data",
          "data": {
            "text/plain": [
              "<Figure size 360x360 with 1 Axes>"
            ],
            "image/png": "[encoded data removed]"
          },
          "metadata": {
            "needs_background": "light"
          }
        }
      ]
    },
    {
      "cell_type": "markdown",
      "source": [
        "Right skewed distribution."
      ],
      "metadata": {
        "id": "vk7F-GV8StgH"
      }
    },
    {
      "cell_type": "markdown",
      "source": [
        "### Checking for missing values:"
      ],
      "metadata": {
        "id": "tEcLIGzRTEQH"
      }
    },
    {
      "cell_type": "code",
      "source": [
        "ds.isna().sum()"
      ],
      "metadata": {
        "colab": {
          "base_uri": "https://localhost:8080/"
        },
        "id": "hWEChBfdTHd2",
        "outputId": "38306d74-201f-4c5c-82cf-887d04e3b92b"
      },
      "execution_count": 139,
      "outputs": [
        {
          "output_type": "execute_result",
          "data": {
            "text/plain": [
              "FirstPolYear     0\n",
              "BirthYear        0\n",
              "EducDeg          0\n",
              "MonthSal         0\n",
              "GeoLivArea       0\n",
              "Children         0\n",
              "CustMonVal       0\n",
              "ClaimsRate       0\n",
              "PremMotor        0\n",
              "PremHousehold    0\n",
              "PremHealth       0\n",
              "PremLife         0\n",
              "PremWork         0\n",
              "dtype: int64"
            ]
          },
          "metadata": {},
          "execution_count": 139
        }
      ]
    },
    {
      "cell_type": "markdown",
      "source": [
        "We now have no missing data left."
      ],
      "metadata": {
        "id": "jUPkKllqTuHw"
      }
    },
    {
      "cell_type": "code",
      "source": [
        "subPlots_Title_fontSize = 12\n",
        "subPlots_xAxis_fontSize = 10\n",
        "subPlots_yAxis_fontSize = 10\n",
        "subPlots_label_fontSize = 10\n",
        "heatmaps_text_fontSize = 8\n",
        "\n",
        "plots_Title_fontSize = 14\n",
        "plots_Title_textColour = 'black'\n",
        "\n",
        "plots_Legend_fontSize = 12\n",
        "plots_Legend_textColour = 'black'\n",
        "\n",
        "plots_barTexts_fontSize = 8"
      ],
      "metadata": {
        "id": "D5D8xKcIy7eb"
      },
      "execution_count": 157,
      "outputs": []
    },
    {
      "cell_type": "code",
      "source": [
        "# HISTOGRAM (ALL NUMERIC VARIABLES)\n",
        "\n",
        "# Identify all numeric variables in the dataset\n",
        "numerical=ds.select_dtypes(include=[np.number]).columns.tolist()\n",
        "\n",
        "# Draw\n",
        "fig, ax = plt.subplots(2, 5, figsize=(18,6))\n",
        "for var, subplot in zip(ds[numerical], ax.flatten()):\n",
        "    g = sns.histplot(data=ds,\n",
        "                bins=20,\n",
        "                 x=var,\n",
        "                 ax=subplot,\n",
        "                 kde=False)\n",
        "\n",
        "# Decoration\n",
        "sns.despine()\n",
        "plt.rc('axes', labelsize=subPlots_label_fontSize)\n",
        "fig.suptitle(\"Histograms with 20 bins of all numeric variables\", fontsize=plots_Title_fontSize);"
      ],
      "metadata": {
        "colab": {
          "base_uri": "https://localhost:8080/",
          "height": 368
        },
        "id": "GRw6TdhUytUe",
        "outputId": "7ecdda29-f8a4-44d0-de06-57194971a158"
      },
      "execution_count": 158,
      "outputs": [
        {
          "output_type": "display_data",
          "data": {
            "text/plain": [
              "<Figure size 1296x432 with 10 Axes>"
            ],
            "image/png": "[encoded data removed]"
          },
          "metadata": {}
        }
      ]
    },
    {
      "cell_type": "markdown",
      "source": [
        ""
      ],
      "metadata": {
        "id": "UJE5aSJcytBs"
      }
    },
    {
      "cell_type": "markdown",
      "source": [
        "# Features Engineering:"
      ],
      "metadata": {
        "id": "rJHI1VO68juN"
      }
    },
    {
      "cell_type": "markdown",
      "source": [
        "### Converting 'BirthYear' into 'Age':"
      ],
      "metadata": {
        "id": "oGro8Y8y9RVF"
      }
    },
    {
      "cell_type": "markdown",
      "source": [
        "We convert the variable 'BirthYear' into 'Age'."
      ],
      "metadata": {
        "id": "39_SVmus8vB8"
      }
    },
    {
      "cell_type": "code",
      "source": [
        "ds['Age'] = 2016 - ds['BirthYear']"
      ],
      "metadata": {
        "id": "FnwjMf6o8ofW"
      },
      "execution_count": 140,
      "outputs": []
    },
    {
      "cell_type": "code",
      "source": [
        "ds.drop(columns=['BirthYear'], inplace=True)"
      ],
      "metadata": {
        "id": "KOEfIhUi83vq"
      },
      "execution_count": 141,
      "outputs": []
    },
    {
      "cell_type": "code",
      "source": [
        "# Checking the histogram of the variable 'Age'.\n",
        "\n",
        "sns.displot(data=ds, x=\"Age\", kde=True)\n",
        "plt.show()"
      ],
      "metadata": {
        "colab": {
          "base_uri": "https://localhost:8080/",
          "height": 369
        },
        "id": "q8_4MtadT-NW",
        "outputId": "27fbd703-1dbe-44bb-8e99-d614829b2c8f"
      },
      "execution_count": 144,
      "outputs": [
        {
          "output_type": "display_data",
          "data": {
            "text/plain": [
              "<Figure size 360x360 with 1 Axes>"
            ],
            "image/png": "[encoded data removed]"
          },
          "metadata": {
            "needs_background": "light"
          }
        }
      ]
    },
    {
      "cell_type": "markdown",
      "source": [
        "### Converting the variable 'FirstPolYear' into 'YearsAsCustomer':"
      ],
      "metadata": {
        "id": "LncUlklU9f5b"
      }
    },
    {
      "cell_type": "markdown",
      "source": [
        "We convert the variable 'FirstPolYear' into 'YearsAsCustumer'"
      ],
      "metadata": {
        "id": "fLwn34NR8vxW"
      }
    },
    {
      "cell_type": "code",
      "source": [
        "ds['YearsAsCustumer'] = 2016 - ds['FirstPolYear']"
      ],
      "metadata": {
        "id": "JwgdgsOz8_6a"
      },
      "execution_count": 142,
      "outputs": []
    },
    {
      "cell_type": "code",
      "source": [
        "ds.drop(columns=['FirstPolYear'], inplace=True)"
      ],
      "metadata": {
        "id": "B6DtAkbNT409"
      },
      "execution_count": 143,
      "outputs": []
    },
    {
      "cell_type": "code",
      "source": [
        "# Checking the histogram of the variable 'YearsAsCustumer'.\n",
        "\n",
        "sns.displot(data=ds, x=\"YearsAsCustumer\", kde=True)\n",
        "plt.show()"
      ],
      "metadata": {
        "colab": {
          "base_uri": "https://localhost:8080/",
          "height": 369
        },
        "id": "jp3qlB98UJJ2",
        "outputId": "4720302b-25c1-4245-fa3c-38484a11eb21"
      },
      "execution_count": 145,
      "outputs": [
        {
          "output_type": "display_data",
          "data": {
            "text/plain": [
              "<Figure size 360x360 with 1 Axes>"
            ],
            "image/png": "[encoded data removed]"
          },
          "metadata": {
            "needs_background": "light"
          }
        }
      ]
    },
    {
      "cell_type": "markdown",
      "source": [
        "# Data Prepararion:"
      ],
      "metadata": {
        "id": "mO8wvzDiwCKH"
      }
    },
    {
      "cell_type": "code",
      "source": [
        "X = ds.copy(deep=True)"
      ],
      "metadata": {
        "id": "0QwYncwYwFIs"
      },
      "execution_count": 146,
      "outputs": []
    },
    {
      "cell_type": "markdown",
      "source": [
        "## Encoding categorical variables:"
      ],
      "metadata": {
        "id": "8V_3NKCvw-Ej"
      }
    },
    {
      "cell_type": "code",
      "source": [
        "# Encode categorical variables to dummy variables\n",
        "# For more information the different methods to enconde categorical variables check https://contrib.scikit-learn.org/category_encoders/\n",
        "cols = ['EducDeg', 'GeoLivArea', 'Children']\n",
        "ce_one_hot = ce.OneHotEncoder(cols = cols, use_cat_names=True)\n",
        "X = ce_one_hot.fit_transform(X)"
      ],
      "metadata": {
        "id": "JTe2TaxGwI77"
      },
      "execution_count": 155,
      "outputs": []
    },
    {
      "cell_type": "markdown",
      "source": [
        "## Scaling the numerical variables:"
      ],
      "metadata": {
        "id": "C5rO1wUuyZ5C"
      }
    },
    {
      "cell_type": "code",
      "source": [
        "# Get a copy of the dataframe before normalization for results' analysis\n",
        "X_beforeNorm = X.copy(deep=True)"
      ],
      "metadata": {
        "id": "dsm8OfH9yd3P"
      },
      "execution_count": 159,
      "outputs": []
    },
    {
      "cell_type": "code",
      "source": [
        "# Normalize all columns\n",
        "# MinMax scaler returns an array, so the dataframe must be recreated\n",
        "X = pd.DataFrame(preprocessing.MinMaxScaler().fit_transform(X.values), columns=X.columns,index=X.index)"
      ],
      "metadata": {
        "id": "QqQduiztyebm"
      },
      "execution_count": 160,
      "outputs": []
    },
    {
      "cell_type": "code",
      "source": [
        "# Check dataframe structure and statistics after all transformations\n",
        "print(X.shape)\n",
        "X.describe(include='all').T"
      ],
      "metadata": {
        "colab": {
          "base_uri": "https://localhost:8080/",
          "height": 695
        },
        "id": "p2GqYepcyeUD",
        "outputId": "5551eab6-eb48-4ba7-b047-e7de426b273e"
      },
      "execution_count": 161,
      "outputs": [
        {
          "output_type": "stream",
          "name": "stdout",
          "text": [
            "(9985, 20)\n"
          ]
        },
        {
          "output_type": "execute_result",
          "data": {
            "text/plain": [
              "                            count      mean       std  min       25%  \\\n",
              "EducDeg_'2 - High School'  9985.0  0.343415  0.474872  0.0  0.000000   \n",
              "EducDeg_'1 - Basic'        9985.0  0.124687  0.330380  0.0  0.000000   \n",
              "EducDeg_'3 - BSc/MSc'      9985.0  0.464997  0.498798  0.0  0.000000   \n",
              "EducDeg_'4 - PhD'          9985.0  0.066900  0.249862  0.0  0.000000   \n",
              "MonthSal                   9985.0  0.039588  0.021213  0.0  0.024908   \n",
              "GeoLivArea_1.0             9985.0  0.295844  0.456444  0.0  0.000000   \n",
              "GeoLivArea_4.0             9985.0  0.404206  0.490762  0.0  0.000000   \n",
              "GeoLivArea_3.0             9985.0  0.201703  0.401291  0.0  0.000000   \n",
              "GeoLivArea_2.0             9985.0  0.098247  0.297664  0.0  0.000000   \n",
              "Children_1.0               9985.0  0.705658  0.455769  0.0  0.000000   \n",
              "Children_0.0               9985.0  0.294342  0.455769  0.0  0.000000   \n",
              "CustMonVal                 9985.0  0.934116  0.011126  0.0  0.933069   \n",
              "ClaimsRate                 9985.0  0.002910  0.011557  0.0  0.001561   \n",
              "PremMotor                  9985.0  0.026105  0.018382  0.0  0.016686   \n",
              "PremHousehold              9985.0  0.011464  0.014176  0.0  0.004975   \n",
              "PremHealth                 9985.0  0.006169  0.010613  0.0  0.004037   \n",
              "PremLife                   9985.0  0.120931  0.117510  0.0  0.041673   \n",
              "PremWork                   9985.0  0.026743  0.025860  0.0  0.011331   \n",
              "Age                        9985.0  0.498234  0.264147  0.0  0.272727   \n",
              "YearsAsCustumer            9985.0  0.499086  0.275195  0.0  0.250000   \n",
              "\n",
              "                                50%       75%  max  \n",
              "EducDeg_'2 - High School'  0.000000  1.000000  1.0  \n",
              "EducDeg_'1 - Basic'        0.000000  0.000000  1.0  \n",
              "EducDeg_'3 - BSc/MSc'      0.000000  1.000000  1.0  \n",
              "EducDeg_'4 - PhD'          0.000000  0.000000  1.0  \n",
              "MonthSal                   0.039485  0.053934  1.0  \n",
              "GeoLivArea_1.0             0.000000  1.000000  1.0  \n",
              "GeoLivArea_4.0             0.000000  1.000000  1.0  \n",
              "GeoLivArea_3.0             0.000000  0.000000  1.0  \n",
              "GeoLivArea_2.0             0.000000  0.000000  1.0  \n",
              "Children_1.0               1.000000  1.000000  1.0  \n",
              "Children_0.0               0.000000  1.000000  1.0  \n",
              "CustMonVal                 0.934173  0.935367  1.0  \n",
              "ClaimsRate                 0.002810  0.003825  1.0  \n",
              "PremMotor                  0.025963  0.035354  1.0  \n",
              "PremHousehold              0.008315  0.014707  1.0  \n",
              "PremHealth                 0.005841  0.007853  1.0  \n",
              "PremLife                   0.080336  0.160128  1.0  \n",
              "PremWork                   0.019163  0.034383  1.0  \n",
              "Age                        0.500000  0.727273  1.0  \n",
              "YearsAsCustumer            0.500000  0.750000  1.0  "
            ],
            "text/html": [
              "\n",
              "  <div id=\"df-dc2a68ff-7f5e-431b-b42a-3472ba5f0428\">\n",
              "    <div class=\"colab-df-container\">\n",
              "      <div>\n",
              "<style scoped>\n",
              "    .dataframe tbody tr th:only-of-type {\n",
              "        vertical-align: middle;\n",
              "    }\n",
              "\n",
              "    .dataframe tbody tr th {\n",
              "        vertical-align: top;\n",
              "    }\n",
              "\n",
              "    .dataframe thead th {\n",
              "        text-align: right;\n",
              "    }\n",
              "</style>\n",
              "<table border=\"1\" class=\"dataframe\">\n",
              "  <thead>\n",
              "    <tr style=\"text-align: right;\">\n",
              "      <th></th>\n",
              "      <th>count</th>\n",
              "      <th>mean</th>\n",
              "      <th>std</th>\n",
              "      <th>min</th>\n",
              "      <th>25%</th>\n",
              "      <th>50%</th>\n",
              "      <th>75%</th>\n",
              "      <th>max</th>\n",
              "    </tr>\n",
              "  </thead>\n",
              "  <tbody>\n",
              "    <tr>\n",
              "      <th>EducDeg_'2 - High School'</th>\n",
              "      <td>9985.0</td>\n",
              "      <td>0.343415</td>\n",
              "      <td>0.474872</td>\n",
              "      <td>0.0</td>\n",
              "      <td>0.000000</td>\n",
              "      <td>0.000000</td>\n",
              "      <td>1.000000</td>\n",
              "      <td>1.0</td>\n",
              "    </tr>\n",
              "    <tr>\n",
              "      <th>EducDeg_'1 - Basic'</th>\n",
              "      <td>9985.0</td>\n",
              "      <td>0.124687</td>\n",
              "      <td>0.330380</td>\n",
              "      <td>0.0</td>\n",
              "      <td>0.000000</td>\n",
              "      <td>0.000000</td>\n",
              "      <td>0.000000</td>\n",
              "      <td>1.0</td>\n",
              "    </tr>\n",
              "    <tr>\n",
              "      <th>EducDeg_'3 - BSc/MSc'</th>\n",
              "      <td>9985.0</td>\n",
              "      <td>0.464997</td>\n",
              "      <td>0.498798</td>\n",
              "      <td>0.0</td>\n",
              "      <td>0.000000</td>\n",
              "      <td>0.000000</td>\n",
              "      <td>1.000000</td>\n",
              "      <td>1.0</td>\n",
              "    </tr>\n",
              "    <tr>\n",
              "      <th>EducDeg_'4 - PhD'</th>\n",
              "      <td>9985.0</td>\n",
              "      <td>0.066900</td>\n",
              "      <td>0.249862</td>\n",
              "      <td>0.0</td>\n",
              "      <td>0.000000</td>\n",
              "      <td>0.000000</td>\n",
              "      <td>0.000000</td>\n",
              "      <td>1.0</td>\n",
              "    </tr>\n",
              "    <tr>\n",
              "      <th>MonthSal</th>\n",
              "      <td>9985.0</td>\n",
              "      <td>0.039588</td>\n",
              "      <td>0.021213</td>\n",
              "      <td>0.0</td>\n",
              "      <td>0.024908</td>\n",
              "      <td>0.039485</td>\n",
              "      <td>0.053934</td>\n",
              "      <td>1.0</td>\n",
              "    </tr>\n",
              "    <tr>\n",
              "      <th>GeoLivArea_1.0</th>\n",
              "      <td>9985.0</td>\n",
              "      <td>0.295844</td>\n",
              "      <td>0.456444</td>\n",
              "      <td>0.0</td>\n",
              "      <td>0.000000</td>\n",
              "      <td>0.000000</td>\n",
              "      <td>1.000000</td>\n",
              "      <td>1.0</td>\n",
              "    </tr>\n",
              "    <tr>\n",
              "      <th>GeoLivArea_4.0</th>\n",
              "      <td>9985.0</td>\n",
              "      <td>0.404206</td>\n",
              "      <td>0.490762</td>\n",
              "      <td>0.0</td>\n",
              "      <td>0.000000</td>\n",
              "      <td>0.000000</td>\n",
              "      <td>1.000000</td>\n",
              "      <td>1.0</td>\n",
              "    </tr>\n",
              "    <tr>\n",
              "      <th>GeoLivArea_3.0</th>\n",
              "      <td>9985.0</td>\n",
              "      <td>0.201703</td>\n",
              "      <td>0.401291</td>\n",
              "      <td>0.0</td>\n",
              "      <td>0.000000</td>\n",
              "      <td>0.000000</td>\n",
              "      <td>0.000000</td>\n",
              "      <td>1.0</td>\n",
              "    </tr>\n",
              "    <tr>\n",
              "      <th>GeoLivArea_2.0</th>\n",
              "      <td>9985.0</td>\n",
              "      <td>0.098247</td>\n",
              "      <td>0.297664</td>\n",
              "      <td>0.0</td>\n",
              "      <td>0.000000</td>\n",
              "      <td>0.000000</td>\n",
              "      <td>0.000000</td>\n",
              "      <td>1.0</td>\n",
              "    </tr>\n",
              "    <tr>\n",
              "      <th>Children_1.0</th>\n",
              "      <td>9985.0</td>\n",
              "      <td>0.705658</td>\n",
              "      <td>0.455769</td>\n",
              "      <td>0.0</td>\n",
              "      <td>0.000000</td>\n",
              "      <td>1.000000</td>\n",
              "      <td>1.000000</td>\n",
              "      <td>1.0</td>\n",
              "    </tr>\n",
              "    <tr>\n",
              "      <th>Children_0.0</th>\n",
              "      <td>9985.0</td>\n",
              "      <td>0.294342</td>\n",
              "      <td>0.455769</td>\n",
              "      <td>0.0</td>\n",
              "      <td>0.000000</td>\n",
              "      <td>0.000000</td>\n",
              "      <td>1.000000</td>\n",
              "      <td>1.0</td>\n",
              "    </tr>\n",
              "    <tr>\n",
              "      <th>CustMonVal</th>\n",
              "      <td>9985.0</td>\n",
              "      <td>0.934116</td>\n",
              "      <td>0.011126</td>\n",
              "      <td>0.0</td>\n",
              "      <td>0.933069</td>\n",
              "      <td>0.934173</td>\n",
              "      <td>0.935367</td>\n",
              "      <td>1.0</td>\n",
              "    </tr>\n",
              "    <tr>\n",
              "      <th>ClaimsRate</th>\n",
              "      <td>9985.0</td>\n",
              "      <td>0.002910</td>\n",
              "      <td>0.011557</td>\n",
              "      <td>0.0</td>\n",
              "      <td>0.001561</td>\n",
              "      <td>0.002810</td>\n",
              "      <td>0.003825</td>\n",
              "      <td>1.0</td>\n",
              "    </tr>\n",
              "    <tr>\n",
              "      <th>PremMotor</th>\n",
              "      <td>9985.0</td>\n",
              "      <td>0.026105</td>\n",
              "      <td>0.018382</td>\n",
              "      <td>0.0</td>\n",
              "      <td>0.016686</td>\n",
              "      <td>0.025963</td>\n",
              "      <td>0.035354</td>\n",
              "      <td>1.0</td>\n",
              "    </tr>\n",
              "    <tr>\n",
              "      <th>PremHousehold</th>\n",
              "      <td>9985.0</td>\n",
              "      <td>0.011464</td>\n",
              "      <td>0.014176</td>\n",
              "      <td>0.0</td>\n",
              "      <td>0.004975</td>\n",
              "      <td>0.008315</td>\n",
              "      <td>0.014707</td>\n",
              "      <td>1.0</td>\n",
              "    </tr>\n",
              "    <tr>\n",
              "      <th>PremHealth</th>\n",
              "      <td>9985.0</td>\n",
              "      <td>0.006169</td>\n",
              "      <td>0.010613</td>\n",
              "      <td>0.0</td>\n",
              "      <td>0.004037</td>\n",
              "      <td>0.005841</td>\n",
              "      <td>0.007853</td>\n",
              "      <td>1.0</td>\n",
              "    </tr>\n",
              "    <tr>\n",
              "      <th>PremLife</th>\n",
              "      <td>9985.0</td>\n",
              "      <td>0.120931</td>\n",
              "      <td>0.117510</td>\n",
              "      <td>0.0</td>\n",
              "      <td>0.041673</td>\n",
              "      <td>0.080336</td>\n",
              "      <td>0.160128</td>\n",
              "      <td>1.0</td>\n",
              "    </tr>\n",
              "    <tr>\n",
              "      <th>PremWork</th>\n",
              "      <td>9985.0</td>\n",
              "      <td>0.026743</td>\n",
              "      <td>0.025860</td>\n",
              "      <td>0.0</td>\n",
              "      <td>0.011331</td>\n",
              "      <td>0.019163</td>\n",
              "      <td>0.034383</td>\n",
              "      <td>1.0</td>\n",
              "    </tr>\n",
              "    <tr>\n",
              "      <th>Age</th>\n",
              "      <td>9985.0</td>\n",
              "      <td>0.498234</td>\n",
              "      <td>0.264147</td>\n",
              "      <td>0.0</td>\n",
              "      <td>0.272727</td>\n",
              "      <td>0.500000</td>\n",
              "      <td>0.727273</td>\n",
              "      <td>1.0</td>\n",
              "    </tr>\n",
              "    <tr>\n",
              "      <th>YearsAsCustumer</th>\n",
              "      <td>9985.0</td>\n",
              "      <td>0.499086</td>\n",
              "      <td>0.275195</td>\n",
              "      <td>0.0</td>\n",
              "      <td>0.250000</td>\n",
              "      <td>0.500000</td>\n",
              "      <td>0.750000</td>\n",
              "      <td>1.0</td>\n",
              "    </tr>\n",
              "  </tbody>\n",
              "</table>\n",
              "</div>\n",
              "      <button class=\"colab-df-convert\" onclick=\"convertToInteractive('df-dc2a68ff-7f5e-431b-b42a-3472ba5f0428')\"\n",
              "              title=\"Convert this dataframe to an interactive table.\"\n",
              "              style=\"display:none;\">\n",
              "        \n",
              "  <svg xmlns=\"http://www.w3.org/2000/svg\" height=\"24px\"viewBox=\"0 0 24 24\"\n",
              "       width=\"24px\">\n",
              "    <path d=\"M0 0h24v24H0V0z\" fill=\"none\"/>\n",
              "    <path d=\"M18.56 5.44l.94 2.06.94-2.06 2.06-.94-2.06-.94-.94-2.06-.94 2.06-2.06.94zm-11 1L8.5 8.5l.94-2.06 2.06-.94-2.06-.94L8.5 2.5l-.94 2.06-2.06.94zm10 10l.94 2.06.94-2.06 2.06-.94-2.06-.94-.94-2.06-.94 2.06-2.06.94z\"/><path d=\"M17.41 7.96l-1.37-1.37c-.4-.4-.92-.59-1.43-.59-.52 0-1.04.2-1.43.59L10.3 9.45l-7.72 7.72c-.78.78-.78 2.05 0 2.83L4 21.41c.39.39.9.59 1.41.59.51 0 1.02-.2 1.41-.59l7.78-7.78 2.81-2.81c.8-.78.8-2.07 0-2.86zM5.41 20L4 18.59l7.72-7.72 1.47 1.35L5.41 20z\"/>\n",
              "  </svg>\n",
              "      </button>\n",
              "      \n",
              "  <style>\n",
              "    .colab-df-container {\n",
              "      display:flex;\n",
              "      flex-wrap:wrap;\n",
              "      gap: 12px;\n",
              "    }\n",
              "\n",
              "    .colab-df-convert {\n",
              "      background-color: #E8F0FE;\n",
              "      border: none;\n",
              "      border-radius: 50%;\n",
              "      cursor: pointer;\n",
              "      display: none;\n",
              "      fill: #1967D2;\n",
              "      height: 32px;\n",
              "      padding: 0 0 0 0;\n",
              "      width: 32px;\n",
              "    }\n",
              "\n",
              "    .colab-df-convert:hover {\n",
              "      background-color: #E2EBFA;\n",
              "      box-shadow: 0px 1px 2px rgba(60, 64, 67, 0.3), 0px 1px 3px 1px rgba(60, 64, 67, 0.15);\n",
              "      fill: #174EA6;\n",
              "    }\n",
              "\n",
              "    [theme=dark] .colab-df-convert {\n",
              "      background-color: #3B4455;\n",
              "      fill: #D2E3FC;\n",
              "    }\n",
              "\n",
              "    [theme=dark] .colab-df-convert:hover {\n",
              "      background-color: #434B5C;\n",
              "      box-shadow: 0px 1px 3px 1px rgba(0, 0, 0, 0.15);\n",
              "      filter: drop-shadow(0px 1px 2px rgba(0, 0, 0, 0.3));\n",
              "      fill: #FFFFFF;\n",
              "    }\n",
              "  </style>\n",
              "\n",
              "      <script>\n",
              "        const buttonEl =\n",
              "          document.querySelector('#df-dc2a68ff-7f5e-431b-b42a-3472ba5f0428 button.colab-df-convert');\n",
              "        buttonEl.style.display =\n",
              "          google.colab.kernel.accessAllowed ? 'block' : 'none';\n",
              "\n",
              "        async function convertToInteractive(key) {\n",
              "          const element = document.querySelector('#df-dc2a68ff-7f5e-431b-b42a-3472ba5f0428');\n",
              "          const dataTable =\n",
              "            await google.colab.kernel.invokeFunction('convertToInteractive',\n",
              "                                                     [key], {});\n",
              "          if (!dataTable) return;\n",
              "\n",
              "          const docLinkHtml = 'Like what you see? Visit the ' +\n",
              "            '<a target=\"_blank\" href=https://colab.research.google.com/notebooks/data_table.ipynb>data table notebook</a>'\n",
              "            + ' to learn more about interactive tables.';\n",
              "          element.innerHTML = '';\n",
              "          dataTable['output_type'] = 'display_data';\n",
              "          await google.colab.output.renderOutput(dataTable, element);\n",
              "          const docLink = document.createElement('div');\n",
              "          docLink.innerHTML = docLinkHtml;\n",
              "          element.appendChild(docLink);\n",
              "        }\n",
              "      </script>\n",
              "    </div>\n",
              "  </div>\n",
              "  "
            ]
          },
          "metadata": {},
          "execution_count": 161
        }
      ]
    },
    {
      "cell_type": "markdown",
      "source": [
        "- The results transformation made the modeling dataset end up with 20 columns.\n",
        "- All columns are now numeric, with values in the range of 0 to 1"
      ],
      "metadata": {
        "id": "6PcX_XLtzqmy"
      }
    },
    {
      "cell_type": "markdown",
      "source": [
        "## Analyze Principal Components:"
      ],
      "metadata": {
        "id": "U-X6Zih-zv12"
      }
    },
    {
      "cell_type": "code",
      "source": [
        ""
      ],
      "metadata": {
        "id": "KBWakOYq0Jnm"
      },
      "execution_count": null,
      "outputs": []
    },
    {
      "cell_type": "code",
      "source": [
        "# Let's use PCA to visualize with only two components\n",
        "pca2 = PCA(n_components = 2)\n",
        "pca2.fit(X)\n",
        "X_pca2 = pca2.transform(X)\n",
        "print(X_pca2.shape)\n",
        "\n",
        "# Scatter plot of the two Principal Components by the \"target\" to see if there is any pattern\n",
        "plt.scatter(X_pca2[:, 0], X_pca2[:, 1], c=X.CustMonVal, edgecolor='none', alpha=0.5, cmap='viridis')\n",
        "plt.xlabel('Component 1')\n",
        "plt.ylabel('Component 2')\n",
        "plt.colorbar();"
      ],
      "metadata": {
        "colab": {
          "base_uri": "https://localhost:8080/",
          "height": 383
        },
        "id": "KwQTqrGvzsob",
        "outputId": "9f5be632-6066-4308-c49d-94b93c74afec"
      },
      "execution_count": 163,
      "outputs": [
        {
          "output_type": "stream",
          "name": "stdout",
          "text": [
            "(9985, 2)\n"
          ]
        },
        {
          "output_type": "display_data",
          "data": {
            "text/plain": [
              "<Figure size 576x396 with 2 Axes>"
            ],
            "image/png": "[encoded data removed]"
          },
          "metadata": {}
        }
      ]
    },
    {
      "cell_type": "code",
      "source": [
        "# Fit the PCA algorithm to data \n",
        "pca = PCA().fit(X)\n",
        "\n",
        "# Show the variance per component\n",
        "pcaevr = ['{:f}'.format(item) for item in pca.explained_variance_ratio_]\n",
        "pcaDF = pd.DataFrame({'Component': range(1, len(X.columns)+1),\n",
        "                      'Variance explained': pcaevr,\n",
        "                      'Cumulative variance explained': np.cumsum(pca.explained_variance_ratio_)})\n",
        "pcaDF"
      ],
      "metadata": {
        "colab": {
          "base_uri": "https://localhost:8080/",
          "height": 677
        },
        "id": "-WkhoBzw0XYR",
        "outputId": "3346e673-af22-4929-bfa2-0d4d403bb9e9"
      },
      "execution_count": 164,
      "outputs": [
        {
          "output_type": "execute_result",
          "data": {
            "text/plain": [
              "    Component Variance explained  Cumulative variance explained\n",
              "0           1           0.226874                       0.226874\n",
              "1           2           0.208464                       0.435337\n",
              "2           3           0.180555                       0.615892\n",
              "3           4           0.121445                       0.737337\n",
              "4           5           0.089724                       0.827061\n",
              "5           6           0.060586                       0.887646\n",
              "6           7           0.042979                       0.930625\n",
              "7           8           0.039388                       0.970014\n",
              "8           9           0.024209                       0.994223\n",
              "9          10           0.005000                       0.999223\n",
              "10         11           0.000277                       0.999500\n",
              "11         12           0.000136                       0.999636\n",
              "12         13           0.000130                       0.999766\n",
              "13         14           0.000089                       0.999855\n",
              "14         15           0.000087                       0.999942\n",
              "15         16           0.000058                       1.000000\n",
              "16         17           0.000000                       1.000000\n",
              "17         18           0.000000                       1.000000\n",
              "18         19           0.000000                       1.000000\n",
              "19         20           0.000000                       1.000000"
            ],
            "text/html": [
              "\n",
              "  <div id=\"df-1c0fcdec-8c30-47ea-a426-3b444b221a8c\">\n",
              "    <div class=\"colab-df-container\">\n",
              "      <div>\n",
              "<style scoped>\n",
              "    .dataframe tbody tr th:only-of-type {\n",
              "        vertical-align: middle;\n",
              "    }\n",
              "\n",
              "    .dataframe tbody tr th {\n",
              "        vertical-align: top;\n",
              "    }\n",
              "\n",
              "    .dataframe thead th {\n",
              "        text-align: right;\n",
              "    }\n",
              "</style>\n",
              "<table border=\"1\" class=\"dataframe\">\n",
              "  <thead>\n",
              "    <tr style=\"text-align: right;\">\n",
              "      <th></th>\n",
              "      <th>Component</th>\n",
              "      <th>Variance explained</th>\n",
              "      <th>Cumulative variance explained</th>\n",
              "    </tr>\n",
              "  </thead>\n",
              "  <tbody>\n",
              "    <tr>\n",
              "      <th>0</th>\n",
              "      <td>1</td>\n",
              "      <td>0.226874</td>\n",
              "      <td>0.226874</td>\n",
              "    </tr>\n",
              "    <tr>\n",
              "      <th>1</th>\n",
              "      <td>2</td>\n",
              "      <td>0.208464</td>\n",
              "      <td>0.435337</td>\n",
              "    </tr>\n",
              "    <tr>\n",
              "      <th>2</th>\n",
              "      <td>3</td>\n",
              "      <td>0.180555</td>\n",
              "      <td>0.615892</td>\n",
              "    </tr>\n",
              "    <tr>\n",
              "      <th>3</th>\n",
              "      <td>4</td>\n",
              "      <td>0.121445</td>\n",
              "      <td>0.737337</td>\n",
              "    </tr>\n",
              "    <tr>\n",
              "      <th>4</th>\n",
              "      <td>5</td>\n",
              "      <td>0.089724</td>\n",
              "      <td>0.827061</td>\n",
              "    </tr>\n",
              "    <tr>\n",
              "      <th>5</th>\n",
              "      <td>6</td>\n",
              "      <td>0.060586</td>\n",
              "      <td>0.887646</td>\n",
              "    </tr>\n",
              "    <tr>\n",
              "      <th>6</th>\n",
              "      <td>7</td>\n",
              "      <td>0.042979</td>\n",
              "      <td>0.930625</td>\n",
              "    </tr>\n",
              "    <tr>\n",
              "      <th>7</th>\n",
              "      <td>8</td>\n",
              "      <td>0.039388</td>\n",
              "      <td>0.970014</td>\n",
              "    </tr>\n",
              "    <tr>\n",
              "      <th>8</th>\n",
              "      <td>9</td>\n",
              "      <td>0.024209</td>\n",
              "      <td>0.994223</td>\n",
              "    </tr>\n",
              "    <tr>\n",
              "      <th>9</th>\n",
              "      <td>10</td>\n",
              "      <td>0.005000</td>\n",
              "      <td>0.999223</td>\n",
              "    </tr>\n",
              "    <tr>\n",
              "      <th>10</th>\n",
              "      <td>11</td>\n",
              "      <td>0.000277</td>\n",
              "      <td>0.999500</td>\n",
              "    </tr>\n",
              "    <tr>\n",
              "      <th>11</th>\n",
              "      <td>12</td>\n",
              "      <td>0.000136</td>\n",
              "      <td>0.999636</td>\n",
              "    </tr>\n",
              "    <tr>\n",
              "      <th>12</th>\n",
              "      <td>13</td>\n",
              "      <td>0.000130</td>\n",
              "      <td>0.999766</td>\n",
              "    </tr>\n",
              "    <tr>\n",
              "      <th>13</th>\n",
              "      <td>14</td>\n",
              "      <td>0.000089</td>\n",
              "      <td>0.999855</td>\n",
              "    </tr>\n",
              "    <tr>\n",
              "      <th>14</th>\n",
              "      <td>15</td>\n",
              "      <td>0.000087</td>\n",
              "      <td>0.999942</td>\n",
              "    </tr>\n",
              "    <tr>\n",
              "      <th>15</th>\n",
              "      <td>16</td>\n",
              "      <td>0.000058</td>\n",
              "      <td>1.000000</td>\n",
              "    </tr>\n",
              "    <tr>\n",
              "      <th>16</th>\n",
              "      <td>17</td>\n",
              "      <td>0.000000</td>\n",
              "      <td>1.000000</td>\n",
              "    </tr>\n",
              "    <tr>\n",
              "      <th>17</th>\n",
              "      <td>18</td>\n",
              "      <td>0.000000</td>\n",
              "      <td>1.000000</td>\n",
              "    </tr>\n",
              "    <tr>\n",
              "      <th>18</th>\n",
              "      <td>19</td>\n",
              "      <td>0.000000</td>\n",
              "      <td>1.000000</td>\n",
              "    </tr>\n",
              "    <tr>\n",
              "      <th>19</th>\n",
              "      <td>20</td>\n",
              "      <td>0.000000</td>\n",
              "      <td>1.000000</td>\n",
              "    </tr>\n",
              "  </tbody>\n",
              "</table>\n",
              "</div>\n",
              "      <button class=\"colab-df-convert\" onclick=\"convertToInteractive('df-1c0fcdec-8c30-47ea-a426-3b444b221a8c')\"\n",
              "              title=\"Convert this dataframe to an interactive table.\"\n",
              "              style=\"display:none;\">\n",
              "        \n",
              "  <svg xmlns=\"http://www.w3.org/2000/svg\" height=\"24px\"viewBox=\"0 0 24 24\"\n",
              "       width=\"24px\">\n",
              "    <path d=\"M0 0h24v24H0V0z\" fill=\"none\"/>\n",
              "    <path d=\"M18.56 5.44l.94 2.06.94-2.06 2.06-.94-2.06-.94-.94-2.06-.94 2.06-2.06.94zm-11 1L8.5 8.5l.94-2.06 2.06-.94-2.06-.94L8.5 2.5l-.94 2.06-2.06.94zm10 10l.94 2.06.94-2.06 2.06-.94-2.06-.94-.94-2.06-.94 2.06-2.06.94z\"/><path d=\"M17.41 7.96l-1.37-1.37c-.4-.4-.92-.59-1.43-.59-.52 0-1.04.2-1.43.59L10.3 9.45l-7.72 7.72c-.78.78-.78 2.05 0 2.83L4 21.41c.39.39.9.59 1.41.59.51 0 1.02-.2 1.41-.59l7.78-7.78 2.81-2.81c.8-.78.8-2.07 0-2.86zM5.41 20L4 18.59l7.72-7.72 1.47 1.35L5.41 20z\"/>\n",
              "  </svg>\n",
              "      </button>\n",
              "      \n",
              "  <style>\n",
              "    .colab-df-container {\n",
              "      display:flex;\n",
              "      flex-wrap:wrap;\n",
              "      gap: 12px;\n",
              "    }\n",
              "\n",
              "    .colab-df-convert {\n",
              "      background-color: #E8F0FE;\n",
              "      border: none;\n",
              "      border-radius: 50%;\n",
              "      cursor: pointer;\n",
              "      display: none;\n",
              "      fill: #1967D2;\n",
              "      height: 32px;\n",
              "      padding: 0 0 0 0;\n",
              "      width: 32px;\n",
              "    }\n",
              "\n",
              "    .colab-df-convert:hover {\n",
              "      background-color: #E2EBFA;\n",
              "      box-shadow: 0px 1px 2px rgba(60, 64, 67, 0.3), 0px 1px 3px 1px rgba(60, 64, 67, 0.15);\n",
              "      fill: #174EA6;\n",
              "    }\n",
              "\n",
              "    [theme=dark] .colab-df-convert {\n",
              "      background-color: #3B4455;\n",
              "      fill: #D2E3FC;\n",
              "    }\n",
              "\n",
              "    [theme=dark] .colab-df-convert:hover {\n",
              "      background-color: #434B5C;\n",
              "      box-shadow: 0px 1px 3px 1px rgba(0, 0, 0, 0.15);\n",
              "      filter: drop-shadow(0px 1px 2px rgba(0, 0, 0, 0.3));\n",
              "      fill: #FFFFFF;\n",
              "    }\n",
              "  </style>\n",
              "\n",
              "      <script>\n",
              "        const buttonEl =\n",
              "          document.querySelector('#df-1c0fcdec-8c30-47ea-a426-3b444b221a8c button.colab-df-convert');\n",
              "        buttonEl.style.display =\n",
              "          google.colab.kernel.accessAllowed ? 'block' : 'none';\n",
              "\n",
              "        async function convertToInteractive(key) {\n",
              "          const element = document.querySelector('#df-1c0fcdec-8c30-47ea-a426-3b444b221a8c');\n",
              "          const dataTable =\n",
              "            await google.colab.kernel.invokeFunction('convertToInteractive',\n",
              "                                                     [key], {});\n",
              "          if (!dataTable) return;\n",
              "\n",
              "          const docLinkHtml = 'Like what you see? Visit the ' +\n",
              "            '<a target=\"_blank\" href=https://colab.research.google.com/notebooks/data_table.ipynb>data table notebook</a>'\n",
              "            + ' to learn more about interactive tables.';\n",
              "          element.innerHTML = '';\n",
              "          dataTable['output_type'] = 'display_data';\n",
              "          await google.colab.output.renderOutput(dataTable, element);\n",
              "          const docLink = document.createElement('div');\n",
              "          docLink.innerHTML = docLinkHtml;\n",
              "          element.appendChild(docLink);\n",
              "        }\n",
              "      </script>\n",
              "    </div>\n",
              "  </div>\n",
              "  "
            ]
          },
          "metadata": {},
          "execution_count": 164
        }
      ]
    },
    {
      "cell_type": "markdown",
      "source": [
        "- From the above we can see that two components only explain 43% of the variance, meaning its not enough to select the number of clusters using the plot above."
      ],
      "metadata": {
        "id": "OzxHTH1h3cyV"
      }
    },
    {
      "cell_type": "markdown",
      "source": [
        "## Kmeans:"
      ],
      "metadata": {
        "id": "eFhl_Lmj1u2d"
      }
    },
    {
      "cell_type": "code",
      "source": [
        "# Apply the dimension reduction to the dataset (for 8 components)\n",
        "pca_reduced = PCA(n_components = 8)\n",
        "pca_reduced.fit(X)\n",
        "X_pca_reduced = pca_reduced.transform(X) \n",
        "print(X_pca_reduced.shape)"
      ],
      "metadata": {
        "colab": {
          "base_uri": "https://localhost:8080/"
        },
        "id": "eZH3NoOL1e3K",
        "outputId": "78844ff8-d706-4935-e9cc-1e4dece35e7a"
      },
      "execution_count": 165,
      "outputs": [
        {
          "output_type": "stream",
          "name": "stdout",
          "text": [
            "(9985, 8)\n"
          ]
        }
      ]
    },
    {
      "cell_type": "code",
      "source": [
        "X_pca_reduced"
      ],
      "metadata": {
        "colab": {
          "base_uri": "https://localhost:8080/"
        },
        "id": "xS8q4v2h86Ng",
        "outputId": "67f1fef0-ec83-4666-cbda-f21bcbd57a17"
      },
      "execution_count": 184,
      "outputs": [
        {
          "output_type": "execute_result",
          "data": {
            "text/plain": [
              "array([[-0.54310822,  0.68465459,  0.74217284, ..., -0.10893153,\n",
              "        -0.0777528 , -0.04780858],\n",
              "       [-0.42040061,  0.88923184, -0.62310196, ..., -0.0784025 ,\n",
              "        -0.14915068, -0.22224871],\n",
              "       [ 0.91573733,  0.12977991,  0.38636208, ..., -0.21751775,\n",
              "        -0.28597846,  0.19018054],\n",
              "       ...,\n",
              "       [-0.49998751, -0.71726692,  0.56139351, ..., -0.09124533,\n",
              "        -0.07374463,  0.33128368],\n",
              "       [-0.4590743 ,  0.1474522 ,  0.11921352, ...,  1.02423007,\n",
              "        -0.21158493, -0.2358135 ],\n",
              "       [-0.53078206,  0.03835355,  0.66862657, ..., -0.08903541,\n",
              "         0.97694764,  0.22681809]])"
            ]
          },
          "metadata": {},
          "execution_count": 184
        }
      ]
    },
    {
      "cell_type": "code",
      "source": [
        "X.describe().T"
      ],
      "metadata": {
        "colab": {
          "base_uri": "https://localhost:8080/",
          "height": 677
        },
        "id": "QEYwTk_U8yJ-",
        "outputId": "9c749bc7-7447-4bd2-ced3-cc6e75f56841"
      },
      "execution_count": 182,
      "outputs": [
        {
          "output_type": "execute_result",
          "data": {
            "text/plain": [
              "                            count      mean       std  min       25%  \\\n",
              "EducDeg_'2 - High School'  9985.0  0.343415  0.474872  0.0  0.000000   \n",
              "EducDeg_'1 - Basic'        9985.0  0.124687  0.330380  0.0  0.000000   \n",
              "EducDeg_'3 - BSc/MSc'      9985.0  0.464997  0.498798  0.0  0.000000   \n",
              "EducDeg_'4 - PhD'          9985.0  0.066900  0.249862  0.0  0.000000   \n",
              "MonthSal                   9985.0  0.039588  0.021213  0.0  0.024908   \n",
              "GeoLivArea_1.0             9985.0  0.295844  0.456444  0.0  0.000000   \n",
              "GeoLivArea_4.0             9985.0  0.404206  0.490762  0.0  0.000000   \n",
              "GeoLivArea_3.0             9985.0  0.201703  0.401291  0.0  0.000000   \n",
              "GeoLivArea_2.0             9985.0  0.098247  0.297664  0.0  0.000000   \n",
              "Children_1.0               9985.0  0.705658  0.455769  0.0  0.000000   \n",
              "Children_0.0               9985.0  0.294342  0.455769  0.0  0.000000   \n",
              "CustMonVal                 9985.0  0.934116  0.011126  0.0  0.933069   \n",
              "ClaimsRate                 9985.0  0.002910  0.011557  0.0  0.001561   \n",
              "PremMotor                  9985.0  0.026105  0.018382  0.0  0.016686   \n",
              "PremHousehold              9985.0  0.011464  0.014176  0.0  0.004975   \n",
              "PremHealth                 9985.0  0.006169  0.010613  0.0  0.004037   \n",
              "PremLife                   9985.0  0.120931  0.117510  0.0  0.041673   \n",
              "PremWork                   9985.0  0.026743  0.025860  0.0  0.011331   \n",
              "Age                        9985.0  0.498234  0.264147  0.0  0.272727   \n",
              "YearsAsCustumer            9985.0  0.499086  0.275195  0.0  0.250000   \n",
              "\n",
              "                                50%       75%  max  \n",
              "EducDeg_'2 - High School'  0.000000  1.000000  1.0  \n",
              "EducDeg_'1 - Basic'        0.000000  0.000000  1.0  \n",
              "EducDeg_'3 - BSc/MSc'      0.000000  1.000000  1.0  \n",
              "EducDeg_'4 - PhD'          0.000000  0.000000  1.0  \n",
              "MonthSal                   0.039485  0.053934  1.0  \n",
              "GeoLivArea_1.0             0.000000  1.000000  1.0  \n",
              "GeoLivArea_4.0             0.000000  1.000000  1.0  \n",
              "GeoLivArea_3.0             0.000000  0.000000  1.0  \n",
              "GeoLivArea_2.0             0.000000  0.000000  1.0  \n",
              "Children_1.0               1.000000  1.000000  1.0  \n",
              "Children_0.0               0.000000  1.000000  1.0  \n",
              "CustMonVal                 0.934173  0.935367  1.0  \n",
              "ClaimsRate                 0.002810  0.003825  1.0  \n",
              "PremMotor                  0.025963  0.035354  1.0  \n",
              "PremHousehold              0.008315  0.014707  1.0  \n",
              "PremHealth                 0.005841  0.007853  1.0  \n",
              "PremLife                   0.080336  0.160128  1.0  \n",
              "PremWork                   0.019163  0.034383  1.0  \n",
              "Age                        0.500000  0.727273  1.0  \n",
              "YearsAsCustumer            0.500000  0.750000  1.0  "
            ],
            "text/html": [
              "\n",
              "  <div id=\"df-694d1edf-625b-460c-8114-49ff96d17262\">\n",
              "    <div class=\"colab-df-container\">\n",
              "      <div>\n",
              "<style scoped>\n",
              "    .dataframe tbody tr th:only-of-type {\n",
              "        vertical-align: middle;\n",
              "    }\n",
              "\n",
              "    .dataframe tbody tr th {\n",
              "        vertical-align: top;\n",
              "    }\n",
              "\n",
              "    .dataframe thead th {\n",
              "        text-align: right;\n",
              "    }\n",
              "</style>\n",
              "<table border=\"1\" class=\"dataframe\">\n",
              "  <thead>\n",
              "    <tr style=\"text-align: right;\">\n",
              "      <th></th>\n",
              "      <th>count</th>\n",
              "      <th>mean</th>\n",
              "      <th>std</th>\n",
              "      <th>min</th>\n",
              "      <th>25%</th>\n",
              "      <th>50%</th>\n",
              "      <th>75%</th>\n",
              "      <th>max</th>\n",
              "    </tr>\n",
              "  </thead>\n",
              "  <tbody>\n",
              "    <tr>\n",
              "      <th>EducDeg_'2 - High School'</th>\n",
              "      <td>9985.0</td>\n",
              "      <td>0.343415</td>\n",
              "      <td>0.474872</td>\n",
              "      <td>0.0</td>\n",
              "      <td>0.000000</td>\n",
              "      <td>0.000000</td>\n",
              "      <td>1.000000</td>\n",
              "      <td>1.0</td>\n",
              "    </tr>\n",
              "    <tr>\n",
              "      <th>EducDeg_'1 - Basic'</th>\n",
              "      <td>9985.0</td>\n",
              "      <td>0.124687</td>\n",
              "      <td>0.330380</td>\n",
              "      <td>0.0</td>\n",
              "      <td>0.000000</td>\n",
              "      <td>0.000000</td>\n",
              "      <td>0.000000</td>\n",
              "      <td>1.0</td>\n",
              "    </tr>\n",
              "    <tr>\n",
              "      <th>EducDeg_'3 - BSc/MSc'</th>\n",
              "      <td>9985.0</td>\n",
              "      <td>0.464997</td>\n",
              "      <td>0.498798</td>\n",
              "      <td>0.0</td>\n",
              "      <td>0.000000</td>\n",
              "      <td>0.000000</td>\n",
              "      <td>1.000000</td>\n",
              "      <td>1.0</td>\n",
              "    </tr>\n",
              "    <tr>\n",
              "      <th>EducDeg_'4 - PhD'</th>\n",
              "      <td>9985.0</td>\n",
              "      <td>0.066900</td>\n",
              "      <td>0.249862</td>\n",
              "      <td>0.0</td>\n",
              "      <td>0.000000</td>\n",
              "      <td>0.000000</td>\n",
              "      <td>0.000000</td>\n",
              "      <td>1.0</td>\n",
              "    </tr>\n",
              "    <tr>\n",
              "      <th>MonthSal</th>\n",
              "      <td>9985.0</td>\n",
              "      <td>0.039588</td>\n",
              "      <td>0.021213</td>\n",
              "      <td>0.0</td>\n",
              "      <td>0.024908</td>\n",
              "      <td>0.039485</td>\n",
              "      <td>0.053934</td>\n",
              "      <td>1.0</td>\n",
              "    </tr>\n",
              "    <tr>\n",
              "      <th>GeoLivArea_1.0</th>\n",
              "      <td>9985.0</td>\n",
              "      <td>0.295844</td>\n",
              "      <td>0.456444</td>\n",
              "      <td>0.0</td>\n",
              "      <td>0.000000</td>\n",
              "      <td>0.000000</td>\n",
              "      <td>1.000000</td>\n",
              "      <td>1.0</td>\n",
              "    </tr>\n",
              "    <tr>\n",
              "      <th>GeoLivArea_4.0</th>\n",
              "      <td>9985.0</td>\n",
              "      <td>0.404206</td>\n",
              "      <td>0.490762</td>\n",
              "      <td>0.0</td>\n",
              "      <td>0.000000</td>\n",
              "      <td>0.000000</td>\n",
              "      <td>1.000000</td>\n",
              "      <td>1.0</td>\n",
              "    </tr>\n",
              "    <tr>\n",
              "      <th>GeoLivArea_3.0</th>\n",
              "      <td>9985.0</td>\n",
              "      <td>0.201703</td>\n",
              "      <td>0.401291</td>\n",
              "      <td>0.0</td>\n",
              "      <td>0.000000</td>\n",
              "      <td>0.000000</td>\n",
              "      <td>0.000000</td>\n",
              "      <td>1.0</td>\n",
              "    </tr>\n",
              "    <tr>\n",
              "      <th>GeoLivArea_2.0</th>\n",
              "      <td>9985.0</td>\n",
              "      <td>0.098247</td>\n",
              "      <td>0.297664</td>\n",
              "      <td>0.0</td>\n",
              "      <td>0.000000</td>\n",
              "      <td>0.000000</td>\n",
              "      <td>0.000000</td>\n",
              "      <td>1.0</td>\n",
              "    </tr>\n",
              "    <tr>\n",
              "      <th>Children_1.0</th>\n",
              "      <td>9985.0</td>\n",
              "      <td>0.705658</td>\n",
              "      <td>0.455769</td>\n",
              "      <td>0.0</td>\n",
              "      <td>0.000000</td>\n",
              "      <td>1.000000</td>\n",
              "      <td>1.000000</td>\n",
              "      <td>1.0</td>\n",
              "    </tr>\n",
              "    <tr>\n",
              "      <th>Children_0.0</th>\n",
              "      <td>9985.0</td>\n",
              "      <td>0.294342</td>\n",
              "      <td>0.455769</td>\n",
              "      <td>0.0</td>\n",
              "      <td>0.000000</td>\n",
              "      <td>0.000000</td>\n",
              "      <td>1.000000</td>\n",
              "      <td>1.0</td>\n",
              "    </tr>\n",
              "    <tr>\n",
              "      <th>CustMonVal</th>\n",
              "      <td>9985.0</td>\n",
              "      <td>0.934116</td>\n",
              "      <td>0.011126</td>\n",
              "      <td>0.0</td>\n",
              "      <td>0.933069</td>\n",
              "      <td>0.934173</td>\n",
              "      <td>0.935367</td>\n",
              "      <td>1.0</td>\n",
              "    </tr>\n",
              "    <tr>\n",
              "      <th>ClaimsRate</th>\n",
              "      <td>9985.0</td>\n",
              "      <td>0.002910</td>\n",
              "      <td>0.011557</td>\n",
              "      <td>0.0</td>\n",
              "      <td>0.001561</td>\n",
              "      <td>0.002810</td>\n",
              "      <td>0.003825</td>\n",
              "      <td>1.0</td>\n",
              "    </tr>\n",
              "    <tr>\n",
              "      <th>PremMotor</th>\n",
              "      <td>9985.0</td>\n",
              "      <td>0.026105</td>\n",
              "      <td>0.018382</td>\n",
              "      <td>0.0</td>\n",
              "      <td>0.016686</td>\n",
              "      <td>0.025963</td>\n",
              "      <td>0.035354</td>\n",
              "      <td>1.0</td>\n",
              "    </tr>\n",
              "    <tr>\n",
              "      <th>PremHousehold</th>\n",
              "      <td>9985.0</td>\n",
              "      <td>0.011464</td>\n",
              "      <td>0.014176</td>\n",
              "      <td>0.0</td>\n",
              "      <td>0.004975</td>\n",
              "      <td>0.008315</td>\n",
              "      <td>0.014707</td>\n",
              "      <td>1.0</td>\n",
              "    </tr>\n",
              "    <tr>\n",
              "      <th>PremHealth</th>\n",
              "      <td>9985.0</td>\n",
              "      <td>0.006169</td>\n",
              "      <td>0.010613</td>\n",
              "      <td>0.0</td>\n",
              "      <td>0.004037</td>\n",
              "      <td>0.005841</td>\n",
              "      <td>0.007853</td>\n",
              "      <td>1.0</td>\n",
              "    </tr>\n",
              "    <tr>\n",
              "      <th>PremLife</th>\n",
              "      <td>9985.0</td>\n",
              "      <td>0.120931</td>\n",
              "      <td>0.117510</td>\n",
              "      <td>0.0</td>\n",
              "      <td>0.041673</td>\n",
              "      <td>0.080336</td>\n",
              "      <td>0.160128</td>\n",
              "      <td>1.0</td>\n",
              "    </tr>\n",
              "    <tr>\n",
              "      <th>PremWork</th>\n",
              "      <td>9985.0</td>\n",
              "      <td>0.026743</td>\n",
              "      <td>0.025860</td>\n",
              "      <td>0.0</td>\n",
              "      <td>0.011331</td>\n",
              "      <td>0.019163</td>\n",
              "      <td>0.034383</td>\n",
              "      <td>1.0</td>\n",
              "    </tr>\n",
              "    <tr>\n",
              "      <th>Age</th>\n",
              "      <td>9985.0</td>\n",
              "      <td>0.498234</td>\n",
              "      <td>0.264147</td>\n",
              "      <td>0.0</td>\n",
              "      <td>0.272727</td>\n",
              "      <td>0.500000</td>\n",
              "      <td>0.727273</td>\n",
              "      <td>1.0</td>\n",
              "    </tr>\n",
              "    <tr>\n",
              "      <th>YearsAsCustumer</th>\n",
              "      <td>9985.0</td>\n",
              "      <td>0.499086</td>\n",
              "      <td>0.275195</td>\n",
              "      <td>0.0</td>\n",
              "      <td>0.250000</td>\n",
              "      <td>0.500000</td>\n",
              "      <td>0.750000</td>\n",
              "      <td>1.0</td>\n",
              "    </tr>\n",
              "  </tbody>\n",
              "</table>\n",
              "</div>\n",
              "      <button class=\"colab-df-convert\" onclick=\"convertToInteractive('df-694d1edf-625b-460c-8114-49ff96d17262')\"\n",
              "              title=\"Convert this dataframe to an interactive table.\"\n",
              "              style=\"display:none;\">\n",
              "        \n",
              "  <svg xmlns=\"http://www.w3.org/2000/svg\" height=\"24px\"viewBox=\"0 0 24 24\"\n",
              "       width=\"24px\">\n",
              "    <path d=\"M0 0h24v24H0V0z\" fill=\"none\"/>\n",
              "    <path d=\"M18.56 5.44l.94 2.06.94-2.06 2.06-.94-2.06-.94-.94-2.06-.94 2.06-2.06.94zm-11 1L8.5 8.5l.94-2.06 2.06-.94-2.06-.94L8.5 2.5l-.94 2.06-2.06.94zm10 10l.94 2.06.94-2.06 2.06-.94-2.06-.94-.94-2.06-.94 2.06-2.06.94z\"/><path d=\"M17.41 7.96l-1.37-1.37c-.4-.4-.92-.59-1.43-.59-.52 0-1.04.2-1.43.59L10.3 9.45l-7.72 7.72c-.78.78-.78 2.05 0 2.83L4 21.41c.39.39.9.59 1.41.59.51 0 1.02-.2 1.41-.59l7.78-7.78 2.81-2.81c.8-.78.8-2.07 0-2.86zM5.41 20L4 18.59l7.72-7.72 1.47 1.35L5.41 20z\"/>\n",
              "  </svg>\n",
              "      </button>\n",
              "      \n",
              "  <style>\n",
              "    .colab-df-container {\n",
              "      display:flex;\n",
              "      flex-wrap:wrap;\n",
              "      gap: 12px;\n",
              "    }\n",
              "\n",
              "    .colab-df-convert {\n",
              "      background-color: #E8F0FE;\n",
              "      border: none;\n",
              "      border-radius: 50%;\n",
              "      cursor: pointer;\n",
              "      display: none;\n",
              "      fill: #1967D2;\n",
              "      height: 32px;\n",
              "      padding: 0 0 0 0;\n",
              "      width: 32px;\n",
              "    }\n",
              "\n",
              "    .colab-df-convert:hover {\n",
              "      background-color: #E2EBFA;\n",
              "      box-shadow: 0px 1px 2px rgba(60, 64, 67, 0.3), 0px 1px 3px 1px rgba(60, 64, 67, 0.15);\n",
              "      fill: #174EA6;\n",
              "    }\n",
              "\n",
              "    [theme=dark] .colab-df-convert {\n",
              "      background-color: #3B4455;\n",
              "      fill: #D2E3FC;\n",
              "    }\n",
              "\n",
              "    [theme=dark] .colab-df-convert:hover {\n",
              "      background-color: #434B5C;\n",
              "      box-shadow: 0px 1px 3px 1px rgba(0, 0, 0, 0.15);\n",
              "      filter: drop-shadow(0px 1px 2px rgba(0, 0, 0, 0.3));\n",
              "      fill: #FFFFFF;\n",
              "    }\n",
              "  </style>\n",
              "\n",
              "      <script>\n",
              "        const buttonEl =\n",
              "          document.querySelector('#df-694d1edf-625b-460c-8114-49ff96d17262 button.colab-df-convert');\n",
              "        buttonEl.style.display =\n",
              "          google.colab.kernel.accessAllowed ? 'block' : 'none';\n",
              "\n",
              "        async function convertToInteractive(key) {\n",
              "          const element = document.querySelector('#df-694d1edf-625b-460c-8114-49ff96d17262');\n",
              "          const dataTable =\n",
              "            await google.colab.kernel.invokeFunction('convertToInteractive',\n",
              "                                                     [key], {});\n",
              "          if (!dataTable) return;\n",
              "\n",
              "          const docLinkHtml = 'Like what you see? Visit the ' +\n",
              "            '<a target=\"_blank\" href=https://colab.research.google.com/notebooks/data_table.ipynb>data table notebook</a>'\n",
              "            + ' to learn more about interactive tables.';\n",
              "          element.innerHTML = '';\n",
              "          dataTable['output_type'] = 'display_data';\n",
              "          await google.colab.output.renderOutput(dataTable, element);\n",
              "          const docLink = document.createElement('div');\n",
              "          docLink.innerHTML = docLinkHtml;\n",
              "          element.appendChild(docLink);\n",
              "        }\n",
              "      </script>\n",
              "    </div>\n",
              "  </div>\n",
              "  "
            ]
          },
          "metadata": {},
          "execution_count": 182
        }
      ]
    },
    {
      "cell_type": "code",
      "source": [
        "# Apply the Elbow method to select K\n",
        "km = KMeans()\n",
        "visualizer = KElbowVisualizer(km, k=(1,20), random_state=123)\n",
        "visualizer.fit(X_pca_reduced)\n",
        "visualizer.show() "
      ],
      "metadata": {
        "colab": {
          "base_uri": "https://localhost:8080/",
          "height": 394
        },
        "id": "donrRM4p11TP",
        "outputId": "8d673259-2c89-4125-97fa-b1be093276ac"
      },
      "execution_count": 166,
      "outputs": [
        {
          "output_type": "display_data",
          "data": {
            "text/plain": [
              "<Figure size 576x396 with 2 Axes>"
            ],
            "image/png": "[encoded data removed]"
          },
          "metadata": {}
        },
        {
          "output_type": "execute_result",
          "data": {
            "text/plain": [
              "<matplotlib.axes._subplots.AxesSubplot at 0x7fe69291a090>"
            ]
          },
          "metadata": {},
          "execution_count": 166
        }
      ]
    },
    {
      "cell_type": "code",
      "source": [
        "# Select K based on the Silhouette method\n",
        "# ATTENTION! Depending on the computer this can take long time to run (more than 10 minutes)\n",
        "sil = []\n",
        "\n",
        "# Dissimilarity can only be measured in more than 1 partition, therefore it starts on K=2\n",
        "for k in range(2, 20):\n",
        "  km = KMeans(n_clusters = k, random_state=123).fit(X)\n",
        "  labels = km.labels_\n",
        "  sil.append(silhouette_score(X, labels, metric = 'euclidean'))\n",
        "\n",
        "\n",
        "# Show Results\n",
        "# Draw\n",
        "fig , ax = plt.subplots(figsize=(5, 4))\n",
        "plt.plot(range(2, 20), sil, 'bx-')\n",
        "# Decoration\n",
        "sns.despine()\n",
        "fmt = \"{x:,.2f}\"\n",
        "tick = ticker.StrMethodFormatter(fmt)\n",
        "ax.yaxis.set_major_formatter(tick)\n",
        "plt.xlabel('K')\n",
        "plt.ylabel('Silhouette score')\n",
        "plt.rc('axes', labelsize=subPlots_label_fontSize)\n",
        "ax.xaxis.set_major_locator(ticker.MaxNLocator(integer=True))\n",
        "plt.title('Silhouette method - Reduced dimensionality', fontsize=plots_Title_fontSize);"
      ],
      "metadata": {
        "colab": {
          "base_uri": "https://localhost:8080/",
          "height": 296
        },
        "id": "k01ViH4H13CR",
        "outputId": "ade13df5-80d1-4c05-b5ff-77d81a6ce20e"
      },
      "execution_count": 167,
      "outputs": [
        {
          "output_type": "display_data",
          "data": {
            "text/plain": [
              "<Figure size 360x288 with 1 Axes>"
            ],
            "image/png": "[encoded data removed]"
          },
          "metadata": {}
        }
      ]
    },
    {
      "cell_type": "markdown",
      "source": [
        "The silhouette method does not allow us to conclude about the method to use, we select a number of clusters equal to 6."
      ],
      "metadata": {
        "id": "gyNCdSG92eBg"
      }
    },
    {
      "cell_type": "code",
      "source": [
        "# Apply the K-Means for K=6\n",
        "K=6\n",
        "kmeans = KMeans(n_clusters=K, random_state=2022)\n",
        "allDistances = kmeans.fit_transform(X_pca_reduced)\n",
        "y_kmeans = kmeans.predict(X_pca_reduced)"
      ],
      "metadata": {
        "id": "7Kns2zhZ2AKw"
      },
      "execution_count": 168,
      "outputs": []
    },
    {
      "cell_type": "code",
      "source": [
        "y_kmeans"
      ],
      "metadata": {
        "colab": {
          "base_uri": "https://localhost:8080/"
        },
        "id": "GHrSVbCb8jav",
        "outputId": "330d675e-586f-4ef3-b662-a1351c1c3428"
      },
      "execution_count": 180,
      "outputs": [
        {
          "output_type": "execute_result",
          "data": {
            "text/plain": [
              "array([1, 2, 4, ..., 1, 3, 1], dtype=int32)"
            ]
          },
          "metadata": {},
          "execution_count": 180
        }
      ]
    },
    {
      "cell_type": "code",
      "source": [
        "# Visualize Silhouette - see https://www.scikit-yb.org/en/latest/api/cluster/silhouette.html\n",
        "visualizer = SilhouetteVisualizer(kmeans, colors='yellowbrick')\n",
        "visualizer.fit(X_pca_reduced)\n",
        "visualizer.show()"
      ],
      "metadata": {
        "colab": {
          "base_uri": "https://localhost:8080/",
          "height": 394
        },
        "id": "KpXYaqif21BY",
        "outputId": "033d1c89-82e3-4484-c842-d4fb389cf0aa"
      },
      "execution_count": 169,
      "outputs": [
        {
          "output_type": "display_data",
          "data": {
            "text/plain": [
              "<Figure size 576x396 with 1 Axes>"
            ],
            "image/png": "[encoded data removed]"
          },
          "metadata": {}
        },
        {
          "output_type": "execute_result",
          "data": {
            "text/plain": [
              "<matplotlib.axes._subplots.AxesSubplot at 0x7fe68f77d350>"
            ]
          },
          "metadata": {},
          "execution_count": 169
        }
      ]
    },
    {
      "cell_type": "code",
      "source": [
        "# Plot clusters cardinality \n",
        "\n",
        "# Count observations per cluster\n",
        "freqByCluster = X_beforeNorm.groupby(y_kmeans).size()\n",
        "\n",
        "# Draw\n",
        "fig, ax = plt.subplots(figsize=(7,5))\n",
        "g = sns.countplot(x=y_kmeans, color='grey')\n",
        "\n",
        "# Decoration\n",
        "fmt = \"{x:,.0f}\"\n",
        "tick = ticker.StrMethodFormatter(fmt)\n",
        "ax.yaxis.set_major_formatter(tick)\n",
        "for index,data in enumerate(freqByCluster):\n",
        "    plt.text(x=index-0.2 , y=data+50 , s=f\"{data}\" , fontdict=dict(fontsize=plots_barTexts_fontSize))\n",
        "sns.despine()\n",
        "plt.title(\"Cluster cardinality\", fontsize=plots_Title_fontSize)\n",
        "plt.xlabel(\"Cluster\")\n",
        "plt.ylabel(\"Frequency in cluster\")\n",
        "plt.rc('axes', labelsize=subPlots_label_fontSize)"
      ],
      "metadata": {
        "colab": {
          "base_uri": "https://localhost:8080/",
          "height": 351
        },
        "id": "vJqqdE7223jH",
        "outputId": "d1f6247d-e9cd-4d10-975d-742e47c4a712"
      },
      "execution_count": 170,
      "outputs": [
        {
          "output_type": "display_data",
          "data": {
            "text/plain": [
              "<Figure size 504x360 with 1 Axes>"
            ],
            "image/png": "[encoded data removed]"
          },
          "metadata": {}
        }
      ]
    },
    {
      "cell_type": "markdown",
      "source": [
        "- We can see that the clusters 3 and 4 have the same cardinality, maybe we can merge them.\n",
        "- The cluster 1 and 5 have similar cardinality, same thing apply for the cluster 0 and 2.\n"
      ],
      "metadata": {
        "id": "UGz_-e1m3DRc"
      }
    },
    {
      "cell_type": "code",
      "source": [
        "# Plot clusters magnitude\n",
        "\n",
        "# Compute Magnitude\n",
        "X['distanceToCentroid'] = np.min(allDistances,axis=1)\n",
        "magnitude = X['distanceToCentroid'].groupby(y_kmeans).sum()\n",
        "X = X.drop(columns=['distanceToCentroid'])\n",
        "\n",
        "# Draw\n",
        "fig, ax = plt.subplots(figsize=(7,5))\n",
        "g = sns.barplot(x=magnitude.index, y=magnitude.values, color='grey')\n",
        "\n",
        "# Decoration\n",
        "fmt = \"{x:,.0f}\"\n",
        "tick = ticker.StrMethodFormatter(fmt)\n",
        "ax.yaxis.set_major_formatter(tick)\n",
        "for index,data in enumerate(magnitude):\n",
        "    plt.text(x=index-0.2 , y=data+50 , s=f\"{data:,.0f}\" , fontdict=dict(fontsize=plots_barTexts_fontSize))\n",
        "sns.despine()\n",
        "plt.title(\"Cluster magnitude\", fontsize=plots_Title_fontSize)\n",
        "plt.xlabel(\"Cluster\")\n",
        "plt.ylabel(\"Sum of distances to centroid\")\n",
        "plt.rc('axes', labelsize=subPlots_label_fontSize)"
      ],
      "metadata": {
        "colab": {
          "base_uri": "https://localhost:8080/",
          "height": 351
        },
        "id": "TkUg9odF3Abb",
        "outputId": "0624dbca-e65f-453e-8403-3903ab584567"
      },
      "execution_count": 171,
      "outputs": [
        {
          "output_type": "display_data",
          "data": {
            "text/plain": [
              "<Figure size 504x360 with 1 Axes>"
            ],
            "image/png": "[encoded data removed]"
          },
          "metadata": {}
        }
      ]
    },
    {
      "cell_type": "markdown",
      "source": [
        "- The cluster 2 has the smallest sum of distances to centroid.\n",
        "- We should investigate more the clusters 1 and 4."
      ],
      "metadata": {
        "id": "pdJ90Jf136SB"
      }
    },
    {
      "cell_type": "code",
      "source": [
        "# Plot cardinality vs magnitude\n",
        "\n",
        "# Draw\n",
        "fig, ax = plt.subplots(figsize=(6,4))\n",
        "g = sns.regplot(x=freqByCluster, y=magnitude, scatter=True, seed=123,truncate=False, ci=None)\n",
        "\n",
        "# Decoration\n",
        "fmt = \"{x:,.0f}\"\n",
        "tick = ticker.StrMethodFormatter(fmt)\n",
        "ax.xaxis.set_major_formatter(tick)\n",
        "ax.yaxis.set_major_formatter(tick)\n",
        "sns.despine()\n",
        "plt.title(\"Cardinality vs Magnitude\", fontsize=plots_Title_fontSize)\n",
        "plt.xlabel(\"Cardinality\")\n",
        "plt.ylabel(\"Magnitude\")\n",
        "plt.rc('axes', labelsize=subPlots_label_fontSize)"
      ],
      "metadata": {
        "colab": {
          "base_uri": "https://localhost:8080/",
          "height": 296
        },
        "id": "QqzkqSTy31R1",
        "outputId": "e503ff80-7898-406d-886e-e7bcafe10655"
      },
      "execution_count": 172,
      "outputs": [
        {
          "output_type": "display_data",
          "data": {
            "text/plain": [
              "<Figure size 432x288 with 1 Axes>"
            ],
            "image/png": "[encoded data removed]"
          },
          "metadata": {}
        }
      ]
    },
    {
      "cell_type": "code",
      "source": [
        "# Visualizing the clusters sizes and distances in 2D\n",
        "visualizer = InterclusterDistance(kmeans)\n",
        "visualizer.fit(X_pca_reduced)\n",
        "visualizer.show()"
      ],
      "metadata": {
        "colab": {
          "base_uri": "https://localhost:8080/",
          "height": 384
        },
        "id": "sbX_wi3a4Oue",
        "outputId": "b189a1af-d008-4ee8-ac34-05a1f5a4eb00"
      },
      "execution_count": 173,
      "outputs": [
        {
          "output_type": "display_data",
          "data": {
            "text/plain": [
              "<Figure size 576x396 with 2 Axes>"
            ],
            "image/png": "[encoded data removed]"
          },
          "metadata": {}
        },
        {
          "output_type": "execute_result",
          "data": {
            "text/plain": [
              "<matplotlib.axes._subplots.AxesSubplot at 0x7fe6928b1710>"
            ]
          },
          "metadata": {},
          "execution_count": 173
        }
      ]
    },
    {
      "cell_type": "markdown",
      "source": [
        "- We can see an intersection between the clusters 1 and 3, we need to find a way to solve this issue."
      ],
      "metadata": {
        "id": "RCyM-VPd4hDK"
      }
    },
    {
      "cell_type": "code",
      "source": [
        "# Create a dataframe with the weights per component\n",
        "wheightsDF = pd.DataFrame(pca.components_,columns=X.columns)\n",
        "wheightsDF"
      ],
      "metadata": {
        "colab": {
          "base_uri": "https://localhost:8080/",
          "height": 775
        },
        "id": "m7Nzjm_74WQd",
        "outputId": "71b2283c-fde6-485f-a5b1-d98588a237b8"
      },
      "execution_count": 174,
      "outputs": [
        {
          "output_type": "execute_result",
          "data": {
            "text/plain": [
              "    EducDeg_'2 - High School'  EducDeg_'1 - Basic'  EducDeg_'3 - BSc/MSc'  \\\n",
              "0                   -0.005833            -0.012654               0.015529   \n",
              "1                    0.660643             0.053623              -0.733931   \n",
              "2                    0.083716             0.005409              -0.099170   \n",
              "3                    0.012848            -0.001998              -0.006704   \n",
              "4                   -0.505164             0.737060              -0.381441   \n",
              "5                   -0.008867             0.004968              -0.001655   \n",
              "6                   -0.224514            -0.374811              -0.227781   \n",
              "7                   -0.016937            -0.015868              -0.015837   \n",
              "8                    0.001342             0.234659              -0.047646   \n",
              "9                   -0.019125            -0.087072               0.035636   \n",
              "10                  -0.003190            -0.015711               0.006758   \n",
              "11                  -0.001177            -0.000798               0.000103   \n",
              "12                   0.001335             0.001891              -0.000916   \n",
              "13                  -0.000317             0.000475              -0.000029   \n",
              "14                  -0.000435            -0.003863               0.001603   \n",
              "15                  -0.000597             0.001067              -0.000463   \n",
              "16                   0.000009             0.000116              -0.000023   \n",
              "17                  -0.498439            -0.498439              -0.498439   \n",
              "18                   0.031656             0.031656               0.031656   \n",
              "19                   0.023589             0.023589               0.023589   \n",
              "\n",
              "    EducDeg_'4 - PhD'      MonthSal  GeoLivArea_1.0  GeoLivArea_4.0  \\\n",
              "0            0.002958  1.425409e-02       -0.072625        0.089756   \n",
              "1            0.019666 -2.127466e-03       -0.072495        0.105833   \n",
              "2            0.010046  1.061737e-03        0.589177       -0.774493   \n",
              "3           -0.004145  2.143774e-05       -0.568813       -0.285131   \n",
              "4            0.149545 -9.928695e-03       -0.004732        0.002556   \n",
              "5            0.005554  1.223335e-03       -0.262011       -0.222476   \n",
              "6            0.827107  1.373436e-02       -0.003591        0.006665   \n",
              "7            0.048643  3.056596e-03        0.004836        0.006583   \n",
              "8           -0.188355  5.751783e-02        0.009156        0.003317   \n",
              "9            0.070561  1.234687e-02       -0.000199       -0.001517   \n",
              "10           0.012143  1.208062e-02        0.000060        0.000457   \n",
              "11           0.001872 -1.317387e-02       -0.000182       -0.000269   \n",
              "12          -0.002310  2.062505e-02        0.000328        0.000095   \n",
              "13          -0.000128  9.975832e-01        0.000043       -0.000225   \n",
              "14           0.002694 -9.359202e-03        0.000161       -0.000110   \n",
              "15          -0.000007  5.248020e-03        0.000138        0.000152   \n",
              "16          -0.000103 -1.210800e-04       -0.000018       -0.000006   \n",
              "17          -0.498439 -3.229296e-16        0.024871        0.024871   \n",
              "18           0.031656  8.287777e-15        0.019777        0.019777   \n",
              "19           0.023589 -1.398763e-15        0.498989        0.498989   \n",
              "\n",
              "    GeoLivArea_3.0  GeoLivArea_2.0  Children_1.0  Children_0.0    CustMonVal  \\\n",
              "0        -0.019027    1.895368e-03     -0.684180      0.684180 -6.154061e-06   \n",
              "1        -0.031145   -2.192885e-03     -0.006073      0.006073  2.384292e-04   \n",
              "2         0.142251    4.306552e-02     -0.082243      0.082243  1.379221e-04   \n",
              "3         0.766301    8.764371e-02      0.001431     -0.001431 -3.320705e-05   \n",
              "4         0.006839   -4.662821e-03     -0.032247      0.032247  4.725812e-04   \n",
              "5        -0.375566    8.600531e-01      0.008554     -0.008554  1.839336e-04   \n",
              "6         0.004488   -7.561446e-03      0.038059     -0.038059 -1.158082e-04   \n",
              "7         0.009100   -2.051870e-02      0.011378     -0.011378 -1.625575e-04   \n",
              "8         0.003726   -1.619881e-02      0.144189     -0.144189  1.478170e-04   \n",
              "9         0.000467    1.249058e-03      0.039557     -0.039557  1.325831e-04   \n",
              "10       -0.000712    1.949137e-04      0.006147     -0.006147  4.740212e-03   \n",
              "11        0.000502   -5.186339e-05      0.002066     -0.002066 -5.408015e-01   \n",
              "12       -0.000858    4.349957e-04     -0.002393      0.002393 -4.325017e-01   \n",
              "13        0.000290   -1.074103e-04      0.000161     -0.000161  1.366333e-03   \n",
              "14       -0.000114    6.315483e-05      0.000569     -0.000569 -2.751158e-02   \n",
              "15       -0.000459    1.687541e-04      0.000644     -0.000644  5.281374e-03   \n",
              "16        0.000024    4.280129e-07     -0.000093      0.000093 -7.208790e-01   \n",
              "17        0.024871    2.487108e-02      0.043358      0.043358 -3.113232e-15   \n",
              "18        0.019777    1.977679e-02      0.705134      0.705134 -8.201549e-16   \n",
              "19        0.498989    4.989893e-01     -0.030108     -0.030108  4.412574e-15   \n",
              "\n",
              "      ClaimsRate     PremMotor  PremHousehold    PremHealth      PremLife  \\\n",
              "0   4.303346e-05 -3.544943e-03   8.734127e-04  9.568554e-04  1.479869e-02   \n",
              "1  -1.506611e-04 -5.753065e-03   3.820741e-03  4.300977e-04  5.000143e-02   \n",
              "2  -1.311066e-04 -1.156927e-03   4.300877e-04  2.864336e-04  7.011359e-03   \n",
              "3   1.145592e-04  8.833114e-04  -9.758248e-05  4.486944e-04 -1.182204e-03   \n",
              "4  -1.888473e-04 -8.161193e-03   6.454228e-03 -4.712761e-04  8.742052e-02   \n",
              "5  -2.239909e-04  6.483139e-05  -2.090413e-04 -3.003419e-04 -4.914011e-03   \n",
              "6  -2.604038e-04  1.455298e-02  -9.363390e-03 -1.067761e-03 -1.297139e-01   \n",
              "7   1.648106e-04  1.006198e-03  -1.352259e-03  3.442266e-05 -6.830756e-03   \n",
              "8  -5.007391e-04  1.638991e-02  -8.073138e-03 -2.091273e-03 -1.340887e-01   \n",
              "9   1.091393e-04 -3.926555e-02   1.113129e-02  7.624445e-05  9.755150e-01   \n",
              "10 -1.932230e-03 -2.384219e-01   8.789590e-02  4.301489e-02 -4.206489e-02   \n",
              "11  5.443983e-01 -6.056402e-01   1.314944e-01  2.571378e-02 -2.320672e-02   \n",
              "12  4.697710e-01  6.985700e-01  -2.488330e-01 -2.709492e-02  2.759736e-02   \n",
              "13 -2.032058e-03 -1.784244e-02   1.521599e-02 -5.044145e-03 -2.156730e-03   \n",
              "14  5.839631e-02  2.872161e-01   9.550018e-01 -3.102255e-02 -3.590017e-04   \n",
              "15  4.592549e-03  5.361416e-02   1.571997e-02  9.978609e-01  2.642162e-03   \n",
              "16 -6.924639e-01  2.304860e-02   1.492720e-02  5.732968e-03  8.527171e-04   \n",
              "17 -2.862348e-15  1.127570e-17   1.366095e-16 -2.170573e-16  2.636780e-16   \n",
              "18 -7.862380e-16  3.480831e-16  -1.054116e-16  2.435254e-16  5.924081e-16   \n",
              "19  4.163782e-15 -5.403664e-16  -2.438913e-16 -3.591691e-16 -2.025290e-16   \n",
              "\n",
              "        PremWork           Age  YearsAsCustumer  \n",
              "0   2.143161e-03  2.217274e-01    -7.152965e-03  \n",
              "1   9.359472e-03 -3.858056e-02    -1.295574e-03  \n",
              "2   1.871602e-03  1.944980e-02    -2.482634e-03  \n",
              "3   8.674611e-04  3.800657e-03     4.507552e-04  \n",
              "4   1.676778e-02 -1.528797e-01     3.248645e-03  \n",
              "5  -1.025564e-03  1.707434e-02    -2.262062e-02  \n",
              "6  -2.315063e-02  2.194104e-01     6.400240e-02  \n",
              "7  -2.952232e-04  3.731224e-02    -9.972781e-01  \n",
              "8  -2.034904e-02  9.178582e-01     2.700539e-02  \n",
              "9   2.423487e-02  1.691432e-01     5.078826e-03  \n",
              "10  9.646286e-01  2.450252e-02     1.519151e-03  \n",
              "11 -1.601456e-01  6.245866e-03    -3.818869e-05  \n",
              "12  2.008441e-01 -7.469104e-03     5.046546e-04  \n",
              "13 -1.656428e-02 -6.297867e-02     6.808520e-04  \n",
              "14 -1.453260e-02  4.913610e-03    -6.446737e-04  \n",
              "15 -3.264237e-02  2.898529e-04     9.447081e-05  \n",
              "16  6.286785e-03 -2.794032e-04    -2.098079e-05  \n",
              "17  5.308254e-16  3.556183e-17    -8.673617e-18  \n",
              "18 -6.591949e-17  1.349832e-17    -1.036497e-16  \n",
              "19 -3.361027e-16 -1.556914e-16    -2.954451e-17  "
            ],
            "text/html": [
              "\n",
              "  <div id=\"df-435fcb3f-b30a-46a1-952b-86ea1776c4b9\">\n",
              "    <div class=\"colab-df-container\">\n",
              "      <div>\n",
              "<style scoped>\n",
              "    .dataframe tbody tr th:only-of-type {\n",
              "        vertical-align: middle;\n",
              "    }\n",
              "\n",
              "    .dataframe tbody tr th {\n",
              "        vertical-align: top;\n",
              "    }\n",
              "\n",
              "    .dataframe thead th {\n",
              "        text-align: right;\n",
              "    }\n",
              "</style>\n",
              "<table border=\"1\" class=\"dataframe\">\n",
              "  <thead>\n",
              "    <tr style=\"text-align: right;\">\n",
              "      <th></th>\n",
              "      <th>EducDeg_'2 - High School'</th>\n",
              "      <th>EducDeg_'1 - Basic'</th>\n",
              "      <th>EducDeg_'3 - BSc/MSc'</th>\n",
              "      <th>EducDeg_'4 - PhD'</th>\n",
              "      <th>MonthSal</th>\n",
              "      <th>GeoLivArea_1.0</th>\n",
              "      <th>GeoLivArea_4.0</th>\n",
              "      <th>GeoLivArea_3.0</th>\n",
              "      <th>GeoLivArea_2.0</th>\n",
              "      <th>Children_1.0</th>\n",
              "      <th>Children_0.0</th>\n",
              "      <th>CustMonVal</th>\n",
              "      <th>ClaimsRate</th>\n",
              "      <th>PremMotor</th>\n",
              "      <th>PremHousehold</th>\n",
              "      <th>PremHealth</th>\n",
              "      <th>PremLife</th>\n",
              "      <th>PremWork</th>\n",
              "      <th>Age</th>\n",
              "      <th>YearsAsCustumer</th>\n",
              "    </tr>\n",
              "  </thead>\n",
              "  <tbody>\n",
              "    <tr>\n",
              "      <th>0</th>\n",
              "      <td>-0.005833</td>\n",
              "      <td>-0.012654</td>\n",
              "      <td>0.015529</td>\n",
              "      <td>0.002958</td>\n",
              "      <td>1.425409e-02</td>\n",
              "      <td>-0.072625</td>\n",
              "      <td>0.089756</td>\n",
              "      <td>-0.019027</td>\n",
              "      <td>1.895368e-03</td>\n",
              "      <td>-0.684180</td>\n",
              "      <td>0.684180</td>\n",
              "      <td>-6.154061e-06</td>\n",
              "      <td>4.303346e-05</td>\n",
              "      <td>-3.544943e-03</td>\n",
              "      <td>8.734127e-04</td>\n",
              "      <td>9.568554e-04</td>\n",
              "      <td>1.479869e-02</td>\n",
              "      <td>2.143161e-03</td>\n",
              "      <td>2.217274e-01</td>\n",
              "      <td>-7.152965e-03</td>\n",
              "    </tr>\n",
              "    <tr>\n",
              "      <th>1</th>\n",
              "      <td>0.660643</td>\n",
              "      <td>0.053623</td>\n",
              "      <td>-0.733931</td>\n",
              "      <td>0.019666</td>\n",
              "      <td>-2.127466e-03</td>\n",
              "      <td>-0.072495</td>\n",
              "      <td>0.105833</td>\n",
              "      <td>-0.031145</td>\n",
              "      <td>-2.192885e-03</td>\n",
              "      <td>-0.006073</td>\n",
              "      <td>0.006073</td>\n",
              "      <td>2.384292e-04</td>\n",
              "      <td>-1.506611e-04</td>\n",
              "      <td>-5.753065e-03</td>\n",
              "      <td>3.820741e-03</td>\n",
              "      <td>4.300977e-04</td>\n",
              "      <td>5.000143e-02</td>\n",
              "      <td>9.359472e-03</td>\n",
              "      <td>-3.858056e-02</td>\n",
              "      <td>-1.295574e-03</td>\n",
              "    </tr>\n",
              "    <tr>\n",
              "      <th>2</th>\n",
              "      <td>0.083716</td>\n",
              "      <td>0.005409</td>\n",
              "      <td>-0.099170</td>\n",
              "      <td>0.010046</td>\n",
              "      <td>1.061737e-03</td>\n",
              "      <td>0.589177</td>\n",
              "      <td>-0.774493</td>\n",
              "      <td>0.142251</td>\n",
              "      <td>4.306552e-02</td>\n",
              "      <td>-0.082243</td>\n",
              "      <td>0.082243</td>\n",
              "      <td>1.379221e-04</td>\n",
              "      <td>-1.311066e-04</td>\n",
              "      <td>-1.156927e-03</td>\n",
              "      <td>4.300877e-04</td>\n",
              "      <td>2.864336e-04</td>\n",
              "      <td>7.011359e-03</td>\n",
              "      <td>1.871602e-03</td>\n",
              "      <td>1.944980e-02</td>\n",
              "      <td>-2.482634e-03</td>\n",
              "    </tr>\n",
              "    <tr>\n",
              "      <th>3</th>\n",
              "      <td>0.012848</td>\n",
              "      <td>-0.001998</td>\n",
              "      <td>-0.006704</td>\n",
              "      <td>-0.004145</td>\n",
              "      <td>2.143774e-05</td>\n",
              "      <td>-0.568813</td>\n",
              "      <td>-0.285131</td>\n",
              "      <td>0.766301</td>\n",
              "      <td>8.764371e-02</td>\n",
              "      <td>0.001431</td>\n",
              "      <td>-0.001431</td>\n",
              "      <td>-3.320705e-05</td>\n",
              "      <td>1.145592e-04</td>\n",
              "      <td>8.833114e-04</td>\n",
              "      <td>-9.758248e-05</td>\n",
              "      <td>4.486944e-04</td>\n",
              "      <td>-1.182204e-03</td>\n",
              "      <td>8.674611e-04</td>\n",
              "      <td>3.800657e-03</td>\n",
              "      <td>4.507552e-04</td>\n",
              "    </tr>\n",
              "    <tr>\n",
              "      <th>4</th>\n",
              "      <td>-0.505164</td>\n",
              "      <td>0.737060</td>\n",
              "      <td>-0.381441</td>\n",
              "      <td>0.149545</td>\n",
              "      <td>-9.928695e-03</td>\n",
              "      <td>-0.004732</td>\n",
              "      <td>0.002556</td>\n",
              "      <td>0.006839</td>\n",
              "      <td>-4.662821e-03</td>\n",
              "      <td>-0.032247</td>\n",
              "      <td>0.032247</td>\n",
              "      <td>4.725812e-04</td>\n",
              "      <td>-1.888473e-04</td>\n",
              "      <td>-8.161193e-03</td>\n",
              "      <td>6.454228e-03</td>\n",
              "      <td>-4.712761e-04</td>\n",
              "      <td>8.742052e-02</td>\n",
              "      <td>1.676778e-02</td>\n",
              "      <td>-1.528797e-01</td>\n",
              "      <td>3.248645e-03</td>\n",
              "    </tr>\n",
              "    <tr>\n",
              "      <th>5</th>\n",
              "      <td>-0.008867</td>\n",
              "      <td>0.004968</td>\n",
              "      <td>-0.001655</td>\n",
              "      <td>0.005554</td>\n",
              "      <td>1.223335e-03</td>\n",
              "      <td>-0.262011</td>\n",
              "      <td>-0.222476</td>\n",
              "      <td>-0.375566</td>\n",
              "      <td>8.600531e-01</td>\n",
              "      <td>0.008554</td>\n",
              "      <td>-0.008554</td>\n",
              "      <td>1.839336e-04</td>\n",
              "      <td>-2.239909e-04</td>\n",
              "      <td>6.483139e-05</td>\n",
              "      <td>-2.090413e-04</td>\n",
              "      <td>-3.003419e-04</td>\n",
              "      <td>-4.914011e-03</td>\n",
              "      <td>-1.025564e-03</td>\n",
              "      <td>1.707434e-02</td>\n",
              "      <td>-2.262062e-02</td>\n",
              "    </tr>\n",
              "    <tr>\n",
              "      <th>6</th>\n",
              "      <td>-0.224514</td>\n",
              "      <td>-0.374811</td>\n",
              "      <td>-0.227781</td>\n",
              "      <td>0.827107</td>\n",
              "      <td>1.373436e-02</td>\n",
              "      <td>-0.003591</td>\n",
              "      <td>0.006665</td>\n",
              "      <td>0.004488</td>\n",
              "      <td>-7.561446e-03</td>\n",
              "      <td>0.038059</td>\n",
              "      <td>-0.038059</td>\n",
              "      <td>-1.158082e-04</td>\n",
              "      <td>-2.604038e-04</td>\n",
              "      <td>1.455298e-02</td>\n",
              "      <td>-9.363390e-03</td>\n",
              "      <td>-1.067761e-03</td>\n",
              "      <td>-1.297139e-01</td>\n",
              "      <td>-2.315063e-02</td>\n",
              "      <td>2.194104e-01</td>\n",
              "      <td>6.400240e-02</td>\n",
              "    </tr>\n",
              "    <tr>\n",
              "      <th>7</th>\n",
              "      <td>-0.016937</td>\n",
              "      <td>-0.015868</td>\n",
              "      <td>-0.015837</td>\n",
              "      <td>0.048643</td>\n",
              "      <td>3.056596e-03</td>\n",
              "      <td>0.004836</td>\n",
              "      <td>0.006583</td>\n",
              "      <td>0.009100</td>\n",
              "      <td>-2.051870e-02</td>\n",
              "      <td>0.011378</td>\n",
              "      <td>-0.011378</td>\n",
              "      <td>-1.625575e-04</td>\n",
              "      <td>1.648106e-04</td>\n",
              "      <td>1.006198e-03</td>\n",
              "      <td>-1.352259e-03</td>\n",
              "      <td>3.442266e-05</td>\n",
              "      <td>-6.830756e-03</td>\n",
              "      <td>-2.952232e-04</td>\n",
              "      <td>3.731224e-02</td>\n",
              "      <td>-9.972781e-01</td>\n",
              "    </tr>\n",
              "    <tr>\n",
              "      <th>8</th>\n",
              "      <td>0.001342</td>\n",
              "      <td>0.234659</td>\n",
              "      <td>-0.047646</td>\n",
              "      <td>-0.188355</td>\n",
              "      <td>5.751783e-02</td>\n",
              "      <td>0.009156</td>\n",
              "      <td>0.003317</td>\n",
              "      <td>0.003726</td>\n",
              "      <td>-1.619881e-02</td>\n",
              "      <td>0.144189</td>\n",
              "      <td>-0.144189</td>\n",
              "      <td>1.478170e-04</td>\n",
              "      <td>-5.007391e-04</td>\n",
              "      <td>1.638991e-02</td>\n",
              "      <td>-8.073138e-03</td>\n",
              "      <td>-2.091273e-03</td>\n",
              "      <td>-1.340887e-01</td>\n",
              "      <td>-2.034904e-02</td>\n",
              "      <td>9.178582e-01</td>\n",
              "      <td>2.700539e-02</td>\n",
              "    </tr>\n",
              "    <tr>\n",
              "      <th>9</th>\n",
              "      <td>-0.019125</td>\n",
              "      <td>-0.087072</td>\n",
              "      <td>0.035636</td>\n",
              "      <td>0.070561</td>\n",
              "      <td>1.234687e-02</td>\n",
              "      <td>-0.000199</td>\n",
              "      <td>-0.001517</td>\n",
              "      <td>0.000467</td>\n",
              "      <td>1.249058e-03</td>\n",
              "      <td>0.039557</td>\n",
              "      <td>-0.039557</td>\n",
              "      <td>1.325831e-04</td>\n",
              "      <td>1.091393e-04</td>\n",
              "      <td>-3.926555e-02</td>\n",
              "      <td>1.113129e-02</td>\n",
              "      <td>7.624445e-05</td>\n",
              "      <td>9.755150e-01</td>\n",
              "      <td>2.423487e-02</td>\n",
              "      <td>1.691432e-01</td>\n",
              "      <td>5.078826e-03</td>\n",
              "    </tr>\n",
              "    <tr>\n",
              "      <th>10</th>\n",
              "      <td>-0.003190</td>\n",
              "      <td>-0.015711</td>\n",
              "      <td>0.006758</td>\n",
              "      <td>0.012143</td>\n",
              "      <td>1.208062e-02</td>\n",
              "      <td>0.000060</td>\n",
              "      <td>0.000457</td>\n",
              "      <td>-0.000712</td>\n",
              "      <td>1.949137e-04</td>\n",
              "      <td>0.006147</td>\n",
              "      <td>-0.006147</td>\n",
              "      <td>4.740212e-03</td>\n",
              "      <td>-1.932230e-03</td>\n",
              "      <td>-2.384219e-01</td>\n",
              "      <td>8.789590e-02</td>\n",
              "      <td>4.301489e-02</td>\n",
              "      <td>-4.206489e-02</td>\n",
              "      <td>9.646286e-01</td>\n",
              "      <td>2.450252e-02</td>\n",
              "      <td>1.519151e-03</td>\n",
              "    </tr>\n",
              "    <tr>\n",
              "      <th>11</th>\n",
              "      <td>-0.001177</td>\n",
              "      <td>-0.000798</td>\n",
              "      <td>0.000103</td>\n",
              "      <td>0.001872</td>\n",
              "      <td>-1.317387e-02</td>\n",
              "      <td>-0.000182</td>\n",
              "      <td>-0.000269</td>\n",
              "      <td>0.000502</td>\n",
              "      <td>-5.186339e-05</td>\n",
              "      <td>0.002066</td>\n",
              "      <td>-0.002066</td>\n",
              "      <td>-5.408015e-01</td>\n",
              "      <td>5.443983e-01</td>\n",
              "      <td>-6.056402e-01</td>\n",
              "      <td>1.314944e-01</td>\n",
              "      <td>2.571378e-02</td>\n",
              "      <td>-2.320672e-02</td>\n",
              "      <td>-1.601456e-01</td>\n",
              "      <td>6.245866e-03</td>\n",
              "      <td>-3.818869e-05</td>\n",
              "    </tr>\n",
              "    <tr>\n",
              "      <th>12</th>\n",
              "      <td>0.001335</td>\n",
              "      <td>0.001891</td>\n",
              "      <td>-0.000916</td>\n",
              "      <td>-0.002310</td>\n",
              "      <td>2.062505e-02</td>\n",
              "      <td>0.000328</td>\n",
              "      <td>0.000095</td>\n",
              "      <td>-0.000858</td>\n",
              "      <td>4.349957e-04</td>\n",
              "      <td>-0.002393</td>\n",
              "      <td>0.002393</td>\n",
              "      <td>-4.325017e-01</td>\n",
              "      <td>4.697710e-01</td>\n",
              "      <td>6.985700e-01</td>\n",
              "      <td>-2.488330e-01</td>\n",
              "      <td>-2.709492e-02</td>\n",
              "      <td>2.759736e-02</td>\n",
              "      <td>2.008441e-01</td>\n",
              "      <td>-7.469104e-03</td>\n",
              "      <td>5.046546e-04</td>\n",
              "    </tr>\n",
              "    <tr>\n",
              "      <th>13</th>\n",
              "      <td>-0.000317</td>\n",
              "      <td>0.000475</td>\n",
              "      <td>-0.000029</td>\n",
              "      <td>-0.000128</td>\n",
              "      <td>9.975832e-01</td>\n",
              "      <td>0.000043</td>\n",
              "      <td>-0.000225</td>\n",
              "      <td>0.000290</td>\n",
              "      <td>-1.074103e-04</td>\n",
              "      <td>0.000161</td>\n",
              "      <td>-0.000161</td>\n",
              "      <td>1.366333e-03</td>\n",
              "      <td>-2.032058e-03</td>\n",
              "      <td>-1.784244e-02</td>\n",
              "      <td>1.521599e-02</td>\n",
              "      <td>-5.044145e-03</td>\n",
              "      <td>-2.156730e-03</td>\n",
              "      <td>-1.656428e-02</td>\n",
              "      <td>-6.297867e-02</td>\n",
              "      <td>6.808520e-04</td>\n",
              "    </tr>\n",
              "    <tr>\n",
              "      <th>14</th>\n",
              "      <td>-0.000435</td>\n",
              "      <td>-0.003863</td>\n",
              "      <td>0.001603</td>\n",
              "      <td>0.002694</td>\n",
              "      <td>-9.359202e-03</td>\n",
              "      <td>0.000161</td>\n",
              "      <td>-0.000110</td>\n",
              "      <td>-0.000114</td>\n",
              "      <td>6.315483e-05</td>\n",
              "      <td>0.000569</td>\n",
              "      <td>-0.000569</td>\n",
              "      <td>-2.751158e-02</td>\n",
              "      <td>5.839631e-02</td>\n",
              "      <td>2.872161e-01</td>\n",
              "      <td>9.550018e-01</td>\n",
              "      <td>-3.102255e-02</td>\n",
              "      <td>-3.590017e-04</td>\n",
              "      <td>-1.453260e-02</td>\n",
              "      <td>4.913610e-03</td>\n",
              "      <td>-6.446737e-04</td>\n",
              "    </tr>\n",
              "    <tr>\n",
              "      <th>15</th>\n",
              "      <td>-0.000597</td>\n",
              "      <td>0.001067</td>\n",
              "      <td>-0.000463</td>\n",
              "      <td>-0.000007</td>\n",
              "      <td>5.248020e-03</td>\n",
              "      <td>0.000138</td>\n",
              "      <td>0.000152</td>\n",
              "      <td>-0.000459</td>\n",
              "      <td>1.687541e-04</td>\n",
              "      <td>0.000644</td>\n",
              "      <td>-0.000644</td>\n",
              "      <td>5.281374e-03</td>\n",
              "      <td>4.592549e-03</td>\n",
              "      <td>5.361416e-02</td>\n",
              "      <td>1.571997e-02</td>\n",
              "      <td>9.978609e-01</td>\n",
              "      <td>2.642162e-03</td>\n",
              "      <td>-3.264237e-02</td>\n",
              "      <td>2.898529e-04</td>\n",
              "      <td>9.447081e-05</td>\n",
              "    </tr>\n",
              "    <tr>\n",
              "      <th>16</th>\n",
              "      <td>0.000009</td>\n",
              "      <td>0.000116</td>\n",
              "      <td>-0.000023</td>\n",
              "      <td>-0.000103</td>\n",
              "      <td>-1.210800e-04</td>\n",
              "      <td>-0.000018</td>\n",
              "      <td>-0.000006</td>\n",
              "      <td>0.000024</td>\n",
              "      <td>4.280129e-07</td>\n",
              "      <td>-0.000093</td>\n",
              "      <td>0.000093</td>\n",
              "      <td>-7.208790e-01</td>\n",
              "      <td>-6.924639e-01</td>\n",
              "      <td>2.304860e-02</td>\n",
              "      <td>1.492720e-02</td>\n",
              "      <td>5.732968e-03</td>\n",
              "      <td>8.527171e-04</td>\n",
              "      <td>6.286785e-03</td>\n",
              "      <td>-2.794032e-04</td>\n",
              "      <td>-2.098079e-05</td>\n",
              "    </tr>\n",
              "    <tr>\n",
              "      <th>17</th>\n",
              "      <td>-0.498439</td>\n",
              "      <td>-0.498439</td>\n",
              "      <td>-0.498439</td>\n",
              "      <td>-0.498439</td>\n",
              "      <td>-3.229296e-16</td>\n",
              "      <td>0.024871</td>\n",
              "      <td>0.024871</td>\n",
              "      <td>0.024871</td>\n",
              "      <td>2.487108e-02</td>\n",
              "      <td>0.043358</td>\n",
              "      <td>0.043358</td>\n",
              "      <td>-3.113232e-15</td>\n",
              "      <td>-2.862348e-15</td>\n",
              "      <td>1.127570e-17</td>\n",
              "      <td>1.366095e-16</td>\n",
              "      <td>-2.170573e-16</td>\n",
              "      <td>2.636780e-16</td>\n",
              "      <td>5.308254e-16</td>\n",
              "      <td>3.556183e-17</td>\n",
              "      <td>-8.673617e-18</td>\n",
              "    </tr>\n",
              "    <tr>\n",
              "      <th>18</th>\n",
              "      <td>0.031656</td>\n",
              "      <td>0.031656</td>\n",
              "      <td>0.031656</td>\n",
              "      <td>0.031656</td>\n",
              "      <td>8.287777e-15</td>\n",
              "      <td>0.019777</td>\n",
              "      <td>0.019777</td>\n",
              "      <td>0.019777</td>\n",
              "      <td>1.977679e-02</td>\n",
              "      <td>0.705134</td>\n",
              "      <td>0.705134</td>\n",
              "      <td>-8.201549e-16</td>\n",
              "      <td>-7.862380e-16</td>\n",
              "      <td>3.480831e-16</td>\n",
              "      <td>-1.054116e-16</td>\n",
              "      <td>2.435254e-16</td>\n",
              "      <td>5.924081e-16</td>\n",
              "      <td>-6.591949e-17</td>\n",
              "      <td>1.349832e-17</td>\n",
              "      <td>-1.036497e-16</td>\n",
              "    </tr>\n",
              "    <tr>\n",
              "      <th>19</th>\n",
              "      <td>0.023589</td>\n",
              "      <td>0.023589</td>\n",
              "      <td>0.023589</td>\n",
              "      <td>0.023589</td>\n",
              "      <td>-1.398763e-15</td>\n",
              "      <td>0.498989</td>\n",
              "      <td>0.498989</td>\n",
              "      <td>0.498989</td>\n",
              "      <td>4.989893e-01</td>\n",
              "      <td>-0.030108</td>\n",
              "      <td>-0.030108</td>\n",
              "      <td>4.412574e-15</td>\n",
              "      <td>4.163782e-15</td>\n",
              "      <td>-5.403664e-16</td>\n",
              "      <td>-2.438913e-16</td>\n",
              "      <td>-3.591691e-16</td>\n",
              "      <td>-2.025290e-16</td>\n",
              "      <td>-3.361027e-16</td>\n",
              "      <td>-1.556914e-16</td>\n",
              "      <td>-2.954451e-17</td>\n",
              "    </tr>\n",
              "  </tbody>\n",
              "</table>\n",
              "</div>\n",
              "      <button class=\"colab-df-convert\" onclick=\"convertToInteractive('df-435fcb3f-b30a-46a1-952b-86ea1776c4b9')\"\n",
              "              title=\"Convert this dataframe to an interactive table.\"\n",
              "              style=\"display:none;\">\n",
              "        \n",
              "  <svg xmlns=\"http://www.w3.org/2000/svg\" height=\"24px\"viewBox=\"0 0 24 24\"\n",
              "       width=\"24px\">\n",
              "    <path d=\"M0 0h24v24H0V0z\" fill=\"none\"/>\n",
              "    <path d=\"M18.56 5.44l.94 2.06.94-2.06 2.06-.94-2.06-.94-.94-2.06-.94 2.06-2.06.94zm-11 1L8.5 8.5l.94-2.06 2.06-.94-2.06-.94L8.5 2.5l-.94 2.06-2.06.94zm10 10l.94 2.06.94-2.06 2.06-.94-2.06-.94-.94-2.06-.94 2.06-2.06.94z\"/><path d=\"M17.41 7.96l-1.37-1.37c-.4-.4-.92-.59-1.43-.59-.52 0-1.04.2-1.43.59L10.3 9.45l-7.72 7.72c-.78.78-.78 2.05 0 2.83L4 21.41c.39.39.9.59 1.41.59.51 0 1.02-.2 1.41-.59l7.78-7.78 2.81-2.81c.8-.78.8-2.07 0-2.86zM5.41 20L4 18.59l7.72-7.72 1.47 1.35L5.41 20z\"/>\n",
              "  </svg>\n",
              "      </button>\n",
              "      \n",
              "  <style>\n",
              "    .colab-df-container {\n",
              "      display:flex;\n",
              "      flex-wrap:wrap;\n",
              "      gap: 12px;\n",
              "    }\n",
              "\n",
              "    .colab-df-convert {\n",
              "      background-color: #E8F0FE;\n",
              "      border: none;\n",
              "      border-radius: 50%;\n",
              "      cursor: pointer;\n",
              "      display: none;\n",
              "      fill: #1967D2;\n",
              "      height: 32px;\n",
              "      padding: 0 0 0 0;\n",
              "      width: 32px;\n",
              "    }\n",
              "\n",
              "    .colab-df-convert:hover {\n",
              "      background-color: #E2EBFA;\n",
              "      box-shadow: 0px 1px 2px rgba(60, 64, 67, 0.3), 0px 1px 3px 1px rgba(60, 64, 67, 0.15);\n",
              "      fill: #174EA6;\n",
              "    }\n",
              "\n",
              "    [theme=dark] .colab-df-convert {\n",
              "      background-color: #3B4455;\n",
              "      fill: #D2E3FC;\n",
              "    }\n",
              "\n",
              "    [theme=dark] .colab-df-convert:hover {\n",
              "      background-color: #434B5C;\n",
              "      box-shadow: 0px 1px 3px 1px rgba(0, 0, 0, 0.15);\n",
              "      filter: drop-shadow(0px 1px 2px rgba(0, 0, 0, 0.3));\n",
              "      fill: #FFFFFF;\n",
              "    }\n",
              "  </style>\n",
              "\n",
              "      <script>\n",
              "        const buttonEl =\n",
              "          document.querySelector('#df-435fcb3f-b30a-46a1-952b-86ea1776c4b9 button.colab-df-convert');\n",
              "        buttonEl.style.display =\n",
              "          google.colab.kernel.accessAllowed ? 'block' : 'none';\n",
              "\n",
              "        async function convertToInteractive(key) {\n",
              "          const element = document.querySelector('#df-435fcb3f-b30a-46a1-952b-86ea1776c4b9');\n",
              "          const dataTable =\n",
              "            await google.colab.kernel.invokeFunction('convertToInteractive',\n",
              "                                                     [key], {});\n",
              "          if (!dataTable) return;\n",
              "\n",
              "          const docLinkHtml = 'Like what you see? Visit the ' +\n",
              "            '<a target=\"_blank\" href=https://colab.research.google.com/notebooks/data_table.ipynb>data table notebook</a>'\n",
              "            + ' to learn more about interactive tables.';\n",
              "          element.innerHTML = '';\n",
              "          dataTable['output_type'] = 'display_data';\n",
              "          await google.colab.output.renderOutput(dataTable, element);\n",
              "          const docLink = document.createElement('div');\n",
              "          docLink.innerHTML = docLinkHtml;\n",
              "          element.appendChild(docLink);\n",
              "        }\n",
              "      </script>\n",
              "    </div>\n",
              "  </div>\n",
              "  "
            ]
          },
          "metadata": {},
          "execution_count": 174
        }
      ]
    },
    {
      "cell_type": "code",
      "source": [
        "# Study the weights of component 15\n",
        "comp = abs(wheightsDF.iloc[0])  ## index 14 is component 15\n",
        "comp = comp.sort_values(ascending=False)\n",
        "comp"
      ],
      "metadata": {
        "colab": {
          "base_uri": "https://localhost:8080/"
        },
        "id": "EIHcLedj41gH",
        "outputId": "95cf4e52-5090-4896-d7f8-d54384c6396a"
      },
      "execution_count": 177,
      "outputs": [
        {
          "output_type": "execute_result",
          "data": {
            "text/plain": [
              "Children_0.0                 0.684180\n",
              "Children_1.0                 0.684180\n",
              "Age                          0.221727\n",
              "GeoLivArea_4.0               0.089756\n",
              "GeoLivArea_1.0               0.072625\n",
              "GeoLivArea_3.0               0.019027\n",
              "EducDeg_'3 - BSc/MSc'        0.015529\n",
              "PremLife                     0.014799\n",
              "MonthSal                     0.014254\n",
              "EducDeg_'1 - Basic'          0.012654\n",
              "YearsAsCustumer              0.007153\n",
              "EducDeg_'2 - High School'    0.005833\n",
              "PremMotor                    0.003545\n",
              "EducDeg_'4 - PhD'            0.002958\n",
              "PremWork                     0.002143\n",
              "GeoLivArea_2.0               0.001895\n",
              "PremHealth                   0.000957\n",
              "PremHousehold                0.000873\n",
              "ClaimsRate                   0.000043\n",
              "CustMonVal                   0.000006\n",
              "Name: 0, dtype: float64"
            ]
          },
          "metadata": {},
          "execution_count": 177
        }
      ]
    },
    {
      "cell_type": "markdown",
      "source": [
        "Wtf does this plot shows, does it even matter."
      ],
      "metadata": {
        "id": "JpWmPPO85V0V"
      }
    },
    {
      "cell_type": "code",
      "source": [
        "# Check the mean values of each cluster for top 30 relevant features\n",
        "top_features = comp[:30].index\n",
        "clustersMeanDF = pd.DataFrame(X[top_features].groupby(y_kmeans).mean(),columns=top_features)\n",
        "clustersMeanDF.transpose()"
      ],
      "metadata": {
        "colab": {
          "base_uri": "https://localhost:8080/",
          "height": 677
        },
        "id": "qKrVizqX47md",
        "outputId": "f9512266-2975-4e0d-e4f0-28a79cbefc4c"
      },
      "execution_count": 185,
      "outputs": [
        {
          "output_type": "execute_result",
          "data": {
            "text/plain": [
              "                                  0         1         2         3         4  \\\n",
              "Children_0.0               1.000000  0.000000  0.000000  0.000000  1.000000   \n",
              "Children_1.0               0.000000  1.000000  1.000000  1.000000  0.000000   \n",
              "Age                        0.745195  0.408238  0.415688  0.416734  0.657430   \n",
              "GeoLivArea_4.0             0.414454  0.000000  0.806661  0.000000  0.428301   \n",
              "GeoLivArea_1.0             0.286136  1.000000  0.000000  0.000000  0.274795   \n",
              "GeoLivArea_3.0             0.201327  0.000000  0.000000  0.918798  0.192040   \n",
              "EducDeg_'3 - BSc/MSc'      1.000000  0.471140  0.000000  0.439898  0.000000   \n",
              "PremLife                   0.100768  0.113880  0.132325  0.112602  0.177112   \n",
              "MonthSal                   0.055296  0.033727  0.035095  0.034012  0.049997   \n",
              "EducDeg_'1 - Basic'        0.000000  0.127640  0.000000  0.163683  0.233102   \n",
              "YearsAsCustumer            0.490659  0.504223  0.506939  0.498428  0.495631   \n",
              "EducDeg_'2 - High School'  0.000000  0.331300  1.000000  0.307545  0.638661   \n",
              "PremMotor                  0.025123  0.027475  0.024634  0.028626  0.018808   \n",
              "EducDeg_'4 - PhD'          0.000000  0.069920  0.000000  0.088875  0.128238   \n",
              "PremWork                   0.022982  0.025542  0.028795  0.025756  0.036315   \n",
              "GeoLivArea_2.0             0.098083  0.000000  0.193339  0.081202  0.104864   \n",
              "PremHealth                 0.007438  0.005619  0.006022  0.006161  0.007032   \n",
              "PremHousehold              0.009681  0.010698  0.013277  0.010954  0.015502   \n",
              "ClaimsRate                 0.002912  0.002734  0.002675  0.002940  0.002982   \n",
              "CustMonVal                 0.934105  0.934234  0.934370  0.934121  0.934155   \n",
              "\n",
              "                                  5  \n",
              "Children_0.0               0.000000  \n",
              "Children_1.0               1.000000  \n",
              "Age                        0.419919  \n",
              "GeoLivArea_4.0             0.850472  \n",
              "GeoLivArea_1.0             0.000000  \n",
              "GeoLivArea_3.0             0.000000  \n",
              "EducDeg_'3 - BSc/MSc'      0.752358  \n",
              "PremLife                   0.098493  \n",
              "MonthSal                   0.034383  \n",
              "EducDeg_'1 - Basic'        0.164151  \n",
              "YearsAsCustumer            0.497818  \n",
              "EducDeg_'2 - High School'  0.000000  \n",
              "PremMotor                  0.029797  \n",
              "EducDeg_'4 - PhD'          0.083491  \n",
              "PremWork                   0.022748  \n",
              "GeoLivArea_2.0             0.149528  \n",
              "PremHealth                 0.005357  \n",
              "PremHousehold              0.009681  \n",
              "ClaimsRate                 0.003145  \n",
              "CustMonVal                 0.933826  "
            ],
            "text/html": [
              "\n",
              "  <div id=\"df-87772c5e-0922-4603-8df0-dec94692115e\">\n",
              "    <div class=\"colab-df-container\">\n",
              "      <div>\n",
              "<style scoped>\n",
              "    .dataframe tbody tr th:only-of-type {\n",
              "        vertical-align: middle;\n",
              "    }\n",
              "\n",
              "    .dataframe tbody tr th {\n",
              "        vertical-align: top;\n",
              "    }\n",
              "\n",
              "    .dataframe thead th {\n",
              "        text-align: right;\n",
              "    }\n",
              "</style>\n",
              "<table border=\"1\" class=\"dataframe\">\n",
              "  <thead>\n",
              "    <tr style=\"text-align: right;\">\n",
              "      <th></th>\n",
              "      <th>0</th>\n",
              "      <th>1</th>\n",
              "      <th>2</th>\n",
              "      <th>3</th>\n",
              "      <th>4</th>\n",
              "      <th>5</th>\n",
              "    </tr>\n",
              "  </thead>\n",
              "  <tbody>\n",
              "    <tr>\n",
              "      <th>Children_0.0</th>\n",
              "      <td>1.000000</td>\n",
              "      <td>0.000000</td>\n",
              "      <td>0.000000</td>\n",
              "      <td>0.000000</td>\n",
              "      <td>1.000000</td>\n",
              "      <td>0.000000</td>\n",
              "    </tr>\n",
              "    <tr>\n",
              "      <th>Children_1.0</th>\n",
              "      <td>0.000000</td>\n",
              "      <td>1.000000</td>\n",
              "      <td>1.000000</td>\n",
              "      <td>1.000000</td>\n",
              "      <td>0.000000</td>\n",
              "      <td>1.000000</td>\n",
              "    </tr>\n",
              "    <tr>\n",
              "      <th>Age</th>\n",
              "      <td>0.745195</td>\n",
              "      <td>0.408238</td>\n",
              "      <td>0.415688</td>\n",
              "      <td>0.416734</td>\n",
              "      <td>0.657430</td>\n",
              "      <td>0.419919</td>\n",
              "    </tr>\n",
              "    <tr>\n",
              "      <th>GeoLivArea_4.0</th>\n",
              "      <td>0.414454</td>\n",
              "      <td>0.000000</td>\n",
              "      <td>0.806661</td>\n",
              "      <td>0.000000</td>\n",
              "      <td>0.428301</td>\n",
              "      <td>0.850472</td>\n",
              "    </tr>\n",
              "    <tr>\n",
              "      <th>GeoLivArea_1.0</th>\n",
              "      <td>0.286136</td>\n",
              "      <td>1.000000</td>\n",
              "      <td>0.000000</td>\n",
              "      <td>0.000000</td>\n",
              "      <td>0.274795</td>\n",
              "      <td>0.000000</td>\n",
              "    </tr>\n",
              "    <tr>\n",
              "      <th>GeoLivArea_3.0</th>\n",
              "      <td>0.201327</td>\n",
              "      <td>0.000000</td>\n",
              "      <td>0.000000</td>\n",
              "      <td>0.918798</td>\n",
              "      <td>0.192040</td>\n",
              "      <td>0.000000</td>\n",
              "    </tr>\n",
              "    <tr>\n",
              "      <th>EducDeg_'3 - BSc/MSc'</th>\n",
              "      <td>1.000000</td>\n",
              "      <td>0.471140</td>\n",
              "      <td>0.000000</td>\n",
              "      <td>0.439898</td>\n",
              "      <td>0.000000</td>\n",
              "      <td>0.752358</td>\n",
              "    </tr>\n",
              "    <tr>\n",
              "      <th>PremLife</th>\n",
              "      <td>0.100768</td>\n",
              "      <td>0.113880</td>\n",
              "      <td>0.132325</td>\n",
              "      <td>0.112602</td>\n",
              "      <td>0.177112</td>\n",
              "      <td>0.098493</td>\n",
              "    </tr>\n",
              "    <tr>\n",
              "      <th>MonthSal</th>\n",
              "      <td>0.055296</td>\n",
              "      <td>0.033727</td>\n",
              "      <td>0.035095</td>\n",
              "      <td>0.034012</td>\n",
              "      <td>0.049997</td>\n",
              "      <td>0.034383</td>\n",
              "    </tr>\n",
              "    <tr>\n",
              "      <th>EducDeg_'1 - Basic'</th>\n",
              "      <td>0.000000</td>\n",
              "      <td>0.127640</td>\n",
              "      <td>0.000000</td>\n",
              "      <td>0.163683</td>\n",
              "      <td>0.233102</td>\n",
              "      <td>0.164151</td>\n",
              "    </tr>\n",
              "    <tr>\n",
              "      <th>YearsAsCustumer</th>\n",
              "      <td>0.490659</td>\n",
              "      <td>0.504223</td>\n",
              "      <td>0.506939</td>\n",
              "      <td>0.498428</td>\n",
              "      <td>0.495631</td>\n",
              "      <td>0.497818</td>\n",
              "    </tr>\n",
              "    <tr>\n",
              "      <th>EducDeg_'2 - High School'</th>\n",
              "      <td>0.000000</td>\n",
              "      <td>0.331300</td>\n",
              "      <td>1.000000</td>\n",
              "      <td>0.307545</td>\n",
              "      <td>0.638661</td>\n",
              "      <td>0.000000</td>\n",
              "    </tr>\n",
              "    <tr>\n",
              "      <th>PremMotor</th>\n",
              "      <td>0.025123</td>\n",
              "      <td>0.027475</td>\n",
              "      <td>0.024634</td>\n",
              "      <td>0.028626</td>\n",
              "      <td>0.018808</td>\n",
              "      <td>0.029797</td>\n",
              "    </tr>\n",
              "    <tr>\n",
              "      <th>EducDeg_'4 - PhD'</th>\n",
              "      <td>0.000000</td>\n",
              "      <td>0.069920</td>\n",
              "      <td>0.000000</td>\n",
              "      <td>0.088875</td>\n",
              "      <td>0.128238</td>\n",
              "      <td>0.083491</td>\n",
              "    </tr>\n",
              "    <tr>\n",
              "      <th>PremWork</th>\n",
              "      <td>0.022982</td>\n",
              "      <td>0.025542</td>\n",
              "      <td>0.028795</td>\n",
              "      <td>0.025756</td>\n",
              "      <td>0.036315</td>\n",
              "      <td>0.022748</td>\n",
              "    </tr>\n",
              "    <tr>\n",
              "      <th>GeoLivArea_2.0</th>\n",
              "      <td>0.098083</td>\n",
              "      <td>0.000000</td>\n",
              "      <td>0.193339</td>\n",
              "      <td>0.081202</td>\n",
              "      <td>0.104864</td>\n",
              "      <td>0.149528</td>\n",
              "    </tr>\n",
              "    <tr>\n",
              "      <th>PremHealth</th>\n",
              "      <td>0.007438</td>\n",
              "      <td>0.005619</td>\n",
              "      <td>0.006022</td>\n",
              "      <td>0.006161</td>\n",
              "      <td>0.007032</td>\n",
              "      <td>0.005357</td>\n",
              "    </tr>\n",
              "    <tr>\n",
              "      <th>PremHousehold</th>\n",
              "      <td>0.009681</td>\n",
              "      <td>0.010698</td>\n",
              "      <td>0.013277</td>\n",
              "      <td>0.010954</td>\n",
              "      <td>0.015502</td>\n",
              "      <td>0.009681</td>\n",
              "    </tr>\n",
              "    <tr>\n",
              "      <th>ClaimsRate</th>\n",
              "      <td>0.002912</td>\n",
              "      <td>0.002734</td>\n",
              "      <td>0.002675</td>\n",
              "      <td>0.002940</td>\n",
              "      <td>0.002982</td>\n",
              "      <td>0.003145</td>\n",
              "    </tr>\n",
              "    <tr>\n",
              "      <th>CustMonVal</th>\n",
              "      <td>0.934105</td>\n",
              "      <td>0.934234</td>\n",
              "      <td>0.934370</td>\n",
              "      <td>0.934121</td>\n",
              "      <td>0.934155</td>\n",
              "      <td>0.933826</td>\n",
              "    </tr>\n",
              "  </tbody>\n",
              "</table>\n",
              "</div>\n",
              "      <button class=\"colab-df-convert\" onclick=\"convertToInteractive('df-87772c5e-0922-4603-8df0-dec94692115e')\"\n",
              "              title=\"Convert this dataframe to an interactive table.\"\n",
              "              style=\"display:none;\">\n",
              "        \n",
              "  <svg xmlns=\"http://www.w3.org/2000/svg\" height=\"24px\"viewBox=\"0 0 24 24\"\n",
              "       width=\"24px\">\n",
              "    <path d=\"M0 0h24v24H0V0z\" fill=\"none\"/>\n",
              "    <path d=\"M18.56 5.44l.94 2.06.94-2.06 2.06-.94-2.06-.94-.94-2.06-.94 2.06-2.06.94zm-11 1L8.5 8.5l.94-2.06 2.06-.94-2.06-.94L8.5 2.5l-.94 2.06-2.06.94zm10 10l.94 2.06.94-2.06 2.06-.94-2.06-.94-.94-2.06-.94 2.06-2.06.94z\"/><path d=\"M17.41 7.96l-1.37-1.37c-.4-.4-.92-.59-1.43-.59-.52 0-1.04.2-1.43.59L10.3 9.45l-7.72 7.72c-.78.78-.78 2.05 0 2.83L4 21.41c.39.39.9.59 1.41.59.51 0 1.02-.2 1.41-.59l7.78-7.78 2.81-2.81c.8-.78.8-2.07 0-2.86zM5.41 20L4 18.59l7.72-7.72 1.47 1.35L5.41 20z\"/>\n",
              "  </svg>\n",
              "      </button>\n",
              "      \n",
              "  <style>\n",
              "    .colab-df-container {\n",
              "      display:flex;\n",
              "      flex-wrap:wrap;\n",
              "      gap: 12px;\n",
              "    }\n",
              "\n",
              "    .colab-df-convert {\n",
              "      background-color: #E8F0FE;\n",
              "      border: none;\n",
              "      border-radius: 50%;\n",
              "      cursor: pointer;\n",
              "      display: none;\n",
              "      fill: #1967D2;\n",
              "      height: 32px;\n",
              "      padding: 0 0 0 0;\n",
              "      width: 32px;\n",
              "    }\n",
              "\n",
              "    .colab-df-convert:hover {\n",
              "      background-color: #E2EBFA;\n",
              "      box-shadow: 0px 1px 2px rgba(60, 64, 67, 0.3), 0px 1px 3px 1px rgba(60, 64, 67, 0.15);\n",
              "      fill: #174EA6;\n",
              "    }\n",
              "\n",
              "    [theme=dark] .colab-df-convert {\n",
              "      background-color: #3B4455;\n",
              "      fill: #D2E3FC;\n",
              "    }\n",
              "\n",
              "    [theme=dark] .colab-df-convert:hover {\n",
              "      background-color: #434B5C;\n",
              "      box-shadow: 0px 1px 3px 1px rgba(0, 0, 0, 0.15);\n",
              "      filter: drop-shadow(0px 1px 2px rgba(0, 0, 0, 0.3));\n",
              "      fill: #FFFFFF;\n",
              "    }\n",
              "  </style>\n",
              "\n",
              "      <script>\n",
              "        const buttonEl =\n",
              "          document.querySelector('#df-87772c5e-0922-4603-8df0-dec94692115e button.colab-df-convert');\n",
              "        buttonEl.style.display =\n",
              "          google.colab.kernel.accessAllowed ? 'block' : 'none';\n",
              "\n",
              "        async function convertToInteractive(key) {\n",
              "          const element = document.querySelector('#df-87772c5e-0922-4603-8df0-dec94692115e');\n",
              "          const dataTable =\n",
              "            await google.colab.kernel.invokeFunction('convertToInteractive',\n",
              "                                                     [key], {});\n",
              "          if (!dataTable) return;\n",
              "\n",
              "          const docLinkHtml = 'Like what you see? Visit the ' +\n",
              "            '<a target=\"_blank\" href=https://colab.research.google.com/notebooks/data_table.ipynb>data table notebook</a>'\n",
              "            + ' to learn more about interactive tables.';\n",
              "          element.innerHTML = '';\n",
              "          dataTable['output_type'] = 'display_data';\n",
              "          await google.colab.output.renderOutput(dataTable, element);\n",
              "          const docLink = document.createElement('div');\n",
              "          docLink.innerHTML = docLinkHtml;\n",
              "          element.appendChild(docLink);\n",
              "        }\n",
              "      </script>\n",
              "    </div>\n",
              "  </div>\n",
              "  "
            ]
          },
          "metadata": {},
          "execution_count": 185
        }
      ]
    },
    {
      "cell_type": "markdown",
      "source": [
        "- We obviously needs to bin the numerical variables in order to be able to comment the obtained clusters. "
      ],
      "metadata": {
        "id": "qr69uba8-htm"
      }
    },
    {
      "cell_type": "code",
      "source": [
        ""
      ],
      "metadata": {
        "id": "YuyKHNHN5e-K"
      },
      "execution_count": null,
      "outputs": []
    }
  ],
  "metadata": {
    "interpreter": {
      "hash": "d7a18bc08bf6b314cad8b0dd8f53415ad78d1015cc806d14e4873c235fb4e191"
    },
    "kernelspec": {
      "display_name": "Python 3.8.5 64-bit ('base': conda)",
      "name": "python3"
    },
    "language_info": {
      "codemirror_mode": {
        "name": "ipython",
        "version": 3
      },
      "file_extension": ".py",
      "mimetype": "text/x-python",
      "name": "python",
      "nbconvert_exporter": "python",
      "pygments_lexer": "ipython3",
      "version": "3.8.5"
    },
    "orig_nbformat": 4,
    "colab": {
      "name": "Project3_GroupD.ipynb",
      "provenance": [],
      "collapsed_sections": [],
      "toc_visible": true,
      "include_colab_link": true
    }
  },
  "nbformat": 4,
  "nbformat_minor": 0
}